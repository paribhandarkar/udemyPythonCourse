{
 "cells": [
  {
   "cell_type": "markdown",
   "id": "8753b2fe",
   "metadata": {},
   "source": [
    "Python has this concept called decorators that allow you to quickly tack on extra functionality to an already existing function.\n",
    "And then if you no longer want that functionality, you just delete one line from the decorator.\n",
    "\n",
    "So they use the @ operator and are then placed on top of the original function. So you can easily add on or turn off extra functionality with a decorator."
   ]
  },
  {
   "cell_type": "code",
   "execution_count": 1,
   "id": "a51582af",
   "metadata": {},
   "outputs": [],
   "source": [
    "def func():\n",
    "    return \"hello\""
   ]
  },
  {
   "cell_type": "code",
   "execution_count": 4,
   "id": "6f2ba507",
   "metadata": {},
   "outputs": [
    {
     "data": {
      "text/plain": [
       "<function __main__.func()>"
      ]
     },
     "execution_count": 4,
     "metadata": {},
     "output_type": "execute_result"
    }
   ],
   "source": [
    "func"
   ]
  },
  {
   "cell_type": "markdown",
   "id": "3bed6bd1",
   "metadata": {},
   "source": [
    "Remember, we also discussed that if you just say funk with open and close parentheses, you'll get\n",
    "back the information that, hey, you have a function here, you won't actually execute the function.\n",
    "That means we can actually assign functions to other variables and then execute them off that variable."
   ]
  },
  {
   "cell_type": "code",
   "execution_count": 5,
   "id": "7ae4a3ca",
   "metadata": {},
   "outputs": [],
   "source": [
    "greet = func"
   ]
  },
  {
   "cell_type": "code",
   "execution_count": 6,
   "id": "dde82722",
   "metadata": {},
   "outputs": [
    {
     "data": {
      "text/plain": [
       "'hello'"
      ]
     },
     "execution_count": 6,
     "metadata": {},
     "output_type": "execute_result"
    }
   ],
   "source": [
    "func()"
   ]
  },
  {
   "cell_type": "code",
   "execution_count": 7,
   "id": "5c1c7342",
   "metadata": {},
   "outputs": [
    {
     "data": {
      "text/plain": [
       "'hello'"
      ]
     },
     "execution_count": 7,
     "metadata": {},
     "output_type": "execute_result"
    }
   ],
   "source": [
    "greet()"
   ]
  },
  {
   "cell_type": "code",
   "execution_count": 9,
   "id": "60be9028",
   "metadata": {},
   "outputs": [],
   "source": [
    "del func"
   ]
  },
  {
   "cell_type": "code",
   "execution_count": 10,
   "id": "d7892e30",
   "metadata": {},
   "outputs": [
    {
     "data": {
      "text/plain": [
       "'hello'"
      ]
     },
     "execution_count": 10,
     "metadata": {},
     "output_type": "execute_result"
    }
   ],
   "source": [
    "greet()"
   ]
  },
  {
   "cell_type": "markdown",
   "id": "819e5434",
   "metadata": {},
   "source": [
    "So even though we deleted the name func(), the name greet is actually still pointing to that original function object.\n",
    "And it's important to know that functions are objects that can be passed into other objects."
   ]
  },
  {
   "cell_type": "markdown",
   "id": "50de9b16",
   "metadata": {},
   "source": [
    "### another eg."
   ]
  },
  {
   "cell_type": "code",
   "execution_count": 16,
   "id": "e81f6905",
   "metadata": {},
   "outputs": [],
   "source": [
    "def hello(name='pari'):\n",
    "    print('The hello() function has been executed')\n",
    "    \n",
    "    def greet():\n",
    "        return '\\t This is inside the greet() function'\n",
    "    \n",
    "    def welcome():\n",
    "        return \"\\t This is inside the welcome() function\"\n",
    "    \n",
    "    print(greet())\n",
    "    print(welcome())\n",
    "    print(\"Now we are back inside the hello() function\")"
   ]
  },
  {
   "cell_type": "code",
   "execution_count": 12,
   "id": "8758b1e1",
   "metadata": {},
   "outputs": [
    {
     "name": "stdout",
     "output_type": "stream",
     "text": [
      "The hello() function has been executed\n",
      "\t This is inside the greet() function\n",
      "\t This is inside the welcome() function\n",
      "Now we are back inside the hello() function\n"
     ]
    }
   ],
   "source": [
    "hello()"
   ]
  },
  {
   "cell_type": "code",
   "execution_count": 14,
   "id": "1ce32935",
   "metadata": {},
   "outputs": [
    {
     "ename": "NameError",
     "evalue": "name 'welcome' is not defined",
     "output_type": "error",
     "traceback": [
      "\u001b[1;31m---------------------------------------------------------------------------\u001b[0m",
      "\u001b[1;31mNameError\u001b[0m                                 Traceback (most recent call last)",
      "\u001b[1;32m~\\AppData\\Local\\Temp\\ipykernel_4376\\241228648.py\u001b[0m in \u001b[0;36m<module>\u001b[1;34m\u001b[0m\n\u001b[1;32m----> 1\u001b[1;33m \u001b[0mwelcome\u001b[0m\u001b[1;33m(\u001b[0m\u001b[1;33m)\u001b[0m\u001b[1;33m\u001b[0m\u001b[1;33m\u001b[0m\u001b[0m\n\u001b[0m",
      "\u001b[1;31mNameError\u001b[0m: name 'welcome' is not defined"
     ]
    }
   ],
   "source": [
    "welcome()"
   ]
  },
  {
   "cell_type": "markdown",
   "id": "27c6c04f",
   "metadata": {},
   "source": [
    "Now something to notice here is that greet is defined inside of the hello function and welcome is defined inside of the hello function.\n",
    "That means their scope is limited to the hello function. I can only execute, greet and welcome inside of hello if I try to execute them outside of this hello function for example if I try to call welcome.\n",
    "It says, Hey, welcome is not defined, which makes sense because it was only defined inside of this hello function.\n",
    "\n",
    "And as long as you didn't define great earlier, it will also end up being an error.\n",
    "So here we have this idea that greet and welcome their scope is limited to hello.\n",
    "\n",
    "But what if we want to access these functions outside of hello?"
   ]
  },
  {
   "cell_type": "markdown",
   "id": "1515e6bf",
   "metadata": {},
   "source": [
    "What we could do is have the hello function actually return a function."
   ]
  },
  {
   "cell_type": "markdown",
   "id": "8f726cd5",
   "metadata": {},
   "source": [
    "### returning functions"
   ]
  },
  {
   "cell_type": "code",
   "execution_count": 20,
   "id": "c08145d5",
   "metadata": {},
   "outputs": [],
   "source": [
    "def hello(name='pari'):\n",
    "    \n",
    "    def greet():\n",
    "        return '\\t This is inside the greet() function'\n",
    "    \n",
    "    def welcome():\n",
    "        return \"\\t This is inside the welcome() function\"\n",
    "    \n",
    "    if name == 'pari':\n",
    "        return greet\n",
    "    else:\n",
    "        return welcome"
   ]
  },
  {
   "cell_type": "code",
   "execution_count": 21,
   "id": "947407b7",
   "metadata": {},
   "outputs": [],
   "source": [
    "my_new_func = hello()"
   ]
  },
  {
   "cell_type": "code",
   "execution_count": 22,
   "id": "4275b54e",
   "metadata": {},
   "outputs": [
    {
     "data": {
      "text/plain": [
       "'\\t This is inside the greet() function'"
      ]
     },
     "execution_count": 22,
     "metadata": {},
     "output_type": "execute_result"
    }
   ],
   "source": [
    "my_new_func()"
   ]
  },
  {
   "cell_type": "markdown",
   "id": "37151b7d",
   "metadata": {},
   "source": [
    "In the if/else clause we are returning greet and welcome, not greet() and welcome().\n",
    "\n",
    "This is because when you put a pair of parentheses after it, the function gets executed; whereas if you don’t put parentheses after it, then it can be passed around and can be assigned to other variables without executing it."
   ]
  },
  {
   "cell_type": "markdown",
   "id": "3398539e",
   "metadata": {},
   "source": [
    "So this is the idea of being able to return a function within another function."
   ]
  },
  {
   "cell_type": "markdown",
   "id": "e99ba9c6",
   "metadata": {},
   "source": [
    "### another eg."
   ]
  },
  {
   "cell_type": "code",
   "execution_count": 25,
   "id": "7e6ad8cc",
   "metadata": {},
   "outputs": [],
   "source": [
    "def hello():\n",
    "    return 'Hi pari!'\n",
    "\n",
    "def other(func):\n",
    "    print(func())    "
   ]
  },
  {
   "cell_type": "code",
   "execution_count": 26,
   "id": "0c4d8ed5",
   "metadata": {},
   "outputs": [
    {
     "name": "stdout",
     "output_type": "stream",
     "text": [
      "Hi pari!\n"
     ]
    }
   ],
   "source": [
    "other(hello)"
   ]
  },
  {
   "cell_type": "markdown",
   "id": "db3c6701",
   "metadata": {},
   "source": [
    "it means I'm going to be able to actually pass in a function into this other function, do some stuff, and then execute the function.\n",
    "This is known as passing a function as an argument."
   ]
  },
  {
   "cell_type": "markdown",
   "id": "ed9592d9",
   "metadata": {},
   "source": [
    "### creating a decorator"
   ]
  },
  {
   "cell_type": "code",
   "execution_count": 27,
   "id": "1f722c03",
   "metadata": {},
   "outputs": [],
   "source": [
    "def new_decorator(func):\n",
    "\n",
    "    def wrap_func():\n",
    "        print(\"Code would be here, before executing the func\")\n",
    "\n",
    "        func()\n",
    "\n",
    "        print(\"Code here will execute after the func()\")\n",
    "\n",
    "    return wrap_func\n",
    "\n",
    "def func_needs_decorator():\n",
    "    print(\"This function is in need of a Decorator\")"
   ]
  },
  {
   "cell_type": "code",
   "execution_count": 28,
   "id": "f319a290",
   "metadata": {},
   "outputs": [
    {
     "name": "stdout",
     "output_type": "stream",
     "text": [
      "This function is in need of a Decorator\n"
     ]
    }
   ],
   "source": [
    "func_needs_decorator()"
   ]
  },
  {
   "cell_type": "code",
   "execution_count": 29,
   "id": "88168f8b",
   "metadata": {},
   "outputs": [],
   "source": [
    "# Reassign func_needs_decorator\n",
    "func_needs_decorator = new_decorator(func_needs_decorator)"
   ]
  },
  {
   "cell_type": "code",
   "execution_count": 30,
   "id": "9e9217c2",
   "metadata": {},
   "outputs": [
    {
     "name": "stdout",
     "output_type": "stream",
     "text": [
      "Code would be here, before executing the func\n",
      "This function is in need of a Decorator\n",
      "Code here will execute after the func()\n"
     ]
    }
   ],
   "source": [
    "func_needs_decorator()"
   ]
  },
  {
   "cell_type": "markdown",
   "id": "cc22de0a",
   "metadata": {},
   "source": [
    "Realistically, you really won't be having to do this sort of coding of a new decorator or the wrapping function, etc..\n",
    "\n",
    "Well, you will be doing is you're going to be using a web framework or someone else's library and just adding in these new decorators to maybe render a new website or point to another page.\n",
    "\n",
    "So they're really commonly used in web frameworks such as Django or Flask, which is why it's important to understand behind the scenes what the decorator is actually doing."
   ]
  },
  {
   "cell_type": "code",
   "execution_count": 32,
   "id": "00a3b158",
   "metadata": {},
   "outputs": [],
   "source": [
    "@new_decorator\n",
    "def func_needs_decorator():\n",
    "    print(\"This function is in need of a Decorator\")"
   ]
  },
  {
   "cell_type": "code",
   "execution_count": 33,
   "id": "7770897d",
   "metadata": {},
   "outputs": [
    {
     "name": "stdout",
     "output_type": "stream",
     "text": [
      "Code would be here, before executing the func\n",
      "This function is in need of a Decorator\n",
      "Code here will execute after the func()\n"
     ]
    }
   ],
   "source": [
    "func_needs_decorator()"
   ]
  }
 ],
 "metadata": {
  "kernelspec": {
   "display_name": "Python 3 (ipykernel)",
   "language": "python",
   "name": "python3"
  },
  "language_info": {
   "codemirror_mode": {
    "name": "ipython",
    "version": 3
   },
   "file_extension": ".py",
   "mimetype": "text/x-python",
   "name": "python",
   "nbconvert_exporter": "python",
   "pygments_lexer": "ipython3",
   "version": "3.9.13"
  }
 },
 "nbformat": 4,
 "nbformat_minor": 5
}
