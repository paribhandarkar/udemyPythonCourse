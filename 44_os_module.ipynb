{
 "cells": [
  {
   "cell_type": "markdown",
   "id": "f7121248",
   "metadata": {},
   "source": [
    "we're going to be focusing on two built in modules which relate to opening and reading files and folders on your computer.\n",
    "\n",
    "And that is the (Shell Utilities) shutil module and the os module\n",
    "\n",
    "we already know how to open an individual file with Python but we still don't know how to do a few things, such as what if we have to open every file in a directory and read and write to it?\n",
    "How will we actually find those correct directories and loop through them, especially if there were subfolders within subfolders?\n",
    "Also, what if we actually want it to move files around on our own computer?\n",
    "\n",
    "Python's OS module and Shell Utilities module allow us to easily navigate files and directories on the computer and then perform actions on them, such as moving them or deleting them."
   ]
  },
  {
   "cell_type": "code",
   "execution_count": 1,
   "id": "34e9d598",
   "metadata": {},
   "outputs": [
    {
     "data": {
      "text/plain": [
       "'C:\\\\Users\\\\Lenovo\\\\Documents\\\\python prac notebooks'"
      ]
     },
     "execution_count": 1,
     "metadata": {},
     "output_type": "execute_result"
    }
   ],
   "source": [
    "pwd # this is kind of a special command within Jupiter."
   ]
  },
  {
   "cell_type": "markdown",
   "id": "01c31502",
   "metadata": {},
   "source": [
    "it will report back your current working directory\n",
    "\n",
    "The second most important thing to note here is that actually reports back the syntax structure for writing a file path for whatever your operating system happens to be.\n",
    "In my case, I'm using windows, so it separates folders or directories with this double backslash and that sort of formatting is important later on.\n",
    "So keep that in mind.\n",
    "If you're using something like Linux or Mac OS, it's probably going to show you a forward slash, but it should show you the correct format."
   ]
  },
  {
   "cell_type": "code",
   "execution_count": 10,
   "id": "5eecc144",
   "metadata": {},
   "outputs": [],
   "source": [
    "f = open('practice.txt', 'w+')\n",
    "f.write('this is a test string')\n",
    "f.close()"
   ]
  },
  {
   "cell_type": "markdown",
   "id": "156d6ba2",
   "metadata": {},
   "source": [
    "So if you run this, basically what happens is it's going to open up, practice.txt file and overwrite.\n",
    "\"This is a test string\" on it and close it off."
   ]
  },
  {
   "cell_type": "markdown",
   "id": "058c63cb",
   "metadata": {},
   "source": [
    "So the OS module is really useful because it allows you to do things like get the current working directory or list all the files in a directory. And these commands work across all operating systems."
   ]
  },
  {
   "cell_type": "code",
   "execution_count": 4,
   "id": "c5757135",
   "metadata": {},
   "outputs": [],
   "source": [
    "import os"
   ]
  },
  {
   "cell_type": "code",
   "execution_count": 5,
   "id": "729461ab",
   "metadata": {},
   "outputs": [
    {
     "data": {
      "text/plain": [
       "'C:\\\\Users\\\\Lenovo\\\\Documents\\\\python prac notebooks'"
      ]
     },
     "execution_count": 5,
     "metadata": {},
     "output_type": "execute_result"
    }
   ],
   "source": [
    "os.getcwd() # will work within any Python script"
   ]
  },
  {
   "cell_type": "markdown",
   "id": "d5c47af7",
   "metadata": {},
   "source": [
    " it will also report back the current working directory."
   ]
  },
  {
   "cell_type": "code",
   "execution_count": 6,
   "id": "ba18cbfd",
   "metadata": {},
   "outputs": [
    {
     "data": {
      "text/plain": [
       "['.ipynb_checkpoints',\n",
       " '36_exception_handling.ipynb',\n",
       " '37_exception_handling_hw.ipynb',\n",
       " '40_decorators.ipynb',\n",
       " '41_generators.ipynb',\n",
       " '42_generators_hw.ipynb',\n",
       " '43_collections module.ipynb',\n",
       " '44_os_module.ipynb',\n",
       " 'milestone project 2',\n",
       " 'practice,txt']"
      ]
     },
     "execution_count": 6,
     "metadata": {},
     "output_type": "execute_result"
    }
   ],
   "source": [
    "os.listdir()"
   ]
  },
  {
   "cell_type": "markdown",
   "id": "d6e7cc4d",
   "metadata": {},
   "source": [
    "it will list everything in my current directory. So here I can see all the notebooks I had, I can see some folders, the text file, as well as the practice.txt file and my current notebook\n",
    "\n",
    "if I wanted to, for instance, figure out what are all the files and folders I have under users, I can run that and now it's going to list everything underneath users. This will be very useful if you wanted to maybe have a for loop to open up all the files in a directory"
   ]
  },
  {
   "cell_type": "code",
   "execution_count": 7,
   "id": "8c0cd179",
   "metadata": {},
   "outputs": [
    {
     "data": {
      "text/plain": [
       "['All Users', 'Default', 'Default User', 'desktop.ini', 'Lenovo', 'Public']"
      ]
     },
     "execution_count": 7,
     "metadata": {},
     "output_type": "execute_result"
    }
   ],
   "source": [
    "os.listdir('C:\\\\Users')"
   ]
  },
  {
   "cell_type": "code",
   "execution_count": 8,
   "id": "81f5cfa2",
   "metadata": {},
   "outputs": [],
   "source": [
    "import shutil"
   ]
  },
  {
   "cell_type": "markdown",
   "id": "c972b46b",
   "metadata": {},
   "source": [
    "it can be used to move files in different directions or in different locations"
   ]
  },
  {
   "cell_type": "code",
   "execution_count": 11,
   "id": "03ff1263",
   "metadata": {},
   "outputs": [
    {
     "data": {
      "text/plain": [
       "'C:\\\\Users\\\\Lenovo\\\\Documents\\\\practice.txt'"
      ]
     },
     "execution_count": 11,
     "metadata": {},
     "output_type": "execute_result"
    }
   ],
   "source": [
    "shutil.move('practice.txt', 'C:\\\\Users\\\\Lenovo\\\\Documents')"
   ]
  },
  {
   "cell_type": "markdown",
   "id": "7ee1da52",
   "metadata": {},
   "source": [
    "basically reports back that this practice, that text file is now located underneath Documents\n",
    "\n",
    "And it essentially just takes two main parameters, which is src, the source and dst the destination.\n",
    "So it's very similar to the UNIX MV Command. If you're comfortable with the Linux command line, this should feel familiar.\n",
    "Essentially what we're saying is take this source and move it to this destination.\n",
    "\n",
    "And the next thing I need to do is tell Python where I want to move this file to. I need to choose somewhere where I actually have permission to move it to.\n",
    "So if you're running this on a work computer or work network where you don't have full admin permissions, you may actually encounter an error here.\n",
    "So make sure you have permissions on your computer to do this."
   ]
  },
  {
   "cell_type": "code",
   "execution_count": 12,
   "id": "7badf806",
   "metadata": {},
   "outputs": [
    {
     "data": {
      "text/plain": [
       "['.ipynb_checkpoints',\n",
       " 'My Music',\n",
       " 'My Pictures',\n",
       " 'My Videos',\n",
       " 'practice.txt',\n",
       " 'python prac notebooks']"
      ]
     },
     "execution_count": 12,
     "metadata": {},
     "output_type": "execute_result"
    }
   ],
   "source": [
    "os.listdir('C:\\\\Users\\\\Lenovo\\\\Documents') # And I should somewhere here be able to see that practice.txt file."
   ]
  },
  {
   "cell_type": "markdown",
   "id": "33ca256c",
   "metadata": {},
   "source": [
    "So I was able to take a file and programmatically move it somewhere else on my computer."
   ]
  },
  {
   "cell_type": "markdown",
   "id": "a5c004d5",
   "metadata": {},
   "source": [
    "the OS module provides three methods for deleting files.\n",
    "\n",
    "os.unlink(path) which deletes a file at the path your provide\n",
    "\n",
    "os.rmdir(path) which deletes a folder (folder must be empty) at the path your provide\n",
    "\n",
    "shutil.rmtree(path) this is the most dangerous, as it will remove all files and folders contained in the path.\n",
    "\n",
    "All of these methods can not be reversed! Which means if you make a mistake you won't be able to recover the file. Instead we will use the send2trash module. A safer alternative that sends deleted files to the trash bin instead of permanent removal.\n",
    "\n",
    "Install the send2trash module with:\n",
    "\n",
    "<code> pip install send2trash </code>\n",
    "\n",
    "at your command line."
   ]
  },
  {
   "cell_type": "code",
   "execution_count": 14,
   "id": "117ed897",
   "metadata": {},
   "outputs": [
    {
     "ename": "TypeError",
     "evalue": "walk() missing 1 required positional argument: 'top'",
     "output_type": "error",
     "traceback": [
      "\u001b[1;31m---------------------------------------------------------------------------\u001b[0m",
      "\u001b[1;31mTypeError\u001b[0m                                 Traceback (most recent call last)",
      "\u001b[1;32m~\\AppData\\Local\\Temp\\ipykernel_9260\\30872981.py\u001b[0m in \u001b[0;36m<module>\u001b[1;34m\u001b[0m\n\u001b[1;32m----> 1\u001b[1;33m \u001b[0mos\u001b[0m\u001b[1;33m.\u001b[0m\u001b[0mwalk\u001b[0m\u001b[1;33m(\u001b[0m\u001b[1;33m)\u001b[0m\u001b[1;33m\u001b[0m\u001b[1;33m\u001b[0m\u001b[0m\n\u001b[0m",
      "\u001b[1;31mTypeError\u001b[0m: walk() missing 1 required positional argument: 'top'"
     ]
    }
   ],
   "source": [
    "os.walk()"
   ]
  },
  {
   "cell_type": "markdown",
   "id": "111a34e8",
   "metadata": {},
   "source": [
    "it essentially takes in one parameter top and it says it's a directory tree generator, which essentially\n",
    "what that means is for each directory in the directory tree rooted at the top, it's going to yield\n",
    "a tuple, the directory path, the directory names and then the file names."
   ]
  },
  {
   "cell_type": "markdown",
   "id": "0c59e795",
   "metadata": {},
   "source": [
    "check out the git notebooks for its functionality"
   ]
  },
  {
   "cell_type": "markdown",
   "id": "662445c4",
   "metadata": {},
   "source": [
    "OS walk, what it's going to do is essentially make a tree and it's going to look at every single thing inside of this file path location.\n",
    "It's going to look at the folder, it's going to look at the subdirectories or subfolders, and then it's going to look at the files.\n",
    "\n",
    "And hopefully what you can do then is add in logic.\n",
    "So maybe you're looking for every text file within a certain directory that starts with the year 2010 or 2020 or something like that.\n",
    "\n",
    "Well, you could use this and then have some sort of if statement to check the file names. And now you can very quickly and programmatically look within directories, within directories.\n",
    "\n",
    "So OS walk is extremely useful."
   ]
  }
 ],
 "metadata": {
  "kernelspec": {
   "display_name": "Python 3 (ipykernel)",
   "language": "python",
   "name": "python3"
  },
  "language_info": {
   "codemirror_mode": {
    "name": "ipython",
    "version": 3
   },
   "file_extension": ".py",
   "mimetype": "text/x-python",
   "name": "python",
   "nbconvert_exporter": "python",
   "pygments_lexer": "ipython3",
   "version": "3.9.13"
  }
 },
 "nbformat": 4,
 "nbformat_minor": 5
}
