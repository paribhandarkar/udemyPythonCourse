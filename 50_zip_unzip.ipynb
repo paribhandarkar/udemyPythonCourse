{
 "cells": [
  {
   "cell_type": "markdown",
   "id": "be389df2",
   "metadata": {},
   "source": [
    "A zip file is just a compressed file, meaning you can take a bunch of files and compress them to save\n",
    "space inside of a zip file.\n",
    "\n",
    "What we're going to do here is learn how we can do this programmatically.\n",
    "With Python, we will create a zip file, compress text files, and then insert them into the zip file.\n",
    "Close it and then we'll show you how to unzip the information back into a folder of your choosing."
   ]
  },
  {
   "cell_type": "code",
   "execution_count": 1,
   "id": "928a922e",
   "metadata": {},
   "outputs": [],
   "source": [
    "f = open('file1.txt','w+')\n",
    "f.write('one file text')\n",
    "f.close()"
   ]
  },
  {
   "cell_type": "code",
   "execution_count": 2,
   "id": "c23cb38f",
   "metadata": {},
   "outputs": [],
   "source": [
    "f = open('file2.txt','w+')\n",
    "f.write('two file text')\n",
    "f.close()"
   ]
  },
  {
   "cell_type": "code",
   "execution_count": 3,
   "id": "75a0faae",
   "metadata": {},
   "outputs": [],
   "source": [
    "import zipfile"
   ]
  },
  {
   "cell_type": "markdown",
   "id": "3d9d8db3",
   "metadata": {},
   "source": [
    "This is built into Python and we can use it to compress files.\n",
    "\n",
    "Essentially, it creates a zip file and then you can compress individual files and insert them into\n",
    "the zip file."
   ]
  },
  {
   "cell_type": "code",
   "execution_count": 4,
   "id": "c47dbaf8",
   "metadata": {},
   "outputs": [],
   "source": [
    "compressed_file = zipfile.ZipFile('compressed_file.zip', 'w') # create the zip file first. notice the capitalized Z and F"
   ]
  },
  {
   "cell_type": "markdown",
   "id": "f0cda421",
   "metadata": {},
   "source": [
    "So the way the zip file library works is you essentially.\n",
    "Take your compressed file and then you write to it.\n",
    "So you say, go ahead and grab.\n",
    "Let's grab file1.txt.\n",
    "\n",
    "And then the other thing you have to specify is the compression type you're going to use.\n",
    "And if you take a look at the library, it'll show you various\n",
    "compression methods.\n",
    "But the most standard one is zip deflated."
   ]
  },
  {
   "cell_type": "code",
   "execution_count": 6,
   "id": "2021a85f",
   "metadata": {},
   "outputs": [],
   "source": [
    "compressed_file.write('file1.txt', compress_type = zipfile.ZIP_DEFLATED)"
   ]
  },
  {
   "cell_type": "markdown",
   "id": "a03af650",
   "metadata": {},
   "source": [
    "So what that has done is it's grabbed this text file, compressed it and written it to this zip file.\n",
    "And this whole time this zip file is still open to us inside of Jupyter.\n",
    "So Python has a zip file open and it's working with it.\n",
    "\n",
    "Let's do the exact same thing for the second file."
   ]
  },
  {
   "cell_type": "code",
   "execution_count": 7,
   "id": "b8f63f39",
   "metadata": {},
   "outputs": [],
   "source": [
    "compressed_file.write('file2.txt', compress_type = zipfile.ZIP_DEFLATED)"
   ]
  },
  {
   "cell_type": "markdown",
   "id": "dcba84e3",
   "metadata": {},
   "source": [
    "So the dot zip file now contains compressed versions of file one and file two."
   ]
  },
  {
   "cell_type": "code",
   "execution_count": 8,
   "id": "7faf1610",
   "metadata": {},
   "outputs": [],
   "source": [
    "compressed_file.close()"
   ]
  },
  {
   "cell_type": "markdown",
   "id": "22b2a744",
   "metadata": {},
   "source": [
    "So what's the next step?\n",
    "\n",
    "Well, you're probably going to want to know how to extract the items from a zip file."
   ]
  },
  {
   "cell_type": "code",
   "execution_count": 9,
   "id": "0be742ef",
   "metadata": {},
   "outputs": [],
   "source": [
    "zip_obj = zipfile.ZipFile(\"compressed_file.zip\",'r')"
   ]
  },
  {
   "cell_type": "markdown",
   "id": "9e940417",
   "metadata": {},
   "source": [
    "If you're looking for one specific file, you can call just the extract method.\n",
    "\n",
    "And here you basically have to say, I just want to extract, for instance, file one point text or\n",
    "if you want to extract everything, probably the more likely case you're just going to say extract all,\n",
    "and then you have to decide what the actual folder is going to be.\n",
    "\n",
    "So what path do you want to extract this to? So let's go ahead and call this extracted underscore content.\n",
    "\n",
    "Run that."
   ]
  },
  {
   "cell_type": "code",
   "execution_count": 10,
   "id": "6f23e23f",
   "metadata": {},
   "outputs": [],
   "source": [
    "zip_obj.extractall('extracted_content')"
   ]
  },
  {
   "cell_type": "markdown",
   "id": "bcdbcef1",
   "metadata": {},
   "source": [
    "If you scroll up to the top, you should now see a folder called Extracted Content.\n",
    "\n",
    "Open it up.\n",
    "\n",
    "And now you see our extracted and decompressed versions of file one text and file to that text."
   ]
  },
  {
   "cell_type": "markdown",
   "id": "fcf29f41",
   "metadata": {},
   "source": [
    "if we just want to archive an entire folder or extract an entire folder, usually\n",
    "\n",
    "the Shell Utility library is a better tool for that."
   ]
  },
  {
   "cell_type": "code",
   "execution_count": 11,
   "id": "4b8589ec",
   "metadata": {},
   "outputs": [],
   "source": [
    "import shutil"
   ]
  },
  {
   "cell_type": "markdown",
   "id": "6f71da52",
   "metadata": {},
   "source": [
    "Let's go ahead and turn this extracted content folder into a zip file.\n",
    "\n",
    "So we're going to do is grab now an entire directory folder."
   ]
  },
  {
   "cell_type": "code",
   "execution_count": 12,
   "id": "4ba66a97",
   "metadata": {},
   "outputs": [
    {
     "data": {
      "text/plain": [
       "'C:\\\\Users\\\\Lenovo\\\\Documents\\\\python prac notebooks'"
      ]
     },
     "execution_count": 12,
     "metadata": {},
     "output_type": "execute_result"
    }
   ],
   "source": [
    "pwd"
   ]
  },
  {
   "cell_type": "code",
   "execution_count": 13,
   "id": "cd04ce2d",
   "metadata": {},
   "outputs": [],
   "source": [
    "dir_to_zip = 'C:\\\\Users\\\\Lenovo\\\\Documents\\\\python prac notebooks\\\\extracted_content'"
   ]
  },
  {
   "cell_type": "code",
   "execution_count": 14,
   "id": "cccecb51",
   "metadata": {},
   "outputs": [],
   "source": [
    "output_filename = 'example'"
   ]
  },
  {
   "cell_type": "code",
   "execution_count": 15,
   "id": "a85a6829",
   "metadata": {},
   "outputs": [
    {
     "data": {
      "text/plain": [
       "'C:\\\\Users\\\\Lenovo\\\\Documents\\\\python prac notebooks\\\\example.zip'"
      ]
     },
     "execution_count": 15,
     "metadata": {},
     "output_type": "execute_result"
    }
   ],
   "source": [
    "shutil.make_archive(output_filename, 'zip', dir_to_zip)"
   ]
  },
  {
   "cell_type": "markdown",
   "id": "749e4fee",
   "metadata": {},
   "source": [
    "this accepts the output file name essentially where do you actually want to output this\n",
    "zipped version?\n",
    "\n",
    "And then the second parameter you'll notice is called format.\n",
    "What format should it be in?\n",
    "It can be something like a zip file or a tar file.\n",
    "So let's go ahead and choose zip file.\n",
    "\n",
    "And then the third thing we have to choose is the directory to zip.\n",
    "So what are we actually zipping?\n",
    "Which in this case was that extracted content folder.\n",
    "So we'll just say dir_to_zip."
   ]
  },
  {
   "cell_type": "markdown",
   "id": "6d794c2d",
   "metadata": {},
   "source": [
    "Notice now there exists an example zip file and if we come back up here, we should be able to scroll\n",
    "down and now see example.zip.\n",
    "\n",
    "So this is typically easier to use the shell utilities because it works with just an entire folder instead\n",
    "of having to do this one by one.\n",
    "\n",
    "So we were able to zip up an entire folder."
   ]
  },
  {
   "cell_type": "markdown",
   "id": "3ffcdd61",
   "metadata": {},
   "source": [
    "how to actually extract the contents from a zip file,\n",
    "which shell utilities.\n",
    "\n",
    "check notebooks"
   ]
  }
 ],
 "metadata": {
  "kernelspec": {
   "display_name": "Python 3 (ipykernel)",
   "language": "python",
   "name": "python3"
  },
  "language_info": {
   "codemirror_mode": {
    "name": "ipython",
    "version": 3
   },
   "file_extension": ".py",
   "mimetype": "text/x-python",
   "name": "python",
   "nbconvert_exporter": "python",
   "pygments_lexer": "ipython3",
   "version": "3.9.13"
  }
 },
 "nbformat": 4,
 "nbformat_minor": 5
}
