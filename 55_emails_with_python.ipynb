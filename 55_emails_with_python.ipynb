{
 "cells": [
  {
   "cell_type": "markdown",
   "id": "99ff6d6a",
   "metadata": {},
   "source": [
    "### sending emails w/ python"
   ]
  },
  {
   "cell_type": "markdown",
   "id": "5f14679e",
   "metadata": {},
   "source": [
    "we're going to explore sending emails with Python.\n",
    "\n",
    "To send emails with Python.\n",
    "We actually have to go through a lot of steps.\n",
    "We have to connect to what's known as an email server.\n",
    "Confirm that connection.\n",
    "Set up a communication protocol, log in to your actual email account and then send the message.\n",
    "\n",
    "Now, fortunately, the built in smtplib library that's already in Python makes these steps just really\n",
    "simple function calls. So essentially just making sure that you call the function from the SMTP lib library in the correct\n",
    "order.\n",
    "\n",
    "So u might be wondering what is SMTP?\n",
    "Well, each major email provider has their own simple mail transfer protocol server, and it's essentially\n",
    "a domain name that you connect to when you're trying to access your email programmatically.\n",
    "\n",
    "<table>\n",
    "    <tr>\n",
    "        <th>provider</th>\n",
    "        <th>smtp server domain name</th>\n",
    "    </tr>\n",
    "    <tr>\n",
    "        <td>gmail(will nee app password)</td>\n",
    "        <td>smtp.gmail.com</td>\n",
    "    </tr>\n",
    "    <tr>\n",
    "        <td>yahoo mail</td>\n",
    "        <td>smtp.mail.yahoo.com</td>\n",
    "    </tr>\n",
    "    <tr>\n",
    "        <td>outlook/hotmail</td>\n",
    "        <td>smtp-mail.outlook.com</td>\n",
    "    </tr>\n",
    "    <tr>\n",
    "        <td>AT&T</td>\n",
    "        <td>smtp.mail.att.net</td>\n",
    "    </tr>\n",
    "    <tr>\n",
    "        <td>verizon</td>\n",
    "        <td>smtp.verizon.net</td>\n",
    "    </tr>\n",
    "    <tr>\n",
    "        <td>comcast</td>\n",
    "        <td>smtp.comcast.net</td>\n",
    "    </tr>"
   ]
  },
  {
   "cell_type": "markdown",
   "id": "e7bc70e0",
   "metadata": {},
   "source": [
    "You're going to need to generate what's known as an app password instead of your normal password.\n",
    "And this is essentially not the password you use to log in onto your email from just any computer.\n",
    "Instead, what's going to happen is we'll create a specialized app password and that's basically telling\n",
    "Gmail, Hey, you have a special application somewhere out there in the world and it's going to connect\n",
    "to your Gmail account through this separate password.\n",
    "\n",
    "That way, in case this application gets compromised, somehow, that password that you originally used\n",
    "is not compromised.\n",
    "So you're able to create a special app password just for your Python script.\n",
    "And it also lets Gmail know that, hey, you're specifically authorizing this other application, our\n",
    "Python script, to actually access your account."
   ]
  },
  {
   "cell_type": "code",
   "execution_count": 1,
   "id": "3c1d7149",
   "metadata": {},
   "outputs": [],
   "source": [
    "import smtplib"
   ]
  },
  {
   "cell_type": "code",
   "execution_count": 2,
   "id": "e112160a",
   "metadata": {},
   "outputs": [],
   "source": [
    "smtp_object = smtplib.SMTP('smtp.gmail.com', 587)"
   ]
  },
  {
   "cell_type": "markdown",
   "id": "51b0623a",
   "metadata": {},
   "source": [
    "for Gmail, we can also provide a port number.\n",
    "So we'll try 587.\n",
    "If for some reason the number of 587 doesn't work and when you try using this and running\n",
    "this, you get back some sort of error.\n",
    "\n",
    "Something else you can try is using the port number of 465.\n",
    "\n",
    "If that also doesn't work, you can try not passing in any number for the port number.\n",
    "Keep in mind, if you have a firewall or antivirus that may prevent your Python script from trying to\n",
    "reach out and connect over the internet."
   ]
  },
  {
   "cell_type": "code",
   "execution_count": 3,
   "id": "f121e8cc",
   "metadata": {},
   "outputs": [
    {
     "data": {
      "text/plain": [
       "(250,\n",
       " b'smtp.gmail.com at your service, [59.153.98.208]\\nSIZE 35882577\\n8BITMIME\\nSTARTTLS\\nENHANCEDSTATUSCODES\\nPIPELINING\\nCHUNKING\\nSMTPUTF8')"
      ]
     },
     "execution_count": 3,
     "metadata": {},
     "output_type": "execute_result"
    }
   ],
   "source": [
    "smtp_object.ehlo()"
   ]
  },
  {
   "cell_type": "markdown",
   "id": "371d6144",
   "metadata": {},
   "source": [
    "the next step we need to do is run an ehlo method command which greets the server and establishes\n",
    "the connection.\n",
    "\n",
    "This method calls should be done directly after creating the object, so make sure you follow these\n",
    "steps.\n",
    "Exactly.\n",
    "\n",
    "Calling it after other methods will basically result in errors and connecting later on.\n",
    "So right after you create the object, the very next line should be running this ehlo.\n",
    "\n",
    "And when you run this, you should see some sort of code that starts with 250.\n",
    "And this basically says that we had a successful connection."
   ]
  },
  {
   "cell_type": "markdown",
   "id": "731a5557",
   "metadata": {},
   "source": [
    "Now, when using the port, 587 this means you're using TLS encryption.\n",
    "So basically all email as you send it is encrypted.\n",
    "That way people can't read your emails without being the actual recipient.\n",
    "\n",
    "And in order to actually initiate this sort of encryption, we're going to"
   ]
  },
  {
   "cell_type": "code",
   "execution_count": 4,
   "id": "854ae0ef",
   "metadata": {},
   "outputs": [
    {
     "data": {
      "text/plain": [
       "(220, b'2.0.0 Ready to start TLS')"
      ]
     },
     "execution_count": 4,
     "metadata": {},
     "output_type": "execute_result"
    }
   ],
   "source": [
    "smtp_object.starttls()"
   ]
  },
  {
   "cell_type": "markdown",
   "id": "530e3ccb",
   "metadata": {},
   "source": [
    "if you ended up using the port 465 you can basically skip this step because that means you're\n",
    "using SSL."
   ]
  },
  {
   "cell_type": "markdown",
   "id": "2295d299",
   "metadata": {},
   "source": [
    "Now it's time to set up the email and the passwords.\n",
    "\n",
    "Keep in mind you should never save the raw string of your password or email in a script because basically\n",
    "that means that anyone that sees this script will be able to then see your email and password.\n",
    "Instead, what you should do is try using the input function to get that information.\n",
    "If you don't want your password to be visible when you're typing it in, you can also use the built\n",
    "in get pass library that will hide your password as you type it in."
   ]
  },
  {
   "cell_type": "code",
   "execution_count": 5,
   "id": "70e69c17",
   "metadata": {},
   "outputs": [
    {
     "name": "stdout",
     "output_type": "stream",
     "text": [
      "what is your pw: visible\n"
     ]
    }
   ],
   "source": [
    "password = input('what is your pw: ')"
   ]
  },
  {
   "cell_type": "code",
   "execution_count": 6,
   "id": "844b419a",
   "metadata": {},
   "outputs": [],
   "source": [
    "import getpass"
   ]
  },
  {
   "cell_type": "code",
   "execution_count": 7,
   "id": "cf5ae578",
   "metadata": {},
   "outputs": [
    {
     "name": "stdout",
     "output_type": "stream",
     "text": [
      "pw please: ········\n"
     ]
    }
   ],
   "source": [
    "password = getpass.getpass('pw please: ')"
   ]
  },
  {
   "cell_type": "markdown",
   "id": "a382382b",
   "metadata": {},
   "source": [
    "if we run this and we start typing something, you'll notice that it's invisible.\n",
    "And you can type a really long password here.\n",
    "And even after you run it, it won't really indicate how long your password was.\n",
    "\n",
    "So this is a secure way to pass an information for people that are viewing your computer directly.\n",
    "So just in case that happens, you should be using the get pass instead of just a simple input.\n",
    "\n",
    "It really depends on how secure you want your script to be or your notebook to be, but we should never\n",
    "do is just save your password as a variable directly."
   ]
  },
  {
   "cell_type": "code",
   "execution_count": 8,
   "id": "04143c44",
   "metadata": {},
   "outputs": [
    {
     "name": "stdout",
     "output_type": "stream",
     "text": [
      "email: ········\n",
      "password: ········\n"
     ]
    },
    {
     "data": {
      "text/plain": [
       "(235, b'2.7.0 Accepted')"
      ]
     },
     "execution_count": 8,
     "metadata": {},
     "output_type": "execute_result"
    }
   ],
   "source": [
    "email = getpass.getpass(\"email: \")\n",
    "password = getpass.getpass(\"password: \")\n",
    "smtp_object.login(email, password)"
   ]
  },
  {
   "cell_type": "markdown",
   "id": "883ab891",
   "metadata": {},
   "source": [
    "I'm going to paste in that app password.\n",
    "So again, this is not your normal Gmail password.\n",
    "This is the app password."
   ]
  },
  {
   "cell_type": "code",
   "execution_count": 9,
   "id": "f79751ad",
   "metadata": {},
   "outputs": [
    {
     "name": "stdout",
     "output_type": "stream",
     "text": [
      "enter the subject line: a pythonic email\n",
      "enter the body message: hello doing this first time. so fun it is\n"
     ]
    },
    {
     "data": {
      "text/plain": [
       "{}"
      ]
     },
     "execution_count": 9,
     "metadata": {},
     "output_type": "execute_result"
    }
   ],
   "source": [
    "from_address = email\n",
    "to_address = email\n",
    "subject = input(\"enter the subject line: \")\n",
    "message = input(\"enter the body message: \")\n",
    "msg = \"Subject: \"+subject+'\\n'+message\n",
    "\n",
    "smtp_object.sendmail(from_address,to_address,msg)"
   ]
  },
  {
   "cell_type": "markdown",
   "id": "c0b6bed6",
   "metadata": {},
   "source": [
    "If you get back an empty dictionary, that means the sending was successful.\n",
    "If you're getting an error, it's most likely having to do with either your connection up here or your\n",
    "actual email and password combination.\n",
    "\n",
    "Once you've been able to do that, you'll want to quit and close your session."
   ]
  },
  {
   "cell_type": "code",
   "execution_count": 10,
   "id": "647a033a",
   "metadata": {},
   "outputs": [
    {
     "data": {
      "text/plain": [
       "(221,\n",
       " b'2.0.0 closing connection u7-20020a17090a400700b002135e8074b1sm522902pjc.55 - gsmtp')"
      ]
     },
     "execution_count": 10,
     "metadata": {},
     "output_type": "execute_result"
    }
   ],
   "source": [
    "smtp_object.quit()"
   ]
  },
  {
   "cell_type": "markdown",
   "id": "a149abf8",
   "metadata": {},
   "source": [
    "### recieving emails w/ python"
   ]
  },
  {
   "cell_type": "markdown",
   "id": "0dde5a16",
   "metadata": {},
   "source": [
    "And when we talk about receiving, really what we're talking about is being able to explore your inbox\n",
    "with Python.\n",
    "\n",
    "To view received emails of Python.\n",
    "We can use the built in imaplib and email libraries in Python.\n",
    "\n",
    "So it's actually two separate libraries names.\n",
    "\n",
    "And what the imaplib library allows you to do is use its special syntax for searching your inbox.\n",
    "And this is essentially the same kind of things you can search for by going to just a normal computer\n",
    "and search your inbox."
   ]
  },
  {
   "cell_type": "code",
   "execution_count": 11,
   "id": "0b94cd95",
   "metadata": {},
   "outputs": [],
   "source": [
    "import imaplib"
   ]
  },
  {
   "cell_type": "code",
   "execution_count": 12,
   "id": "169e0c83",
   "metadata": {},
   "outputs": [],
   "source": [
    "M = imaplib.IMAP4_SSL('imap.gmail.com')"
   ]
  },
  {
   "cell_type": "code",
   "execution_count": 13,
   "id": "f83e5bfd",
   "metadata": {},
   "outputs": [],
   "source": [
    "import getpass"
   ]
  },
  {
   "cell_type": "code",
   "execution_count": 14,
   "id": "543d5875",
   "metadata": {},
   "outputs": [
    {
     "name": "stdout",
     "output_type": "stream",
     "text": [
      "email: ········\n",
      "password: ········\n"
     ]
    }
   ],
   "source": [
    "email = getpass.getpass(\"email: \")\n",
    "password = getpass.getpass(\"password: \")"
   ]
  },
  {
   "cell_type": "code",
   "execution_count": 15,
   "id": "9c90f0ef",
   "metadata": {},
   "outputs": [
    {
     "data": {
      "text/plain": [
       "('OK', [b'irapbts@gmail.com authenticated (Success)'])"
      ]
     },
     "execution_count": 15,
     "metadata": {},
     "output_type": "execute_result"
    }
   ],
   "source": [
    "M.login(email,password)"
   ]
  },
  {
   "cell_type": "code",
   "execution_count": 16,
   "id": "575293df",
   "metadata": {},
   "outputs": [
    {
     "data": {
      "text/plain": [
       "('OK',\n",
       " [b'(\\\\HasNoChildren) \"/\" \"INBOX\"',\n",
       "  b'(\\\\HasChildren \\\\Noselect) \"/\" \"[Gmail]\"',\n",
       "  b'(\\\\All \\\\HasNoChildren) \"/\" \"[Gmail]/All Mail\"',\n",
       "  b'(\\\\Drafts \\\\HasNoChildren) \"/\" \"[Gmail]/Drafts\"',\n",
       "  b'(\\\\HasNoChildren \\\\Important) \"/\" \"[Gmail]/Important\"',\n",
       "  b'(\\\\HasNoChildren \\\\Sent) \"/\" \"[Gmail]/Sent Mail\"',\n",
       "  b'(\\\\HasNoChildren \\\\Junk) \"/\" \"[Gmail]/Spam\"',\n",
       "  b'(\\\\Flagged \\\\HasNoChildren) \"/\" \"[Gmail]/Starred\"',\n",
       "  b'(\\\\HasNoChildren \\\\Trash) \"/\" \"[Gmail]/Trash\"'])"
      ]
     },
     "execution_count": 16,
     "metadata": {},
     "output_type": "execute_result"
    }
   ],
   "source": [
    "M.list()"
   ]
  },
  {
   "cell_type": "markdown",
   "id": "5fe90e5b",
   "metadata": {},
   "source": [
    "you can see everything\n",
    "that you can check in your particular email.\n",
    "\n",
    "Typically, you'll be checking your inbox, but you can also see you can check personal receipts, sent,\n",
    "trash drafts, important, sent mail, spam, starred, trash.\n",
    "\n",
    "So there's lots of different options, different flags that Gmail or other email providers have for\n",
    "you.\n",
    "\n",
    "We're going to select the most common one, which is your inbox."
   ]
  },
  {
   "cell_type": "code",
   "execution_count": 18,
   "id": "a7b02536",
   "metadata": {},
   "outputs": [
    {
     "data": {
      "text/plain": [
       "('OK', [b'1381'])"
      ]
     },
     "execution_count": 18,
     "metadata": {},
     "output_type": "execute_result"
    }
   ],
   "source": [
    "M.select('inbox')"
   ]
  },
  {
   "cell_type": "code",
   "execution_count": 22,
   "id": "5dba6c8b",
   "metadata": {},
   "outputs": [],
   "source": [
    "typ, data = M.search(None, 'SUBJECT \"lalala\"')"
   ]
  },
  {
   "cell_type": "code",
   "execution_count": 23,
   "id": "41f132e8",
   "metadata": {},
   "outputs": [
    {
     "data": {
      "text/plain": [
       "'OK'"
      ]
     },
     "execution_count": 23,
     "metadata": {},
     "output_type": "execute_result"
    }
   ],
   "source": [
    "typ"
   ]
  },
  {
   "cell_type": "code",
   "execution_count": 24,
   "id": "72907e1e",
   "metadata": {},
   "outputs": [
    {
     "data": {
      "text/plain": [
       "[b'']"
      ]
     },
     "execution_count": 24,
     "metadata": {},
     "output_type": "execute_result"
    }
   ],
   "source": [
    "data"
   ]
  },
  {
   "cell_type": "code",
   "execution_count": 25,
   "id": "1af66d01",
   "metadata": {},
   "outputs": [],
   "source": [
    "email_id = data[0]"
   ]
  },
  {
   "cell_type": "code",
   "execution_count": 28,
   "id": "e6f63c5f",
   "metadata": {},
   "outputs": [],
   "source": [
    "# result, email_data = M.fetch(email_id,'(RFC822)')"
   ]
  },
  {
   "cell_type": "code",
   "execution_count": 30,
   "id": "7c0641d5",
   "metadata": {},
   "outputs": [],
   "source": [
    "# email_data"
   ]
  },
  {
   "cell_type": "markdown",
   "id": "c7534e30",
   "metadata": {},
   "source": [
    "#### check notebooks for further info\n",
    "\n",
    "link : https://github.com/Pierian-Data/Complete-Python-3-Bootcamp/blob/master/16-Emailing-with-Python/00-Overview-of-Sending-Emails.ipynb"
   ]
  }
 ],
 "metadata": {
  "kernelspec": {
   "display_name": "Python 3 (ipykernel)",
   "language": "python",
   "name": "python3"
  },
  "language_info": {
   "codemirror_mode": {
    "name": "ipython",
    "version": 3
   },
   "file_extension": ".py",
   "mimetype": "text/x-python",
   "name": "python",
   "nbconvert_exporter": "python",
   "pygments_lexer": "ipython3",
   "version": "3.9.13"
  }
 },
 "nbformat": 4,
 "nbformat_minor": 5
}
