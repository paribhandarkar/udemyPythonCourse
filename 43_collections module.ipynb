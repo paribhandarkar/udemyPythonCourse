{
 "cells": [
  {
   "cell_type": "markdown",
   "id": "2b33ee9e",
   "metadata": {},
   "source": [
    "Python has several built in modules that we haven't really fully explored yet.\n",
    "\n",
    "The collections module is built in to Python and it implements specialized container data types that are essentially alternatives to python's built in containers that are just general purpose."
   ]
  },
  {
   "cell_type": "markdown",
   "id": "0d616547",
   "metadata": {},
   "source": [
    "let's imagine you have a situation where you have a list and then some unique values in the list, but there's also repeats for these unique values.\n",
    "\n",
    "Now, let's imagine I wanted you to get a count of each unique item in this list.\n",
    "For example, I want you to count how many ones are there? How many twos are there? How many threes are there?"
   ]
  },
  {
   "cell_type": "code",
   "execution_count": 8,
   "id": "7ef1d34a",
   "metadata": {},
   "outputs": [],
   "source": [
    "from collections import Counter\n",
    "\n",
    "mylist = [1,2,3,1,2,1,1,1,2,3,2,2,3,2,1,1,2,]"
   ]
  },
  {
   "cell_type": "markdown",
   "id": "f1a9a4eb",
   "metadata": {},
   "source": [
    "counter can do this for us automatically with a single call. It's super useful in these sort of situations.\n",
    "Simply pass in my list into counter and then you get this specialized counter object that has now counted the instances for each unique item in that list."
   ]
  },
  {
   "cell_type": "code",
   "execution_count": 9,
   "id": "6616e9f2",
   "metadata": {},
   "outputs": [
    {
     "data": {
      "text/plain": [
       "Counter({1: 7, 2: 7, 3: 3})"
      ]
     },
     "execution_count": 9,
     "metadata": {},
     "output_type": "execute_result"
    }
   ],
   "source": [
    "Counter(mylist)"
   ]
  },
  {
   "cell_type": "markdown",
   "id": "a7a7f718",
   "metadata": {},
   "source": [
    "Notice this looks very similar to a dictionary and counters technically a dictionary subclass that essentially just helps count hashable objects.\n",
    "\n",
    "So inside of it, elements are stored as dictionary keys and the counts of the objects are stored as the values.\n",
    "So kind of this specialized dictionary where the keys are always the object and then the value is always the count."
   ]
  },
  {
   "cell_type": "code",
   "execution_count": 10,
   "id": "dfa15293",
   "metadata": {},
   "outputs": [
    {
     "data": {
      "text/plain": [
       "Counter({'d': 4, 'h': 8, 's': 7, 'j': 3, 'a': 2})"
      ]
     },
     "execution_count": 10,
     "metadata": {},
     "output_type": "execute_result"
    }
   ],
   "source": [
    "Counter('dhsjshhsjahdshdhasshdjhs')"
   ]
  },
  {
   "cell_type": "markdown",
   "id": "28df6b27",
   "metadata": {},
   "source": [
    "this also works with strings, so I could say counter and then pass on some sort of string. and it counts the individual letters."
   ]
  },
  {
   "cell_type": "markdown",
   "id": "982ebac6",
   "metadata": {},
   "source": [
    "let's create a sentence here saying How many times does each word show up in the sentence"
   ]
  },
  {
   "cell_type": "code",
   "execution_count": 11,
   "id": "dfb17a4e",
   "metadata": {},
   "outputs": [
    {
     "data": {
      "text/plain": [
       "Counter({'bts,': 1,\n",
       "         'is': 1,\n",
       "         'a': 1,\n",
       "         'south': 1,\n",
       "         'korean': 1,\n",
       "         'boy': 1,\n",
       "         'band': 1,\n",
       "         'that': 1,\n",
       "         'formed': 1,\n",
       "         'in': 2,\n",
       "         '2010': 1,\n",
       "         'and': 1,\n",
       "         'debuted': 1,\n",
       "         '2013': 1,\n",
       "         'under': 1,\n",
       "         'big': 1,\n",
       "         'hit': 1,\n",
       "         'entertainment.': 1})"
      ]
     },
     "execution_count": 11,
     "metadata": {},
     "output_type": "execute_result"
    }
   ],
   "source": [
    "sentence = 'BTS, is a South Korean boy band that formed in 2010 and debuted in 2013 under Big Hit Entertainment.'\n",
    "Counter(sentence.lower().split())"
   ]
  },
  {
   "cell_type": "code",
   "execution_count": 13,
   "id": "ac04d44d",
   "metadata": {},
   "outputs": [],
   "source": [
    "letters = 'aaabbbbbbcccccccccccccddddddddddddddddddddddddddddddddddaaaaaaaa'\n",
    "c = Counter(letters)"
   ]
  },
  {
   "cell_type": "code",
   "execution_count": 14,
   "id": "b95f325b",
   "metadata": {},
   "outputs": [
    {
     "data": {
      "text/plain": [
       "Counter({'a': 11, 'b': 6, 'c': 13, 'd': 34})"
      ]
     },
     "execution_count": 14,
     "metadata": {},
     "output_type": "execute_result"
    }
   ],
   "source": [
    "c"
   ]
  },
  {
   "cell_type": "code",
   "execution_count": 15,
   "id": "7b4f754d",
   "metadata": {},
   "outputs": [
    {
     "data": {
      "text/plain": [
       "[('d', 34), ('c', 13), ('a', 11), ('b', 6)]"
      ]
     },
     "execution_count": 15,
     "metadata": {},
     "output_type": "execute_result"
    }
   ],
   "source": [
    "c.most_common()"
   ]
  },
  {
   "cell_type": "markdown",
   "id": "d3a1fbd5",
   "metadata": {},
   "source": [
    "So most common will actually just return back the most common here in a list as a tuple. So it says D is the most common with 34 instances, c second most common with 13. a third most common with 11. And it would keep going."
   ]
  },
  {
   "cell_type": "markdown",
   "id": "71fcc81c",
   "metadata": {},
   "source": [
    "let's say I wanted the two most common."
   ]
  },
  {
   "cell_type": "code",
   "execution_count": 16,
   "id": "014adc44",
   "metadata": {},
   "outputs": [
    {
     "data": {
      "text/plain": [
       "[('d', 34), ('c', 13)]"
      ]
     },
     "execution_count": 16,
     "metadata": {},
     "output_type": "execute_result"
    }
   ],
   "source": [
    "c.most_common(2)"
   ]
  },
  {
   "cell_type": "code",
   "execution_count": 17,
   "id": "c608245d",
   "metadata": {},
   "outputs": [
    {
     "data": {
      "text/plain": [
       "['a', 'b', 'c', 'd']"
      ]
     },
     "execution_count": 17,
     "metadata": {},
     "output_type": "execute_result"
    }
   ],
   "source": [
    "list(c)"
   ]
  },
  {
   "cell_type": "markdown",
   "id": "110e4b45",
   "metadata": {},
   "source": [
    "I can actually pass this into a list and then I essentially just get a list of all the keys. So all the unique values, lots of different things we can do with the counter object."
   ]
  },
  {
   "cell_type": "code",
   "execution_count": 18,
   "id": "f8fdefae",
   "metadata": {},
   "outputs": [],
   "source": [
    "from collections import defaultdict\n",
    "\n",
    "d = {'a': 10}"
   ]
  },
  {
   "cell_type": "code",
   "execution_count": 19,
   "id": "eb5b3423",
   "metadata": {},
   "outputs": [
    {
     "data": {
      "text/plain": [
       "10"
      ]
     },
     "execution_count": 19,
     "metadata": {},
     "output_type": "execute_result"
    }
   ],
   "source": [
    "d['a']"
   ]
  },
  {
   "cell_type": "markdown",
   "id": "90192ebe",
   "metadata": {},
   "source": [
    "in a normal python dictionary, let's imagine I call the wrong key. So notice wrong.\n",
    "Definitely not a key yet in this dictionary.\n",
    "If I try that, it's going to complain saying hey, key error."
   ]
  },
  {
   "cell_type": "code",
   "execution_count": 20,
   "id": "1286b524",
   "metadata": {},
   "outputs": [
    {
     "ename": "KeyError",
     "evalue": "'wrong'",
     "output_type": "error",
     "traceback": [
      "\u001b[1;31m---------------------------------------------------------------------------\u001b[0m",
      "\u001b[1;31mKeyError\u001b[0m                                  Traceback (most recent call last)",
      "\u001b[1;32m~\\AppData\\Local\\Temp\\ipykernel_9260\\657480006.py\u001b[0m in \u001b[0;36m<module>\u001b[1;34m\u001b[0m\n\u001b[1;32m----> 1\u001b[1;33m \u001b[0md\u001b[0m\u001b[1;33m[\u001b[0m\u001b[1;34m'wrong'\u001b[0m\u001b[1;33m]\u001b[0m\u001b[1;33m\u001b[0m\u001b[1;33m\u001b[0m\u001b[0m\n\u001b[0m",
      "\u001b[1;31mKeyError\u001b[0m: 'wrong'"
     ]
    }
   ],
   "source": [
    "d['wrong']"
   ]
  },
  {
   "cell_type": "markdown",
   "id": "84c8952e",
   "metadata": {},
   "source": [
    "Default dictionary will assign a default value.\n",
    "If there's an instance where a key error would have occurred.\n",
    "So essentially, if you try to ask for a key that isn't present in a default dictionary, it will assign it with some default value."
   ]
  },
  {
   "cell_type": "markdown",
   "id": "944664d7",
   "metadata": {},
   "source": [
    "And the way we do this is by saying whatever your dictionary is going to be. So we'll call d again.\n",
    "\n",
    "In this case, we call it defaultdict and we have to choose what the actual default value will be.\n",
    "So instead of returning a key error, it will assign it our default value.\n",
    "And we can do this through the use of a lambda expression.\n",
    "So we'll simply say lambda colon and then whatever you want the default value to be.\n",
    "\n",
    "For instance, let's say I want all the default values to be 20. So it still behaves like a normal dictionary under normal circumstances"
   ]
  },
  {
   "cell_type": "code",
   "execution_count": 21,
   "id": "d5294d67",
   "metadata": {},
   "outputs": [],
   "source": [
    "d = defaultdict(lambda: 20)"
   ]
  },
  {
   "cell_type": "code",
   "execution_count": 22,
   "id": "cf6206c0",
   "metadata": {},
   "outputs": [
    {
     "data": {
      "text/plain": [
       "20"
      ]
     },
     "execution_count": 22,
     "metadata": {},
     "output_type": "execute_result"
    }
   ],
   "source": [
    "d['correct']"
   ]
  },
  {
   "cell_type": "markdown",
   "id": "6b724314",
   "metadata": {},
   "source": [
    "the last specialized container object that I want to show you from the collections module is called the named tuple.\n",
    "\n",
    "So similar to the way a default dictionary tries to improve on just a standard dictionary by getting rid of this key error.\n",
    "\n",
    "If the default value the name tuple tries to expand on a normal tuple object by actually having named indices."
   ]
  },
  {
   "cell_type": "code",
   "execution_count": 23,
   "id": "d55bfcd2",
   "metadata": {},
   "outputs": [
    {
     "data": {
      "text/plain": [
       "10"
      ]
     },
     "execution_count": 23,
     "metadata": {},
     "output_type": "execute_result"
    }
   ],
   "source": [
    "mytuple = (10,20,30)\n",
    "mytuple[0]"
   ]
  },
  {
   "cell_type": "markdown",
   "id": "acac003c",
   "metadata": {},
   "source": [
    "So the named tuple is going to have not just a numeric connection to the values, but it will also have essentially a named index for that value.\n",
    "So instead of just calling it by zero, we could call it by some sort of string code."
   ]
  },
  {
   "cell_type": "code",
   "execution_count": 24,
   "id": "2ff4d374",
   "metadata": {},
   "outputs": [],
   "source": [
    "from collections import namedtuple\n",
    "Dog =  namedtuple('Dog', ['age', 'breed', 'name'])"
   ]
  },
  {
   "cell_type": "code",
   "execution_count": 26,
   "id": "f1a688dd",
   "metadata": {},
   "outputs": [
    {
     "data": {
      "text/plain": [
       "__main__.Dog"
      ]
     },
     "execution_count": 26,
     "metadata": {},
     "output_type": "execute_result"
    }
   ],
   "source": [
    "Dog # And now I can create instances of a dog object."
   ]
  },
  {
   "cell_type": "code",
   "execution_count": 27,
   "id": "2d78d862",
   "metadata": {},
   "outputs": [],
   "source": [
    "sammy = Dog(age = 5, breed = 'husky', name = 'sam')"
   ]
  },
  {
   "cell_type": "code",
   "execution_count": 28,
   "id": "7c3dcfdb",
   "metadata": {},
   "outputs": [
    {
     "data": {
      "text/plain": [
       "__main__.Dog"
      ]
     },
     "execution_count": 28,
     "metadata": {},
     "output_type": "execute_result"
    }
   ],
   "source": [
    "type(sammy) # reports back that it's type dog. It doesn't report back that it's a named tuple."
   ]
  },
  {
   "cell_type": "code",
   "execution_count": 33,
   "id": "d38bcfe4",
   "metadata": {},
   "outputs": [
    {
     "data": {
      "text/plain": [
       "5"
      ]
     },
     "execution_count": 33,
     "metadata": {},
     "output_type": "execute_result"
    }
   ],
   "source": [
    "sammy.age"
   ]
  },
  {
   "cell_type": "code",
   "execution_count": 31,
   "id": "6f5b517c",
   "metadata": {},
   "outputs": [
    {
     "data": {
      "text/plain": [
       "'sam'"
      ]
     },
     "execution_count": 31,
     "metadata": {},
     "output_type": "execute_result"
    }
   ],
   "source": [
    "sammy.name"
   ]
  },
  {
   "cell_type": "code",
   "execution_count": 32,
   "id": "a23ee6e6",
   "metadata": {},
   "outputs": [
    {
     "data": {
      "text/plain": [
       "'husky'"
      ]
     },
     "execution_count": 32,
     "metadata": {},
     "output_type": "execute_result"
    }
   ],
   "source": [
    "sammy.breed"
   ]
  },
  {
   "cell_type": "markdown",
   "id": "5abee03d",
   "metadata": {},
   "source": [
    "notice if I say Sammy at index zero, I get back five, which was the same thing as calling Sammy age.\n",
    "So you can imagine for very large tuples or tuples where you can't quite remember what values at which index.\n",
    "\n",
    "It might be useful to be able to access them both by calling an index position such as zero, or by calling it as if it was an attribute asking for the age."
   ]
  }
 ],
 "metadata": {
  "kernelspec": {
   "display_name": "Python 3 (ipykernel)",
   "language": "python",
   "name": "python3"
  },
  "language_info": {
   "codemirror_mode": {
    "name": "ipython",
    "version": 3
   },
   "file_extension": ".py",
   "mimetype": "text/x-python",
   "name": "python",
   "nbconvert_exporter": "python",
   "pygments_lexer": "ipython3",
   "version": "3.9.13"
  }
 },
 "nbformat": 4,
 "nbformat_minor": 5
}
