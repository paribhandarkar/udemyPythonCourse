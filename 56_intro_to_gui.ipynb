{
 "cells": [
  {
   "cell_type": "markdown",
   "id": "7be4ee51",
   "metadata": {},
   "source": [
    "These are things like buttons or sliders that you can have directly in a notebook for someone else to\n",
    "play around with.\n",
    "\n",
    "the notebooks that go along with\n",
    "this lecture that are hosted at the repo, you actually won't be able to see the sliders that we create\n",
    "or any of the interactive elements that we're going to be creating.\n",
    "That's because this is just hosting the code itself.\n",
    "It's not actually running it.\n",
    "\n",
    "So any viewer or GitHub won't actually be able to execute the code here.\n",
    "They're just showing you the code itself.\n",
    "If you come visit to the GitHub and you're wondering why you don't see sliders here, you need to download\n",
    "this notebook and run it with Jupyter Notebook in order to actually see or view the widgets and interact\n",
    "with them."
   ]
  },
  {
   "cell_type": "code",
   "execution_count": 1,
   "id": "35601892",
   "metadata": {},
   "outputs": [],
   "source": [
    "from ipywidgets import interact, interactive, fixed\n",
    "import ipywidgets as widgets"
   ]
  },
  {
   "cell_type": "markdown",
   "id": "b0dcb4cf",
   "metadata": {},
   "source": [
    "we're going to create probably the most basic interact function.\n",
    "So at a most basic level, what Interac does is it auto generates a user interface control for some\n",
    "sort of function argument, and then it calls the function with those arguments that you can allow yourself\n",
    "to manipulate interactively.\n",
    "\n",
    "So to use interact, we first need to define a function that we actually want to play around with or\n",
    "explore."
   ]
  },
  {
   "cell_type": "code",
   "execution_count": 7,
   "id": "50fa48a0",
   "metadata": {},
   "outputs": [],
   "source": [
    "def func(x):\n",
    "    return x**2"
   ]
  },
  {
   "cell_type": "code",
   "execution_count": 8,
   "id": "a3fb438f",
   "metadata": {},
   "outputs": [
    {
     "data": {
      "application/vnd.jupyter.widget-view+json": {
       "model_id": "04dc3d5accf842ba8e2f62b426366759",
       "version_major": 2,
       "version_minor": 0
      },
      "text/plain": [
       "interactive(children=(IntSlider(value=10, description='x', max=30, min=-10), Output()), _dom_classes=('widget-…"
      ]
     },
     "metadata": {},
     "output_type": "display_data"
    },
    {
     "data": {
      "text/plain": [
       "<function __main__.func(x)>"
      ]
     },
     "execution_count": 8,
     "metadata": {},
     "output_type": "execute_result"
    }
   ],
   "source": [
    "interact(func, x=10)"
   ]
  },
  {
   "cell_type": "code",
   "execution_count": 9,
   "id": "d1e95cb1",
   "metadata": {},
   "outputs": [],
   "source": [
    "def func(x):\n",
    "    return x"
   ]
  },
  {
   "cell_type": "code",
   "execution_count": 10,
   "id": "b5326dc2",
   "metadata": {},
   "outputs": [
    {
     "data": {
      "application/vnd.jupyter.widget-view+json": {
       "model_id": "256ef758adab4c7383a5ec5d83ed7b59",
       "version_major": 2,
       "version_minor": 0
      },
      "text/plain": [
       "interactive(children=(IntSlider(value=10, description='x', max=30, min=-10), Output()), _dom_classes=('widget-…"
      ]
     },
     "metadata": {},
     "output_type": "display_data"
    },
    {
     "data": {
      "text/plain": [
       "<function __main__.func(x)>"
      ]
     },
     "execution_count": 10,
     "metadata": {},
     "output_type": "execute_result"
    }
   ],
   "source": [
    "interact(func, x=10)"
   ]
  },
  {
   "cell_type": "markdown",
   "id": "62b1f260",
   "metadata": {},
   "source": [
    "Let's see what happens when we pass in booleans.\n"
   ]
  },
  {
   "cell_type": "code",
   "execution_count": 11,
   "id": "15d52400",
   "metadata": {},
   "outputs": [
    {
     "data": {
      "application/vnd.jupyter.widget-view+json": {
       "model_id": "cbcc4c9c8293420ca1b22d0f406d8709",
       "version_major": 2,
       "version_minor": 0
      },
      "text/plain": [
       "interactive(children=(Checkbox(value=True, description='x'), Output()), _dom_classes=('widget-interact',))"
      ]
     },
     "metadata": {},
     "output_type": "display_data"
    },
    {
     "data": {
      "text/plain": [
       "<function __main__.func(x)>"
      ]
     },
     "execution_count": 11,
     "metadata": {},
     "output_type": "execute_result"
    }
   ],
   "source": [
    "interact(func, x=True)"
   ]
  },
  {
   "cell_type": "markdown",
   "id": "be6f681f",
   "metadata": {},
   "source": [
    "So if booleans auto creates a checkbox which makes sense because booleans are true or false."
   ]
  },
  {
   "cell_type": "markdown",
   "id": "ec437c49",
   "metadata": {},
   "source": [
    "And then if we actually pass in a string such as Hello, then I get back this auto textbox"
   ]
  },
  {
   "cell_type": "code",
   "execution_count": 12,
   "id": "a1c39c87",
   "metadata": {},
   "outputs": [
    {
     "data": {
      "application/vnd.jupyter.widget-view+json": {
       "model_id": "89e1fa455f274e388345f70085d9b14f",
       "version_major": 2,
       "version_minor": 0
      },
      "text/plain": [
       "interactive(children=(Text(value='hello', description='x'), Output()), _dom_classes=('widget-interact',))"
      ]
     },
     "metadata": {},
     "output_type": "display_data"
    },
    {
     "data": {
      "text/plain": [
       "<function __main__.func(x)>"
      ]
     },
     "execution_count": 12,
     "metadata": {},
     "output_type": "execute_result"
    }
   ],
   "source": [
    "interact(func, x='hello')"
   ]
  },
  {
   "cell_type": "markdown",
   "id": "d30cde9c",
   "metadata": {},
   "source": [
    "So for integers or numbers, it passes in a slider we just saw for booleans, it passes in a checkbox\n",
    "and then for strings it passes in a little text box here so I can type whatever I want"
   ]
  },
  {
   "cell_type": "markdown",
   "id": "479b0f2c",
   "metadata": {},
   "source": [
    "Let's create a new function called G and G takes in x and Y.\n",
    "And then all it does, it just returns back a tuple of x and Y again, a very simple function.\n",
    "Now, what we could have done is pass this function into interact again, and then provided something\n",
    "for X and something for Y.\n",
    "\n",
    "But we can do all of this with the decorator.\n",
    "\n",
    "But there's a decorator called Interact and here we can pass in the default values that we want to start\n",
    "off with.\n",
    "\n",
    "So I can say something like X is equal to true and Y is equal to a floating point, let's say 1.0.\n",
    "And now when I run this, I actually get back these options so I can say true, false."
   ]
  },
  {
   "cell_type": "code",
   "execution_count": 13,
   "id": "5a99395f",
   "metadata": {},
   "outputs": [
    {
     "data": {
      "application/vnd.jupyter.widget-view+json": {
       "model_id": "fcad7641dfe14757a561065fe40be05a",
       "version_major": 2,
       "version_minor": 0
      },
      "text/plain": [
       "interactive(children=(Checkbox(value=True, description='x'), FloatSlider(value=1.0, description='y', max=3.0, …"
      ]
     },
     "metadata": {},
     "output_type": "display_data"
    }
   ],
   "source": [
    "@interact(x=True, y=1.0)\n",
    "def g(x,y):\n",
    "    return(x,y)"
   ]
  },
  {
   "cell_type": "markdown",
   "id": "e94e31de",
   "metadata": {},
   "source": [
    "Now let's imagine we actually wanted to keep one of these values fixed.\n",
    "We didn't want everything to be manipulated by the user.\n",
    "What we could do is pass in this parameter into the fixed function."
   ]
  },
  {
   "cell_type": "code",
   "execution_count": 14,
   "id": "ad62b0b6",
   "metadata": {},
   "outputs": [
    {
     "data": {
      "application/vnd.jupyter.widget-view+json": {
       "model_id": "8245e00a0ce74810a79920899bff14af",
       "version_major": 2,
       "version_minor": 0
      },
      "text/plain": [
       "interactive(children=(Checkbox(value=True, description='x'), Output()), _dom_classes=('widget-interact',))"
      ]
     },
     "metadata": {},
     "output_type": "display_data"
    }
   ],
   "source": [
    "@interact(x=True, y=fixed(1.0))\n",
    "def g(x,y):\n",
    "    return(x,y)"
   ]
  },
  {
   "cell_type": "markdown",
   "id": "98db5164",
   "metadata": {},
   "source": [
    "#### let's talk about widget abbreviations.\n",
    "\n",
    "Recall that when we said Interact pass in our function and then said X is equal to let's say one, we\n",
    "get back this value of a slider and I can go to some minimum and to some maximum.\n",
    "But notice what's happening here.\n",
    "I can only go to a minimum of negative one and to a maximum of three.\n",
    "And if I were to expand this to ten, suddenly I can go to a max of 30 and a minimum, a minimum of\n",
    "negative ten.\n",
    "\n",
    "So what happens is your minimum is defined by the X and your maximum is defined by X times three.\n",
    "So you may be wondering, well, how do I actually change my minimum, my maximum and even my step size\n",
    "or my starting value?"
   ]
  },
  {
   "cell_type": "code",
   "execution_count": 15,
   "id": "5b68e273",
   "metadata": {},
   "outputs": [
    {
     "data": {
      "application/vnd.jupyter.widget-view+json": {
       "model_id": "2e66bca19b044c9fa416eae6c0f4b342",
       "version_major": 2,
       "version_minor": 0
      },
      "text/plain": [
       "interactive(children=(IntSlider(value=0, description='x', min=-100), Output()), _dom_classes=('widget-interact…"
      ]
     },
     "metadata": {},
     "output_type": "display_data"
    },
    {
     "data": {
      "text/plain": [
       "<function __main__.func(x)>"
      ]
     },
     "execution_count": 15,
     "metadata": {},
     "output_type": "execute_result"
    }
   ],
   "source": [
    "interact(func, x=widgets.IntSlider(min=-100, max=100, step=1, value=0))"
   ]
  },
  {
   "cell_type": "markdown",
   "id": "4aa11788",
   "metadata": {},
   "source": [
    "So these are the widgets that you can specifically call if you want more options in the functionality\n",
    "of the widgets instead of just the ones that are created for you.\n",
    "\n",
    "Now because sliders are so commonly used with widgets, there's actually ways to abbreviate all this\n",
    "functionality here."
   ]
  },
  {
   "cell_type": "code",
   "execution_count": 17,
   "id": "0310f642",
   "metadata": {},
   "outputs": [
    {
     "data": {
      "application/vnd.jupyter.widget-view+json": {
       "model_id": "786fe1478f6541b388a473e350d9cd8c",
       "version_major": 2,
       "version_minor": 0
      },
      "text/plain": [
       "interactive(children=(IntSlider(value=0, description='x', min=-100), Output()), _dom_classes=('widget-interact…"
      ]
     },
     "metadata": {},
     "output_type": "display_data"
    },
    {
     "data": {
      "text/plain": [
       "<function __main__.func(x)>"
      ]
     },
     "execution_count": 17,
     "metadata": {},
     "output_type": "execute_result"
    }
   ],
   "source": [
    "interact(func, x=(-100,100,1))"
   ]
  },
  {
   "cell_type": "markdown",
   "id": "7671e95b",
   "metadata": {},
   "source": [
    "This is known as an abbreviation of this widget right here because now I'm just passing in an abbreviated\n",
    "tuple instead of calling integer slider"
   ]
  },
  {
   "cell_type": "code",
   "execution_count": 18,
   "id": "a71f67f6",
   "metadata": {},
   "outputs": [
    {
     "data": {
      "application/vnd.jupyter.widget-view+json": {
       "model_id": "03afba0a61644f86a7c981523518a9b5",
       "version_major": 2,
       "version_minor": 0
      },
      "text/plain": [
       "interactive(children=(FloatSlider(value=0.0, description='x', max=10.0, min=-10.0), Output()), _dom_classes=('…"
      ]
     },
     "metadata": {},
     "output_type": "display_data"
    },
    {
     "data": {
      "text/plain": [
       "<function __main__.func(x)>"
      ]
     },
     "execution_count": 18,
     "metadata": {},
     "output_type": "execute_result"
    }
   ],
   "source": [
    "interact(func, x=(-10.0,10.0,0.1))"
   ]
  },
  {
   "cell_type": "markdown",
   "id": "ec947b61",
   "metadata": {},
   "source": [
    "And if we wanted this to be a floating point slider, all you had to do was specify floats Now Jupiter Widgets realizes, oh, he wants a float slider.\n",
    "So then we have the floating point slider here.\n",
    "And notice now our step size is 0.1 and we're going from -10.0 all the way to positive 10.0 and step\n",
    "sizes of point one, again, using this abbreviated format."
   ]
  },
  {
   "cell_type": "code",
   "execution_count": 19,
   "id": "5d7637b4",
   "metadata": {},
   "outputs": [
    {
     "data": {
      "application/vnd.jupyter.widget-view+json": {
       "model_id": "6eb59ea8fea94b89bbaaedc5ca9d2c72",
       "version_major": 2,
       "version_minor": 0
      },
      "text/plain": [
       "interactive(children=(Dropdown(description='x', options=('opt1', 'opt2', 'opt3'), value='opt1'), Output()), _d…"
      ]
     },
     "metadata": {},
     "output_type": "display_data"
    },
    {
     "data": {
      "text/plain": [
       "<function __main__.func(x)>"
      ]
     },
     "execution_count": 19,
     "metadata": {},
     "output_type": "execute_result"
    }
   ],
   "source": [
    "interact(func, x=['opt1', 'opt2', 'opt3'])"
   ]
  },
  {
   "cell_type": "markdown",
   "id": "6c676f39",
   "metadata": {},
   "source": [
    "Tuples are sliders.\n",
    "The list with strings is going to be a dropdown menu."
   ]
  },
  {
   "cell_type": "code",
   "execution_count": 24,
   "id": "b6d37081",
   "metadata": {},
   "outputs": [
    {
     "data": {
      "application/vnd.jupyter.widget-view+json": {
       "model_id": "fc05ed254ea94de1a62e7ebe9760b48c",
       "version_major": 2,
       "version_minor": 0
      },
      "text/plain": [
       "interactive(children=(Dropdown(description='x', options={'opt1': 10, 'opt2': 20, 'opt3': 30}, value=10), Outpu…"
      ]
     },
     "metadata": {},
     "output_type": "display_data"
    },
    {
     "data": {
      "text/plain": [
       "<function __main__.func(x)>"
      ]
     },
     "execution_count": 24,
     "metadata": {},
     "output_type": "execute_result"
    }
   ],
   "source": [
    "interact(func, x={'opt1':10, 'opt2':20, 'opt3':30})"
   ]
  },
  {
   "cell_type": "markdown",
   "id": "5a2294e7",
   "metadata": {},
   "source": [
    "Jupyter in general provides another function called\n",
    "interactive instead of interact.\n",
    "And it's useful when you want to reuse the widgets that are already been produced or access the data\n",
    "that is bound to the user interface controls.\n",
    "\n",
    "So unlike interact, the return value of the function will not be displayed automatically, but you\n",
    "can display a value inside the function using a python display.\n",
    "\n",
    "how we could use the interactive functionality in order to save this to a variable.\n",
    "So I can later display that variable and again see the inputs and the outputs."
   ]
  },
  {
   "cell_type": "markdown",
   "id": "9dd8da85",
   "metadata": {},
   "source": [
    "for the interactive check notebooks\n",
    "\n",
    "link: https://github.com/Pierian-Data/Complete-Python-3-Bootcamp/blob/master/19-Bonus%20Material%20-%20Introduction%20to%20GUIs/01-Interact.ipynb"
   ]
  },
  {
   "cell_type": "markdown",
   "id": "970352af",
   "metadata": {},
   "source": [
    "Last thing I want to note here is when you're using the Jupyter Notebook, you may have noticed that\n",
    "there's this report here that the output is some sort of function.\n",
    "If you don't want to see that, all you have to do is have a semicolon here.\n",
    "And then when you run this, you will no longer see the output."
   ]
  },
  {
   "cell_type": "code",
   "execution_count": 25,
   "id": "2b322fb1",
   "metadata": {},
   "outputs": [
    {
     "data": {
      "application/vnd.jupyter.widget-view+json": {
       "model_id": "c1ae84052b3945b895df6a7185a07cc6",
       "version_major": 2,
       "version_minor": 0
      },
      "text/plain": [
       "interactive(children=(Checkbox(value=True, description='x'), Output()), _dom_classes=('widget-interact',))"
      ]
     },
     "metadata": {},
     "output_type": "display_data"
    },
    {
     "data": {
      "text/plain": [
       "<function __main__.func(x)>"
      ]
     },
     "execution_count": 25,
     "metadata": {},
     "output_type": "execute_result"
    }
   ],
   "source": [
    "interact(func, x=True) # with output"
   ]
  },
  {
   "cell_type": "code",
   "execution_count": 26,
   "id": "63626fc8",
   "metadata": {},
   "outputs": [
    {
     "data": {
      "application/vnd.jupyter.widget-view+json": {
       "model_id": "44eec1d276d741dcb9120648a779644c",
       "version_major": 2,
       "version_minor": 0
      },
      "text/plain": [
       "interactive(children=(Checkbox(value=True, description='x'), Output()), _dom_classes=('widget-interact',))"
      ]
     },
     "metadata": {},
     "output_type": "display_data"
    }
   ],
   "source": [
    "interact(func, x=True); # without output"
   ]
  }
 ],
 "metadata": {
  "kernelspec": {
   "display_name": "Python 3 (ipykernel)",
   "language": "python",
   "name": "python3"
  },
  "language_info": {
   "codemirror_mode": {
    "name": "ipython",
    "version": 3
   },
   "file_extension": ".py",
   "mimetype": "text/x-python",
   "name": "python",
   "nbconvert_exporter": "python",
   "pygments_lexer": "ipython3",
   "version": "3.9.13"
  }
 },
 "nbformat": 4,
 "nbformat_minor": 5
}
