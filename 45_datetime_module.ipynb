{
 "cells": [
  {
   "cell_type": "markdown",
   "id": "37781f8b",
   "metadata": {},
   "source": [
    "the DateTime module, which essentially allows you to create objects that have information not just on the date or the time, but also things like time zone and operations between date time objects, such as how many seconds have passed or how many days have passed."
   ]
  },
  {
   "cell_type": "code",
   "execution_count": 1,
   "id": "117a9ddb",
   "metadata": {},
   "outputs": [],
   "source": [
    "import datetime"
   ]
  },
  {
   "cell_type": "code",
   "execution_count": 3,
   "id": "7a0d37f9",
   "metadata": {},
   "outputs": [],
   "source": [
    "mytime = datetime.time(2,20) # this is running on a 24 hour clock"
   ]
  },
  {
   "cell_type": "markdown",
   "id": "dd5b9452",
   "metadata": {},
   "source": [
    "If you do not provide certain information, it's just going to automatically fill it in."
   ]
  },
  {
   "cell_type": "code",
   "execution_count": 4,
   "id": "f770392e",
   "metadata": {},
   "outputs": [
    {
     "data": {
      "text/plain": [
       "20"
      ]
     },
     "execution_count": 4,
     "metadata": {},
     "output_type": "execute_result"
    }
   ],
   "source": [
    "mytime.minute"
   ]
  },
  {
   "cell_type": "code",
   "execution_count": 5,
   "id": "0850865a",
   "metadata": {},
   "outputs": [
    {
     "name": "stdout",
     "output_type": "stream",
     "text": [
      "02:20:00\n"
     ]
    }
   ],
   "source": [
    "print(mytime)"
   ]
  },
  {
   "cell_type": "code",
   "execution_count": 7,
   "id": "672cfcd4",
   "metadata": {},
   "outputs": [],
   "source": [
    "mytime1 = datetime.time(13,23,34,12) # if you don't define microseconds, it won't bother to display them for you"
   ]
  },
  {
   "cell_type": "code",
   "execution_count": 8,
   "id": "fc069596",
   "metadata": {},
   "outputs": [
    {
     "name": "stdout",
     "output_type": "stream",
     "text": [
      "13:23:34.000012\n"
     ]
    }
   ],
   "source": [
    "print(mytime1)"
   ]
  },
  {
   "cell_type": "code",
   "execution_count": 9,
   "id": "6b01b18d",
   "metadata": {},
   "outputs": [
    {
     "data": {
      "text/plain": [
       "datetime.time"
      ]
     },
     "execution_count": 9,
     "metadata": {},
     "output_type": "execute_result"
    }
   ],
   "source": [
    "type(mytime)"
   ]
  },
  {
   "cell_type": "code",
   "execution_count": 10,
   "id": "85a1764f",
   "metadata": {},
   "outputs": [],
   "source": [
    "today = datetime.date.today()"
   ]
  },
  {
   "cell_type": "code",
   "execution_count": 12,
   "id": "16b8c26e",
   "metadata": {},
   "outputs": [
    {
     "name": "stdout",
     "output_type": "stream",
     "text": [
      "2022-12-04\n"
     ]
    }
   ],
   "source": [
    "print(today)"
   ]
  },
  {
   "cell_type": "markdown",
   "id": "e566f7d0",
   "metadata": {},
   "source": [
    "the format follows the European kind of standard, which is the year, the month, the date, and in general, most programming languages will follow this sample from the largest time scale years to smaller and smaller months, days, and so on."
   ]
  },
  {
   "cell_type": "code",
   "execution_count": 13,
   "id": "ffb738ab",
   "metadata": {},
   "outputs": [
    {
     "data": {
      "text/plain": [
       "2022"
      ]
     },
     "execution_count": 13,
     "metadata": {},
     "output_type": "execute_result"
    }
   ],
   "source": [
    "today.year"
   ]
  },
  {
   "cell_type": "code",
   "execution_count": 14,
   "id": "3cae0152",
   "metadata": {},
   "outputs": [
    {
     "data": {
      "text/plain": [
       "12"
      ]
     },
     "execution_count": 14,
     "metadata": {},
     "output_type": "execute_result"
    }
   ],
   "source": [
    "today.month"
   ]
  },
  {
   "cell_type": "code",
   "execution_count": 15,
   "id": "e4c86683",
   "metadata": {},
   "outputs": [
    {
     "data": {
      "text/plain": [
       "4"
      ]
     },
     "execution_count": 15,
     "metadata": {},
     "output_type": "execute_result"
    }
   ],
   "source": [
    "today.day"
   ]
  },
  {
   "cell_type": "markdown",
   "id": "1f6b2714",
   "metadata": {},
   "source": [
    "And Python also allows you to return something called C time formatting, which is just another way\n",
    "of formatting this along with some time information.\n",
    "So I can say go ahead, grab today, call C time on it and it'll print it out in this format where it will give you the day in three letters, the month, the date itself."
   ]
  },
  {
   "cell_type": "code",
   "execution_count": 16,
   "id": "cd244f91",
   "metadata": {},
   "outputs": [
    {
     "data": {
      "text/plain": [
       "'Sun Dec  4 00:00:00 2022'"
      ]
     },
     "execution_count": 16,
     "metadata": {},
     "output_type": "execute_result"
    }
   ],
   "source": [
    "today.ctime()"
   ]
  },
  {
   "cell_type": "markdown",
   "id": "5de1fba3",
   "metadata": {},
   "source": [
    "So let's say now you don't just want date information and you also don't want just time information.\n",
    "You actually want date time information.\n",
    "So information that combines both of these"
   ]
  },
  {
   "cell_type": "code",
   "execution_count": 17,
   "id": "75669211",
   "metadata": {},
   "outputs": [],
   "source": [
    "from datetime import datetime"
   ]
  },
  {
   "cell_type": "code",
   "execution_count": 18,
   "id": "fc87e6e4",
   "metadata": {},
   "outputs": [],
   "source": [
    "mydatetime = datetime(2021,10,3,16,23,32)"
   ]
  },
  {
   "cell_type": "code",
   "execution_count": 19,
   "id": "ba1276f7",
   "metadata": {},
   "outputs": [
    {
     "name": "stdout",
     "output_type": "stream",
     "text": [
      "2021-10-03 16:23:32\n"
     ]
    }
   ],
   "source": [
    "print(mydatetime) # we see the information printed out here again, going from the largest time scale to the smallest"
   ]
  },
  {
   "cell_type": "markdown",
   "id": "839f0f77",
   "metadata": {},
   "source": [
    "Now, for some reason, you made a mistake or you need to do some sort of replacement.\n",
    "Like, for instance, actually said 2021 and I need this to all be in 2020.\n",
    "I can do that with the replace functionality"
   ]
  },
  {
   "cell_type": "code",
   "execution_count": 21,
   "id": "85604b9c",
   "metadata": {},
   "outputs": [],
   "source": [
    "mydatetime = mydatetime.replace(year=2020)"
   ]
  },
  {
   "cell_type": "code",
   "execution_count": 22,
   "id": "6b172194",
   "metadata": {},
   "outputs": [
    {
     "name": "stdout",
     "output_type": "stream",
     "text": [
      "2020-10-03 16:23:32\n"
     ]
    }
   ],
   "source": [
    "print(mydatetime) # updated"
   ]
  },
  {
   "cell_type": "markdown",
   "id": "6388c8c9",
   "metadata": {},
   "source": [
    "something that's really common to perform with date time objects or date objects is just simple\n",
    "arithmetic.\n",
    "\n",
    "For example, let's say someone logs in to your website on a certain day and then they log back out\n",
    "on another day or at a certain date time or they leave at a certain date time.\n",
    "\n",
    "You probably want to figure out, well, how long they spend on my website or how long do they spend\n",
    "logged in.\n",
    "\n",
    "And we can perform simple arithmetic to solve for these."
   ]
  },
  {
   "cell_type": "code",
   "execution_count": 23,
   "id": "4c046ce1",
   "metadata": {},
   "outputs": [],
   "source": [
    "from datetime import date"
   ]
  },
  {
   "cell_type": "code",
   "execution_count": 24,
   "id": "ce49e2b4",
   "metadata": {},
   "outputs": [],
   "source": [
    "date1 = date(2022, 12, 17)\n",
    "date2 = date(2022, 12, 6)"
   ]
  },
  {
   "cell_type": "code",
   "execution_count": 26,
   "id": "d1f2918f",
   "metadata": {},
   "outputs": [],
   "source": [
    "result = date1 - date2 # it reports back the difference in number of days"
   ]
  },
  {
   "cell_type": "code",
   "execution_count": 29,
   "id": "263f6818",
   "metadata": {},
   "outputs": [
    {
     "name": "stdout",
     "output_type": "stream",
     "text": [
      "11 days, 0:00:00\n"
     ]
    }
   ],
   "source": [
    "print(result)"
   ]
  },
  {
   "cell_type": "code",
   "execution_count": 28,
   "id": "06cdeb9c",
   "metadata": {},
   "outputs": [
    {
     "data": {
      "text/plain": [
       "datetime.timedelta"
      ]
     },
     "execution_count": 28,
     "metadata": {},
     "output_type": "execute_result"
    }
   ],
   "source": [
    "type(result) # it's a special time delta object which has its own properties and attributes"
   ]
  },
  {
   "cell_type": "code",
   "execution_count": 33,
   "id": "009258cf",
   "metadata": {},
   "outputs": [],
   "source": [
    "datetime1 = datetime(2022, 12, 17, 23, 32, 12)\n",
    "datetime2 = datetime(2022, 12, 7, 13, 12, 45)"
   ]
  },
  {
   "cell_type": "code",
   "execution_count": 37,
   "id": "bfd04d84",
   "metadata": {},
   "outputs": [],
   "source": [
    "mydiff = datetime1 - datetime2"
   ]
  },
  {
   "cell_type": "code",
   "execution_count": 38,
   "id": "c39f9ee4",
   "metadata": {},
   "outputs": [
    {
     "name": "stdout",
     "output_type": "stream",
     "text": [
      "10 days, 10:19:27\n"
     ]
    }
   ],
   "source": [
    "print(mydiff)"
   ]
  },
  {
   "cell_type": "code",
   "execution_count": 39,
   "id": "00c85c17",
   "metadata": {},
   "outputs": [
    {
     "data": {
      "text/plain": [
       "datetime.timedelta(days=10, seconds=37167)"
      ]
     },
     "execution_count": 39,
     "metadata": {},
     "output_type": "execute_result"
    }
   ],
   "source": [
    "mydiff"
   ]
  },
  {
   "cell_type": "code",
   "execution_count": 36,
   "id": "f1b000b9",
   "metadata": {},
   "outputs": [
    {
     "data": {
      "text/plain": [
       "10.324166666666667"
      ]
     },
     "execution_count": 36,
     "metadata": {},
     "output_type": "execute_result"
    }
   ],
   "source": [
    "37167/60/60 # these many hours apart"
   ]
  },
  {
   "cell_type": "code",
   "execution_count": 40,
   "id": "fcc688bc",
   "metadata": {},
   "outputs": [
    {
     "data": {
      "text/plain": [
       "37167"
      ]
     },
     "execution_count": 40,
     "metadata": {},
     "output_type": "execute_result"
    }
   ],
   "source": [
    "mydiff.seconds"
   ]
  },
  {
   "cell_type": "markdown",
   "id": "c12bdcfc",
   "metadata": {},
   "source": [
    "You'll often find yourself encountering this if you're ever dealing with a database."
   ]
  }
 ],
 "metadata": {
  "kernelspec": {
   "display_name": "Python 3 (ipykernel)",
   "language": "python",
   "name": "python3"
  },
  "language_info": {
   "codemirror_mode": {
    "name": "ipython",
    "version": 3
   },
   "file_extension": ".py",
   "mimetype": "text/x-python",
   "name": "python",
   "nbconvert_exporter": "python",
   "pygments_lexer": "ipython3",
   "version": "3.9.13"
  }
 },
 "nbformat": 4,
 "nbformat_minor": 5
}
