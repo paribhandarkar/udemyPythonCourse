{
 "cells": [
  {
   "cell_type": "markdown",
   "id": "f3c328df",
   "metadata": {},
   "source": [
    "the math module. it's essentially just a module that holds a ton of useful math functions.\n",
    "\n",
    "the random module that contains a lot of mathematical random functions, as well as random functions for grabbing a random item from a python list."
   ]
  },
  {
   "cell_type": "code",
   "execution_count": 1,
   "id": "3d023518",
   "metadata": {},
   "outputs": [],
   "source": [
    "import math"
   ]
  },
  {
   "cell_type": "markdown",
   "id": "6c6d8642",
   "metadata": {},
   "source": [
    "<code> help(math) </code>\n",
    "\n",
    "it'll describe that this module is always available and essentially has a bunch of mathematical\n",
    "functions available.\n",
    "\n",
    "Everything from trigonometric functions like cosine or hyperbolic cosine or inverse hyperbolic cosine\n",
    "all the way to simpler things like taking the floor of a number,\n",
    "that is less than or equal to X and so on."
   ]
  },
  {
   "cell_type": "code",
   "execution_count": 3,
   "id": "856502bd",
   "metadata": {},
   "outputs": [],
   "source": [
    "value = 17.02"
   ]
  },
  {
   "cell_type": "code",
   "execution_count": 4,
   "id": "1b8e724f",
   "metadata": {},
   "outputs": [
    {
     "data": {
      "text/plain": [
       "17"
      ]
     },
     "execution_count": 4,
     "metadata": {},
     "output_type": "execute_result"
    }
   ],
   "source": [
    "math.floor(value)"
   ]
  },
  {
   "cell_type": "code",
   "execution_count": 5,
   "id": "fd7c4409",
   "metadata": {},
   "outputs": [
    {
     "data": {
      "text/plain": [
       "18"
      ]
     },
     "execution_count": 5,
     "metadata": {},
     "output_type": "execute_result"
    }
   ],
   "source": [
    "math.ceil(value)"
   ]
  },
  {
   "cell_type": "code",
   "execution_count": 7,
   "id": "a03f8808",
   "metadata": {},
   "outputs": [
    {
     "data": {
      "text/plain": [
       "17"
      ]
     },
     "execution_count": 7,
     "metadata": {},
     "output_type": "execute_result"
    }
   ],
   "source": [
    "round(value) # It's not part of the math module because it's common enough to use"
   ]
  },
  {
   "cell_type": "code",
   "execution_count": 8,
   "id": "7f24c8a3",
   "metadata": {},
   "outputs": [
    {
     "data": {
      "text/plain": [
       "4"
      ]
     },
     "execution_count": 8,
     "metadata": {},
     "output_type": "execute_result"
    }
   ],
   "source": [
    "round(4.5)"
   ]
  },
  {
   "cell_type": "code",
   "execution_count": 9,
   "id": "58931d62",
   "metadata": {},
   "outputs": [
    {
     "data": {
      "text/plain": [
       "6"
      ]
     },
     "execution_count": 9,
     "metadata": {},
     "output_type": "execute_result"
    }
   ],
   "source": [
    "round(5.5)"
   ]
  },
  {
   "cell_type": "markdown",
   "id": "77df560a",
   "metadata": {},
   "source": [
    "always rounds to the nearest even no."
   ]
  },
  {
   "cell_type": "code",
   "execution_count": 10,
   "id": "42321fc1",
   "metadata": {},
   "outputs": [
    {
     "data": {
      "text/plain": [
       "3.141592653589793"
      ]
     },
     "execution_count": 10,
     "metadata": {},
     "output_type": "execute_result"
    }
   ],
   "source": [
    "math.pi"
   ]
  },
  {
   "cell_type": "code",
   "execution_count": 11,
   "id": "ac25343d",
   "metadata": {},
   "outputs": [
    {
     "data": {
      "text/plain": [
       "2.718281828459045"
      ]
     },
     "execution_count": 11,
     "metadata": {},
     "output_type": "execute_result"
    }
   ],
   "source": [
    "math.e"
   ]
  },
  {
   "cell_type": "code",
   "execution_count": 12,
   "id": "22ab7bc1",
   "metadata": {},
   "outputs": [
    {
     "data": {
      "text/plain": [
       "inf"
      ]
     },
     "execution_count": 12,
     "metadata": {},
     "output_type": "execute_result"
    }
   ],
   "source": [
    "math.inf"
   ]
  },
  {
   "cell_type": "code",
   "execution_count": 13,
   "id": "4ef82d44",
   "metadata": {},
   "outputs": [
    {
     "data": {
      "text/plain": [
       "nan"
      ]
     },
     "execution_count": 13,
     "metadata": {},
     "output_type": "execute_result"
    }
   ],
   "source": [
    "math.nan"
   ]
  },
  {
   "cell_type": "markdown",
   "id": "3e55cb3a",
   "metadata": {},
   "source": [
    "if you find yourself that you're working with heavy enough mathematics\n",
    "that you're going to be using math or infinity or math, not a number, you may want to check out the\n",
    "num pi library.\n",
    "\n",
    "It's a library specifically designed for numerical processing and it's highly efficient and goes much\n",
    "deeper than Python's built in math module."
   ]
  },
  {
   "cell_type": "code",
   "execution_count": 14,
   "id": "51db4344",
   "metadata": {},
   "outputs": [
    {
     "data": {
      "text/plain": [
       "1.0"
      ]
     },
     "execution_count": 14,
     "metadata": {},
     "output_type": "execute_result"
    }
   ],
   "source": [
    "math.log(math.e)"
   ]
  },
  {
   "cell_type": "code",
   "execution_count": 15,
   "id": "4a752e45",
   "metadata": {},
   "outputs": [
    {
     "data": {
      "text/plain": [
       "2.0"
      ]
     },
     "execution_count": 15,
     "metadata": {},
     "output_type": "execute_result"
    }
   ],
   "source": [
    "math.log(100,10)"
   ]
  },
  {
   "cell_type": "code",
   "execution_count": 16,
   "id": "8ac5ec2c",
   "metadata": {},
   "outputs": [
    {
     "data": {
      "text/plain": [
       "0.8939966636005579"
      ]
     },
     "execution_count": 16,
     "metadata": {},
     "output_type": "execute_result"
    }
   ],
   "source": [
    "math.sin(90) # It returns it back in radians"
   ]
  },
  {
   "cell_type": "code",
   "execution_count": 19,
   "id": "73641bd4",
   "metadata": {},
   "outputs": [
    {
     "data": {
      "text/plain": [
       "90.0"
      ]
     },
     "execution_count": 19,
     "metadata": {},
     "output_type": "execute_result"
    }
   ],
   "source": [
    "math.degrees(math.pi/2)"
   ]
  },
  {
   "cell_type": "markdown",
   "id": "25cc6cf3",
   "metadata": {},
   "source": [
    "The random module allows us to create random numbers and we can even set a seed to produce the same\n",
    "random set every time.\n",
    "\n",
    "Now, an explanation of how computers attempt to generate random numbers is really beyond the scope\n",
    "of this course because it actually involves some pretty high level mathematics on how computers use\n",
    "what are known as pseudo random number generators."
   ]
  },
  {
   "cell_type": "code",
   "execution_count": 20,
   "id": "24c507ac",
   "metadata": {},
   "outputs": [],
   "source": [
    "import random"
   ]
  },
  {
   "cell_type": "code",
   "execution_count": 22,
   "id": "e5690d43",
   "metadata": {},
   "outputs": [
    {
     "data": {
      "text/plain": [
       "30"
      ]
     },
     "execution_count": 22,
     "metadata": {},
     "output_type": "execute_result"
    }
   ],
   "source": [
    "random.randint(12, 56) # it's going to return back some random integer b/w 12 and 56"
   ]
  },
  {
   "cell_type": "markdown",
   "id": "ab708dd5",
   "metadata": {},
   "source": [
    "However, what if I'm testing a code script and I want to make adjustments to this script of code,\n",
    "but I want to test it on random numbers, but the same batch of random numbers.\n",
    "\n",
    "This is where the seed comes into play.\n",
    "Setting a seed allows us to start from a seeded pseudo random number generator, which means the same\n",
    "random numbers will show up in a series when it comes to running this within Jupyter in order to make\n",
    "sure this works.\n",
    "Your seed should be in the same cell as whatever function you're using to generate random numbers.\n",
    "\n",
    "So we call random seed, and then it's up to you to choose some seed value.\n",
    "\n",
    "Note This value is completely arbitrary.\n",
    "It can be whatever you want.\n",
    "Often people do 101 just because it's easy to remember and it looks nice.\n",
    "Other times, people, especially libraries, often use 42 because of Hitchhiker's Guide to the Galaxy,\n",
    "just a reference to that."
   ]
  },
  {
   "cell_type": "code",
   "execution_count": 24,
   "id": "01c50fca",
   "metadata": {},
   "outputs": [
    {
     "data": {
      "text/plain": [
       "84"
      ]
     },
     "execution_count": 24,
     "metadata": {},
     "output_type": "execute_result"
    }
   ],
   "source": [
    "random.seed(101)\n",
    "\n",
    "random.randint(10, 100)"
   ]
  },
  {
   "cell_type": "markdown",
   "id": "9a90a872",
   "metadata": {},
   "source": [
    "It doesn't matter how many times I run this cell, I always get back 84 because the seed set and the seed essentially starts the same series of random integers."
   ]
  },
  {
   "cell_type": "code",
   "execution_count": 30,
   "id": "4602a171",
   "metadata": {},
   "outputs": [
    {
     "name": "stdout",
     "output_type": "stream",
     "text": [
      "148\n",
      "49\n",
      "138\n",
      "91\n"
     ]
    }
   ],
   "source": [
    "random.seed(101)\n",
    "\n",
    "print(random.randint(0, 200))\n",
    "print(random.randint(0, 200))\n",
    "print(random.randint(0, 200))\n",
    "print(random.randint(0, 200))"
   ]
  },
  {
   "cell_type": "markdown",
   "id": "7abc4c93",
   "metadata": {},
   "source": [
    "So the thing I really want to clarify here is just because you set a seed doesn't mean that every time\n",
    "you call random integer, it'll always return it\n",
    "\n",
    "Instead, you should think of it as setting a seed for any sequence of basically infinite random numbers."
   ]
  },
  {
   "cell_type": "code",
   "execution_count": 31,
   "id": "73845e60",
   "metadata": {},
   "outputs": [],
   "source": [
    "mylist = list(range(0,20))"
   ]
  },
  {
   "cell_type": "code",
   "execution_count": 32,
   "id": "d06c3c00",
   "metadata": {},
   "outputs": [
    {
     "data": {
      "text/plain": [
       "[0, 1, 2, 3, 4, 5, 6, 7, 8, 9, 10, 11, 12, 13, 14, 15, 16, 17, 18, 19]"
      ]
     },
     "execution_count": 32,
     "metadata": {},
     "output_type": "execute_result"
    }
   ],
   "source": [
    "mylist"
   ]
  },
  {
   "cell_type": "code",
   "execution_count": 33,
   "id": "dfe4a840",
   "metadata": {},
   "outputs": [
    {
     "data": {
      "text/plain": [
       "14"
      ]
     },
     "execution_count": 33,
     "metadata": {},
     "output_type": "execute_result"
    }
   ],
   "source": [
    "random.choice(mylist) # it chooses some random integer from this"
   ]
  },
  {
   "cell_type": "markdown",
   "id": "094e7a9c",
   "metadata": {},
   "source": [
    "Keep in mind this does not permanently affect your list.\n",
    "\n",
    "14 is still there within your list.\n",
    "\n",
    "Now that's just for grabbing one item.\n",
    "\n",
    "Let's imagine you want to grab multiple items.\n",
    "Let's say I want five random numbers from this list.\n",
    "\n",
    "Well, there's two different ways of doing that:\n",
    "\n",
    "One is to allow yourself to pick the same number twice.\n",
    "So that's sampling with replacement\n",
    "\n",
    "you sample without replacement means once you've picked out an\n",
    "item from this list, you can't pick it again."
   ]
  },
  {
   "cell_type": "code",
   "execution_count": 35,
   "id": "91356169",
   "metadata": {},
   "outputs": [
    {
     "data": {
      "text/plain": [
       "[8, 10, 3, 15, 4, 15, 8, 1, 9, 4]"
      ]
     },
     "execution_count": 35,
     "metadata": {},
     "output_type": "execute_result"
    }
   ],
   "source": [
    "# sample with replacement\n",
    "# that's going to be allowing the same integer in this case to be chosen more than once\n",
    "\n",
    "random.choices(population=mylist, k=10)"
   ]
  },
  {
   "cell_type": "markdown",
   "id": "965b02e2",
   "metadata": {},
   "source": [
    "as u can see 8 was repeated"
   ]
  },
  {
   "cell_type": "code",
   "execution_count": 37,
   "id": "c3649a2c",
   "metadata": {},
   "outputs": [
    {
     "data": {
      "text/plain": [
       "[19, 10, 8, 12, 16, 3, 6, 1, 13, 18]"
      ]
     },
     "execution_count": 37,
     "metadata": {},
     "output_type": "execute_result"
    }
   ],
   "source": [
    "# sample without replacement\n",
    "# once I've chosen a number, I don't get to pick it again\n",
    "\n",
    "random.sample(population=mylist, k=10)"
   ]
  },
  {
   "cell_type": "markdown",
   "id": "053854f1",
   "metadata": {},
   "source": [
    "no repetition"
   ]
  },
  {
   "cell_type": "code",
   "execution_count": 38,
   "id": "15c7068a",
   "metadata": {},
   "outputs": [
    {
     "data": {
      "text/plain": [
       "[0, 1, 2, 3, 4, 5, 6, 7, 8, 9, 10, 11, 12, 13, 14, 15, 16, 17, 18, 19]"
      ]
     },
     "execution_count": 38,
     "metadata": {},
     "output_type": "execute_result"
    }
   ],
   "source": [
    "mylist"
   ]
  },
  {
   "cell_type": "code",
   "execution_count": 39,
   "id": "9a9e1efb",
   "metadata": {},
   "outputs": [],
   "source": [
    "random.shuffle(mylist)"
   ]
  },
  {
   "cell_type": "markdown",
   "id": "813a0539",
   "metadata": {},
   "source": [
    "Keep in mind, this will permanently affect the list, so you don't need to actually assign the result to anything."
   ]
  },
  {
   "cell_type": "code",
   "execution_count": 40,
   "id": "a4c038d6",
   "metadata": {},
   "outputs": [
    {
     "data": {
      "text/plain": [
       "[8, 10, 16, 7, 1, 15, 9, 2, 4, 19, 11, 17, 18, 12, 5, 3, 6, 14, 0, 13]"
      ]
     },
     "execution_count": 40,
     "metadata": {},
     "output_type": "execute_result"
    }
   ],
   "source": [
    "mylist # the list is permanently affected"
   ]
  },
  {
   "cell_type": "code",
   "execution_count": 42,
   "id": "81f77321",
   "metadata": {},
   "outputs": [
    {
     "data": {
      "text/plain": [
       "99.08921325823393"
      ]
     },
     "execution_count": 42,
     "metadata": {},
     "output_type": "execute_result"
    }
   ],
   "source": [
    "random.uniform(a=0, b=100)"
   ]
  },
  {
   "cell_type": "markdown",
   "id": "d6161cdb",
   "metadata": {},
   "source": [
    "the reason that it's called uniform is because every number between zero and 100 has the same likelihood of being chosen\n",
    "\n",
    "floating point numbers are allowed so it can pick any number between zero and 100, up\n",
    "to a very large floating point precision."
   ]
  },
  {
   "cell_type": "markdown",
   "id": "625ef339",
   "metadata": {},
   "source": [
    "it's a really powerful library and I would highly recommend that if you're calling random.uniform\n",
    "random.gauss, you just start switching over to NumPy at that point."
   ]
  }
 ],
 "metadata": {
  "kernelspec": {
   "display_name": "Python 3 (ipykernel)",
   "language": "python",
   "name": "python3"
  },
  "language_info": {
   "codemirror_mode": {
    "name": "ipython",
    "version": 3
   },
   "file_extension": ".py",
   "mimetype": "text/x-python",
   "name": "python",
   "nbconvert_exporter": "python",
   "pygments_lexer": "ipython3",
   "version": "3.9.13"
  }
 },
 "nbformat": 4,
 "nbformat_minor": 5
}
