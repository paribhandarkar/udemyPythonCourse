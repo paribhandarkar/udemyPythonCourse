{
 "cells": [
  {
   "cell_type": "markdown",
   "id": "e68b626a",
   "metadata": {},
   "source": [
    "We can use error handling in an attempt to plan for possible errors that may arise in our code in the future.\n",
    "Currently, if there's any sort of error inside our programs, the entire script is going to stop and we get back some sort of error statement.\n",
    "We can actually use error handling to let the script continue with the other code and report the error.\n",
    "So even if there's an error, the code will report the error and continue on.\n",
    "\n",
    "Now there's three key words for this entire process of exception handling and it's the try, except and finally keywords and these are all going to have a block of code associated with them.\n",
    "\n",
    "the try block of code, that's the block of code that's going to be attempted. And this may or may not lead to an error.\n",
    "\n",
    "So once you try the actual try block of code, if there is an error, you have the except block and this is a block of code that will execute in case there's any error inside of that try block\n",
    "\n",
    "Then you have a final block of code, which is always executed whether or not there's an exception or error occurring."
   ]
  },
  {
   "cell_type": "code",
   "execution_count": 2,
   "id": "7376e3bf",
   "metadata": {},
   "outputs": [
    {
     "name": "stdout",
     "output_type": "stream",
     "text": [
      "50\n"
     ]
    }
   ],
   "source": [
    "def add_func(n1,n2):\n",
    "    print(n1+n2)\n",
    "\n",
    "add_func(20,30)"
   ]
  },
  {
   "cell_type": "code",
   "execution_count": 4,
   "id": "00a8f174",
   "metadata": {},
   "outputs": [
    {
     "name": "stdout",
     "output_type": "stream",
     "text": [
      "enter a number: 23\n"
     ]
    },
    {
     "ename": "TypeError",
     "evalue": "unsupported operand type(s) for +: 'int' and 'str'",
     "output_type": "error",
     "traceback": [
      "\u001b[1;31m---------------------------------------------------------------------------\u001b[0m",
      "\u001b[1;31mTypeError\u001b[0m                                 Traceback (most recent call last)",
      "\u001b[1;32m~\\AppData\\Local\\Temp\\ipykernel_13156\\2119786139.py\u001b[0m in \u001b[0;36m<module>\u001b[1;34m\u001b[0m\n\u001b[0;32m      1\u001b[0m \u001b[0mnum1\u001b[0m \u001b[1;33m=\u001b[0m \u001b[1;36m10\u001b[0m\u001b[1;33m\u001b[0m\u001b[1;33m\u001b[0m\u001b[0m\n\u001b[0;32m      2\u001b[0m \u001b[0mnum2\u001b[0m \u001b[1;33m=\u001b[0m \u001b[0minput\u001b[0m\u001b[1;33m(\u001b[0m\u001b[1;34m\"enter a number: \"\u001b[0m\u001b[1;33m)\u001b[0m\u001b[1;33m\u001b[0m\u001b[1;33m\u001b[0m\u001b[0m\n\u001b[1;32m----> 3\u001b[1;33m \u001b[0madd_func\u001b[0m\u001b[1;33m(\u001b[0m\u001b[0mnum1\u001b[0m\u001b[1;33m,\u001b[0m \u001b[0mnum2\u001b[0m\u001b[1;33m)\u001b[0m\u001b[1;33m\u001b[0m\u001b[1;33m\u001b[0m\u001b[0m\n\u001b[0m\u001b[0;32m      4\u001b[0m \u001b[0mprint\u001b[0m\u001b[1;33m(\u001b[0m\u001b[1;34m\"thank you\"\u001b[0m\u001b[1;33m)\u001b[0m\u001b[1;33m\u001b[0m\u001b[1;33m\u001b[0m\u001b[0m\n",
      "\u001b[1;32m~\\AppData\\Local\\Temp\\ipykernel_13156\\3942284331.py\u001b[0m in \u001b[0;36madd_func\u001b[1;34m(n1, n2)\u001b[0m\n\u001b[0;32m      1\u001b[0m \u001b[1;32mdef\u001b[0m \u001b[0madd_func\u001b[0m\u001b[1;33m(\u001b[0m\u001b[0mn1\u001b[0m\u001b[1;33m,\u001b[0m\u001b[0mn2\u001b[0m\u001b[1;33m)\u001b[0m\u001b[1;33m:\u001b[0m\u001b[1;33m\u001b[0m\u001b[1;33m\u001b[0m\u001b[0m\n\u001b[1;32m----> 2\u001b[1;33m     \u001b[0mprint\u001b[0m\u001b[1;33m(\u001b[0m\u001b[0mn1\u001b[0m\u001b[1;33m+\u001b[0m\u001b[0mn2\u001b[0m\u001b[1;33m)\u001b[0m\u001b[1;33m\u001b[0m\u001b[1;33m\u001b[0m\u001b[0m\n\u001b[0m\u001b[0;32m      3\u001b[0m \u001b[1;33m\u001b[0m\u001b[0m\n\u001b[0;32m      4\u001b[0m \u001b[0madd_func\u001b[0m\u001b[1;33m(\u001b[0m\u001b[1;36m20\u001b[0m\u001b[1;33m,\u001b[0m\u001b[1;36m30\u001b[0m\u001b[1;33m)\u001b[0m\u001b[1;33m\u001b[0m\u001b[1;33m\u001b[0m\u001b[0m\n",
      "\u001b[1;31mTypeError\u001b[0m: unsupported operand type(s) for +: 'int' and 'str'"
     ]
    }
   ],
   "source": [
    "num1 = 10\n",
    "num2 = input(\"enter a number: \")\n",
    "add_func(num1, num2)\n",
    "print(\"thank you\")"
   ]
  },
  {
   "cell_type": "markdown",
   "id": "c81bb4b7",
   "metadata": {},
   "source": [
    "it's basically telling you, Hey, I can't add an integer and a string together.\n",
    "\n",
    "And this is an example of the type of error you may get while running your code.\n",
    "\n",
    "Unfortunately print statement is never actually going to run. What's going to happen is I get an error and that's the end of my script. It doesn't matter if I have hundreds of lines past this block of code, I will still get this type error and nothing else after it is going to get executed.\n",
    "\n",
    "The idea behind the try, except and finally statements is that even if an error happens, we're going to try to do that block of code. And even if there's an error, we can continue with some more code."
   ]
  },
  {
   "cell_type": "code",
   "execution_count": 7,
   "id": "8193f05d",
   "metadata": {},
   "outputs": [
    {
     "name": "stdout",
     "output_type": "stream",
     "text": [
      "50\n",
      "enter a number: 23\n",
      "hey it looks like you aren't adding correctly\n",
      "thank you\n"
     ]
    }
   ],
   "source": [
    "try:\n",
    "    def add_func(n1,n2):\n",
    "        print(n1+n2)\n",
    "    add_func(20,30)\n",
    "    num1 = 10\n",
    "    num2 = input(\"enter a number: \")\n",
    "    add_func(num1, num2)\n",
    "except:\n",
    "    print(\"hey it looks like you aren't adding correctly\")\n",
    "else:\n",
    "    print(\"add went well\")\n",
    "finally:\n",
    "    print(\"thank you\")"
   ]
  },
  {
   "cell_type": "markdown",
   "id": "e4b11a3b",
   "metadata": {},
   "source": [
    "Now notice what happened here.\n",
    "The rest of the block of code was still able to execute with the except statement. My whole program wasn't shut down just because I had some sort of error like before.\n",
    "\n",
    "If there is an error in that try block, we run the except code else, If there is no error there, we run the else code."
   ]
  },
  {
   "cell_type": "code",
   "execution_count": 8,
   "id": "49e895cc",
   "metadata": {},
   "outputs": [
    {
     "name": "stdout",
     "output_type": "stream",
     "text": [
      "i always run\n"
     ]
    }
   ],
   "source": [
    "try:\n",
    "    f = open('testfile', 'w')\n",
    "    f.write(\"write a test line\")\n",
    "except TypeError:\n",
    "    print(\"there was a type error\")\n",
    "except OSError:\n",
    "    print(\"there was an os error\")\n",
    "finally:\n",
    "    print(\"i always run\")"
   ]
  },
  {
   "cell_type": "code",
   "execution_count": 9,
   "id": "b0957b8b",
   "metadata": {},
   "outputs": [
    {
     "name": "stdout",
     "output_type": "stream",
     "text": [
      "there was an os error\n",
      "i always run\n"
     ]
    }
   ],
   "source": [
    "try:\n",
    "    f = open('testfile', 'r')\n",
    "    f.write(\"write a test line\")\n",
    "except TypeError:\n",
    "    print(\"there was a type error\")\n",
    "except OSError:\n",
    "    print(\"there was an os error\")\n",
    "finally:\n",
    "    print(\"i always run\")"
   ]
  },
  {
   "cell_type": "markdown",
   "id": "b7e26217",
   "metadata": {},
   "source": [
    "an OS error because that's the error that's related to trying to write to a file that you only have read permissions for."
   ]
  },
  {
   "cell_type": "code",
   "execution_count": 3,
   "id": "ab623443",
   "metadata": {},
   "outputs": [
    {
     "name": "stdout",
     "output_type": "stream",
     "text": [
      "please provide a number: a\n",
      "that's not a no.\n",
      "this will always execute\n",
      "please provide a number: b\n",
      "that's not a no.\n",
      "this will always execute\n",
      "please provide a number: 12\n",
      "we'll continue\n",
      "this will always execute\n"
     ]
    }
   ],
   "source": [
    "def ask_for_int():\n",
    "    while True:\n",
    "        try:\n",
    "            result = int(input(\"please provide a number: \"))\n",
    "        except:\n",
    "            print(\"that's not a no.\")\n",
    "            continue\n",
    "        else:\n",
    "            print(\"we'll continue\")\n",
    "            break\n",
    "        finally:\n",
    "            print(\"this will always execute\")\n",
    "ask_for_int()"
   ]
  },
  {
   "cell_type": "code",
   "execution_count": null,
   "id": "16531f97",
   "metadata": {},
   "outputs": [],
   "source": []
  }
 ],
 "metadata": {
  "kernelspec": {
   "display_name": "Python 3.10.8 64-bit",
   "language": "python",
   "name": "python3"
  },
  "language_info": {
   "codemirror_mode": {
    "name": "ipython",
    "version": 3
   },
   "file_extension": ".py",
   "mimetype": "text/x-python",
   "name": "python",
   "nbconvert_exporter": "python",
   "pygments_lexer": "ipython3",
   "version": "3.10.8"
  },
  "vscode": {
   "interpreter": {
    "hash": "8c3d4d9970fc5c09c50d9318a9c7fbf4d0159e4b28833276f5678ee22bded273"
   }
  }
 },
 "nbformat": 4,
 "nbformat_minor": 5
}
