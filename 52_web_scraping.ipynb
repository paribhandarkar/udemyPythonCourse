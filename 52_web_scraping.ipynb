{
 "cells": [
  {
   "cell_type": "code",
   "execution_count": 2,
   "id": "d02cdbe9",
   "metadata": {},
   "outputs": [],
   "source": [
    "import requests"
   ]
  },
  {
   "cell_type": "code",
   "execution_count": 3,
   "id": "79ade9e7",
   "metadata": {},
   "outputs": [],
   "source": [
    "import bs4"
   ]
  },
  {
   "cell_type": "markdown",
   "id": "05d10890",
   "metadata": {},
   "source": [
    "Web scraping is a general term for techniques involving automating the gathering of data from a website.\n",
    "\n",
    "As you can imagine, there's often websites that have information that you want to use for some other\n",
    "project.\n",
    "However, actually manually going in and copying and pasting the information yourself would just take\n",
    "too long to be realistically possible."
   ]
  },
  {
   "cell_type": "markdown",
   "id": "c012136e",
   "metadata": {},
   "source": [
    "First, the rules of web scraping.\n",
    "\n",
    "You should always try to get permission before scraping.\n",
    "If you make too many scraping attempts or requests, then it's possible that your IP address could get\n",
    "blocked, which means you won't even be able to visit that website in a normal browser.\n",
    "Now, if you're dealing with a website that gets millions of visitors, something like Wikipedia, and\n",
    "you're just going to scrape it a few times to get some information, then really that's no problem because\n",
    "that website deals with much, much higher traffic.\n",
    "\n",
    "But keep in mind that some sites do automatically block scraping software.\n",
    "So you should always make sure and check the permissions or rules or guideline page for whatever particular\n",
    "website you're going to be attempting to scrape.\n",
    "So always try to get permission before scraping.\n",
    "\n",
    "And you should also check the laws of whatever country you're operating in to see if it's legal to web\n",
    "scrape.\n",
    "Typically, it's okay, but again, you should always consult the website rules in order to make sure\n",
    "you're okay."
   ]
  },
  {
   "cell_type": "markdown",
   "id": "037751b2",
   "metadata": {},
   "source": [
    "The second thing, the limitations of web scraping.\n",
    "\n",
    "And in general, every website is unique, which means unfortunately, every web scraping script is\n",
    "unique.\n",
    "So you can't really just take one web scraping script and Python and just easily apply it to any other\n",
    "website in the world.\n",
    "Since every website's HTML code is going to be unique to that website, more than likely you're going\n",
    "to have to adjust your script in order to fit other websites.\n",
    "\n",
    "And keep in mind that any slight change or update to a website may completely break your web scraping\n",
    "script.\n",
    "So the scripts in general are pretty static and they're not going to be able to adjust to changes in\n",
    "the website.\n",
    "So this is something that is a little annoying about web scraping, and it's a fact that if you plan\n",
    "to have kind of a long term web scraping project, then it's more than likely you're going to have to\n",
    "make adjustments to that script over time."
   ]
  },
  {
   "cell_type": "markdown",
   "id": "4cf43e58",
   "metadata": {},
   "source": [
    "Now to web scrape of python we can use the beautiful soup and requests libraries and these are external\n",
    "libraries outside of base python."
   ]
  },
  {
   "cell_type": "markdown",
   "id": "f008fa49",
   "metadata": {},
   "source": [
    "http://example.com/"
   ]
  },
  {
   "cell_type": "code",
   "execution_count": 4,
   "id": "d11f3bd7",
   "metadata": {},
   "outputs": [],
   "source": [
    "result = requests.get(\"http://example.com/\")"
   ]
  },
  {
   "cell_type": "code",
   "execution_count": 5,
   "id": "7b2e1852",
   "metadata": {},
   "outputs": [
    {
     "data": {
      "text/plain": [
       "requests.models.Response"
      ]
     },
     "execution_count": 5,
     "metadata": {},
     "output_type": "execute_result"
    }
   ],
   "source": [
    "type(result)"
   ]
  },
  {
   "cell_type": "code",
   "execution_count": 6,
   "id": "84fb241e",
   "metadata": {},
   "outputs": [
    {
     "data": {
      "text/plain": [
       "'<!doctype html>\\n<html>\\n<head>\\n    <title>Example Domain</title>\\n\\n    <meta charset=\"utf-8\" />\\n    <meta http-equiv=\"Content-type\" content=\"text/html; charset=utf-8\" />\\n    <meta name=\"viewport\" content=\"width=device-width, initial-scale=1\" />\\n    <style type=\"text/css\">\\n    body {\\n        background-color: #f0f0f2;\\n        margin: 0;\\n        padding: 0;\\n        font-family: -apple-system, system-ui, BlinkMacSystemFont, \"Segoe UI\", \"Open Sans\", \"Helvetica Neue\", Helvetica, Arial, sans-serif;\\n        \\n    }\\n    div {\\n        width: 600px;\\n        margin: 5em auto;\\n        padding: 2em;\\n        background-color: #fdfdff;\\n        border-radius: 0.5em;\\n        box-shadow: 2px 3px 7px 2px rgba(0,0,0,0.02);\\n    }\\n    a:link, a:visited {\\n        color: #38488f;\\n        text-decoration: none;\\n    }\\n    @media (max-width: 700px) {\\n        div {\\n            margin: 0 auto;\\n            width: auto;\\n        }\\n    }\\n    </style>    \\n</head>\\n\\n<body>\\n<div>\\n    <h1>Example Domain</h1>\\n    <p>This domain is for use in illustrative examples in documents. You may use this\\n    domain in literature without prior coordination or asking for permission.</p>\\n    <p><a href=\"https://www.iana.org/domains/example\">More information...</a></p>\\n</div>\\n</body>\\n</html>\\n'"
      ]
     },
     "execution_count": 6,
     "metadata": {},
     "output_type": "execute_result"
    }
   ],
   "source": [
    "result.text"
   ]
  },
  {
   "cell_type": "markdown",
   "id": "27ac2112",
   "metadata": {},
   "source": [
    "So essentially what happened here is the request library that we downloaded goes and gets a response\n",
    "from example.com and we can actually then call result.text and it's an attribute.\n",
    "\n",
    "So if I run this notice that it's actually this HTML document and if I take a look at example domain\n",
    "and hit view page source, it's essentially this information here just stored as a giant python string.\n",
    "And this is nice because anything I can do if a python string, I can now do this large text.\n",
    "\n",
    "However, this is actually just a string.\n",
    "In order to parse through this, what we need to do is use beautiful soup.\n",
    "The beautiful soup library which we installed with bs4 is actually going to allow us to then grab\n",
    "and easily obtain information from this due to IDs or class calls or HTML tags.\n",
    "\n",
    "So right now we just have this giant string and we're going to convert it into a soup."
   ]
  },
  {
   "cell_type": "code",
   "execution_count": 7,
   "id": "f346e323",
   "metadata": {},
   "outputs": [],
   "source": [
    "soup = bs4.BeautifulSoup(result.text, \"lxml\")"
   ]
  },
  {
   "cell_type": "code",
   "execution_count": 8,
   "id": "ea566822",
   "metadata": {},
   "outputs": [
    {
     "data": {
      "text/plain": [
       "<!DOCTYPE html>\n",
       "<html>\n",
       "<head>\n",
       "<title>Example Domain</title>\n",
       "<meta charset=\"utf-8\"/>\n",
       "<meta content=\"text/html; charset=utf-8\" http-equiv=\"Content-type\"/>\n",
       "<meta content=\"width=device-width, initial-scale=1\" name=\"viewport\"/>\n",
       "<style type=\"text/css\">\n",
       "    body {\n",
       "        background-color: #f0f0f2;\n",
       "        margin: 0;\n",
       "        padding: 0;\n",
       "        font-family: -apple-system, system-ui, BlinkMacSystemFont, \"Segoe UI\", \"Open Sans\", \"Helvetica Neue\", Helvetica, Arial, sans-serif;\n",
       "        \n",
       "    }\n",
       "    div {\n",
       "        width: 600px;\n",
       "        margin: 5em auto;\n",
       "        padding: 2em;\n",
       "        background-color: #fdfdff;\n",
       "        border-radius: 0.5em;\n",
       "        box-shadow: 2px 3px 7px 2px rgba(0,0,0,0.02);\n",
       "    }\n",
       "    a:link, a:visited {\n",
       "        color: #38488f;\n",
       "        text-decoration: none;\n",
       "    }\n",
       "    @media (max-width: 700px) {\n",
       "        div {\n",
       "            margin: 0 auto;\n",
       "            width: auto;\n",
       "        }\n",
       "    }\n",
       "    </style>\n",
       "</head>\n",
       "<body>\n",
       "<div>\n",
       "<h1>Example Domain</h1>\n",
       "<p>This domain is for use in illustrative examples in documents. You may use this\n",
       "    domain in literature without prior coordination or asking for permission.</p>\n",
       "<p><a href=\"https://www.iana.org/domains/example\">More information...</a></p>\n",
       "</div>\n",
       "</body>\n",
       "</html>"
      ]
     },
     "execution_count": 8,
     "metadata": {},
     "output_type": "execute_result"
    }
   ],
   "source": [
    "soup"
   ]
  },
  {
   "cell_type": "markdown",
   "id": "63d297d8",
   "metadata": {},
   "source": [
    "we're going to pass in two things here. We're going to pass in this text string result.text\n",
    "\n",
    "And then finally a string code for what engine to use to parse through this HTML text.\n",
    "And for this it's lxml.\n",
    "And that's why we actually had to pip install lxml because beautiful soup uses that on the back end to\n",
    "essentially go through this HTML document and then figure out what is a CSS class, what is a CSS ID,\n",
    "which are the different HTML elements and tags, etc.?\n",
    "\n",
    "So if I run this and now call soup, you'll notice that soup has essentially made this really easy to\n",
    "read, and now it looks exactly the same as the source code\n",
    "\n",
    "So essentially we went from kind of this raw string to this soup object, and now the soup object is\n",
    "smart enough to be able to grab things based off their tags or elements."
   ]
  },
  {
   "cell_type": "code",
   "execution_count": 9,
   "id": "c8543b5d",
   "metadata": {},
   "outputs": [
    {
     "data": {
      "text/plain": [
       "[<title>Example Domain</title>]"
      ]
     },
     "execution_count": 9,
     "metadata": {},
     "output_type": "execute_result"
    }
   ],
   "source": [
    "soup.select('title')"
   ]
  },
  {
   "cell_type": "markdown",
   "id": "5f39ee9d",
   "metadata": {},
   "source": [
    "So basically looks through this document and it's smart enough to figure out, okay, where are these\n",
    "title tags?\n",
    "Notice that by default it actually returns a list because technically there could be more than one tag\n",
    "or element on this page, especially for a really complicated pages."
   ]
  },
  {
   "cell_type": "code",
   "execution_count": 10,
   "id": "bffcc816",
   "metadata": {},
   "outputs": [
    {
     "data": {
      "text/plain": [
       "[<h1>Example Domain</h1>]"
      ]
     },
     "execution_count": 10,
     "metadata": {},
     "output_type": "execute_result"
    }
   ],
   "source": [
    "soup.select('h1')"
   ]
  },
  {
   "cell_type": "code",
   "execution_count": 11,
   "id": "99c69e01",
   "metadata": {},
   "outputs": [
    {
     "data": {
      "text/plain": [
       "'Example Domain'"
      ]
     },
     "execution_count": 11,
     "metadata": {},
     "output_type": "execute_result"
    }
   ],
   "source": [
    "soup.select('title')[0].getText()"
   ]
  },
  {
   "cell_type": "code",
   "execution_count": 16,
   "id": "5bdcd5b1",
   "metadata": {},
   "outputs": [],
   "source": [
    "site_para = soup.select('p')[0].getText()"
   ]
  },
  {
   "cell_type": "code",
   "execution_count": 17,
   "id": "4de8477a",
   "metadata": {},
   "outputs": [
    {
     "data": {
      "text/plain": [
       "'This domain is for use in illustrative examples in documents. You may use this\\n    domain in literature without prior coordination or asking for permission.'"
      ]
     },
     "execution_count": 17,
     "metadata": {},
     "output_type": "execute_result"
    }
   ],
   "source": [
    "site_para"
   ]
  },
  {
   "cell_type": "code",
   "execution_count": 20,
   "id": "b2ce2c9c",
   "metadata": {},
   "outputs": [
    {
     "data": {
      "text/plain": [
       "str"
      ]
     },
     "execution_count": 20,
     "metadata": {},
     "output_type": "execute_result"
    }
   ],
   "source": [
    "type(site_para)"
   ]
  },
  {
   "cell_type": "code",
   "execution_count": 21,
   "id": "5c5018a5",
   "metadata": {},
   "outputs": [
    {
     "data": {
      "text/plain": [
       "'More information...'"
      ]
     },
     "execution_count": 21,
     "metadata": {},
     "output_type": "execute_result"
    }
   ],
   "source": [
    "soup.select('p')[1].getText()"
   ]
  },
  {
   "cell_type": "markdown",
   "id": "f4f1d3ee",
   "metadata": {},
   "source": [
    "<table>\n",
    "    <tr>\n",
    "        <th>syntax</th>\n",
    "        <th>match results</th>\n",
    "    </tr>\n",
    "    <tr>\n",
    "        <td>soup.select('div')</td>\n",
    "        <td>all elements with div tag</td>\n",
    "    </tr>\n",
    "    <tr>\n",
    "        <td>soup.select('#some_id')</td>\n",
    "        <td>elements containg id='some_id'</td>\n",
    "    </tr>\n",
    "    <tr>\n",
    "        <td>soup.select('.some_class')</td>\n",
    "        <td>elements containg class='some_class'</td>\n",
    "    </tr>\n",
    "    <tr>\n",
    "        <td>soup.select('div span')</td>\n",
    "        <td>all elements named span within div element</td>\n",
    "    </tr>\n",
    "</table>"
   ]
  },
  {
   "cell_type": "code",
   "execution_count": 23,
   "id": "ca921fd6",
   "metadata": {},
   "outputs": [],
   "source": [
    "res = requests.get('https://en.wikipedia.org/wiki/Taylor_Swift')"
   ]
  },
  {
   "cell_type": "code",
   "execution_count": 24,
   "id": "35906123",
   "metadata": {},
   "outputs": [],
   "source": [
    "soup = bs4.BeautifulSoup(res.text, 'lxml')"
   ]
  },
  {
   "cell_type": "code",
   "execution_count": 26,
   "id": "0fbf1dbd",
   "metadata": {},
   "outputs": [],
   "source": [
    "# soup"
   ]
  },
  {
   "cell_type": "code",
   "execution_count": 32,
   "id": "68d81d91",
   "metadata": {},
   "outputs": [],
   "source": [
    "first_item = soup.select('.toclevel-1')[2]"
   ]
  },
  {
   "cell_type": "code",
   "execution_count": 33,
   "id": "7dd1a5cd",
   "metadata": {},
   "outputs": [
    {
     "data": {
      "text/plain": [
       "<li class=\"toclevel-1 tocsection-15\"><a href=\"#Other_activities\"><span class=\"tocnumber\">3</span> <span class=\"toctext\">Other activities</span></a>\n",
       "<ul>\n",
       "<li class=\"toclevel-2 tocsection-16\"><a href=\"#Philanthropy\"><span class=\"tocnumber\">3.1</span> <span class=\"toctext\">Philanthropy</span></a></li>\n",
       "<li class=\"toclevel-2 tocsection-17\"><a href=\"#Politics_and_activism\"><span class=\"tocnumber\">3.2</span> <span class=\"toctext\">Politics and activism</span></a></li>\n",
       "<li class=\"toclevel-2 tocsection-18\"><a href=\"#Endorsements\"><span class=\"tocnumber\">3.3</span> <span class=\"toctext\">Endorsements</span></a></li>\n",
       "</ul>\n",
       "</li>"
      ]
     },
     "execution_count": 33,
     "metadata": {},
     "output_type": "execute_result"
    }
   ],
   "source": [
    "first_item"
   ]
  },
  {
   "cell_type": "code",
   "execution_count": 34,
   "id": "5a8446b1",
   "metadata": {},
   "outputs": [
    {
     "data": {
      "text/plain": [
       "'3 Other activities\\n\\n3.1 Philanthropy\\n3.2 Politics and activism\\n3.3 Endorsements\\n\\n'"
      ]
     },
     "execution_count": 34,
     "metadata": {},
     "output_type": "execute_result"
    }
   ],
   "source": [
    "first_item.text"
   ]
  },
  {
   "cell_type": "code",
   "execution_count": 35,
   "id": "19574e39",
   "metadata": {},
   "outputs": [
    {
     "name": "stdout",
     "output_type": "stream",
     "text": [
      "1 Life and career\n",
      "\n",
      "1.1 1989–2003: Early life and education\n",
      "1.2 2004–2008: Career beginnings and first album\n",
      "1.3 2008–2010: Fearless and acting debut\n",
      "1.4 2010–2014: Speak Now and Red\n",
      "1.5 2014–2018: 1989 and Reputation\n",
      "1.6 2018–2020: Lover, Folklore and Evermore\n",
      "1.7 2021–present: Re-recordings and Midnights\n",
      "\n",
      "\n",
      "2 Artistry\n",
      "\n",
      "2.1 Influences\n",
      "2.2 Musical styles\n",
      "2.3 Voice\n",
      "2.4 Songwriting\n",
      "2.5 Video and film\n",
      "\n",
      "\n",
      "3 Other activities\n",
      "\n",
      "3.1 Philanthropy\n",
      "3.2 Politics and activism\n",
      "3.3 Endorsements\n",
      "\n",
      "\n",
      "4 Public image\n",
      "5 Impact\n",
      "6 Accolades and achievements\n",
      "\n",
      "6.1 Wealth\n",
      "\n",
      "\n",
      "7 Discography\n",
      "\n",
      "7.1 Studio albums\n",
      "7.2 Re-recordings\n",
      "\n",
      "\n",
      "8 Filmography\n",
      "9 Tours\n",
      "10 See also\n",
      "11 Footnotes\n",
      "12 References\n",
      "13 Cited literature\n",
      "14 External links\n"
     ]
    }
   ],
   "source": [
    "for item in soup.select('.toclevel-1'):\n",
    "    print(item.text)"
   ]
  },
  {
   "cell_type": "code",
   "execution_count": 36,
   "id": "23e903b9",
   "metadata": {},
   "outputs": [
    {
     "data": {
      "text/plain": [
       "[<img alt=\"\" class=\"thumbimage\" data-file-height=\"3456\" data-file-width=\"4608\" decoding=\"async\" height=\"165\" src=\"//upload.wikimedia.org/wikipedia/commons/thumb/0/09/Grandview_Blvd_76%2C_Wyomissing_PA.JPG/220px-Grandview_Blvd_76%2C_Wyomissing_PA.JPG\" srcset=\"//upload.wikimedia.org/wikipedia/commons/thumb/0/09/Grandview_Blvd_76%2C_Wyomissing_PA.JPG/330px-Grandview_Blvd_76%2C_Wyomissing_PA.JPG 1.5x, //upload.wikimedia.org/wikipedia/commons/thumb/0/09/Grandview_Blvd_76%2C_Wyomissing_PA.JPG/440px-Grandview_Blvd_76%2C_Wyomissing_PA.JPG 2x\" width=\"220\"/>,\n",
       " <img alt=\"Taylor Swift singing on a microphone and playing a guitar\" class=\"thumbimage\" data-file-height=\"546\" data-file-width=\"819\" decoding=\"async\" height=\"173\" src=\"//upload.wikimedia.org/wikipedia/commons/thumb/4/4c/Swift%2C_Taylor_%282007%29.jpg/260px-Swift%2C_Taylor_%282007%29.jpg\" srcset=\"//upload.wikimedia.org/wikipedia/commons/thumb/4/4c/Swift%2C_Taylor_%282007%29.jpg/390px-Swift%2C_Taylor_%282007%29.jpg 1.5x, //upload.wikimedia.org/wikipedia/commons/thumb/4/4c/Swift%2C_Taylor_%282007%29.jpg/520px-Swift%2C_Taylor_%282007%29.jpg 2x\" width=\"260\"/>,\n",
       " <img alt=\"Taylor Swift in 2009\" class=\"thumbimage\" data-file-height=\"499\" data-file-width=\"333\" decoding=\"async\" height=\"255\" src=\"//upload.wikimedia.org/wikipedia/commons/thumb/e/e8/TaylorSwiftApr09.jpg/170px-TaylorSwiftApr09.jpg\" srcset=\"//upload.wikimedia.org/wikipedia/commons/thumb/e/e8/TaylorSwiftApr09.jpg/255px-TaylorSwiftApr09.jpg 1.5x, //upload.wikimedia.org/wikipedia/commons/e/e8/TaylorSwiftApr09.jpg 2x\" width=\"170\"/>,\n",
       " <img alt=\"Swift singing into a mic while playing a banjo\" class=\"thumbimage\" data-file-height=\"934\" data-file-width=\"679\" decoding=\"async\" height=\"234\" src=\"//upload.wikimedia.org/wikipedia/commons/thumb/7/7c/Taylor_Swift_Sydney.jpg/170px-Taylor_Swift_Sydney.jpg\" srcset=\"//upload.wikimedia.org/wikipedia/commons/thumb/7/7c/Taylor_Swift_Sydney.jpg/255px-Taylor_Swift_Sydney.jpg 1.5x, //upload.wikimedia.org/wikipedia/commons/thumb/7/7c/Taylor_Swift_Sydney.jpg/340px-Taylor_Swift_Sydney.jpg 2x\" width=\"170\"/>,\n",
       " <img alt=\"Taylor Swift on the Red Tour\" class=\"thumbimage\" data-file-height=\"2044\" data-file-width=\"1371\" decoding=\"async\" height=\"253\" src=\"//upload.wikimedia.org/wikipedia/commons/thumb/d/de/Taylor_Swift_RED_Tour_%288642419792%29_%28cropped%29.jpg/170px-Taylor_Swift_RED_Tour_%288642419792%29_%28cropped%29.jpg\" srcset=\"//upload.wikimedia.org/wikipedia/commons/thumb/d/de/Taylor_Swift_RED_Tour_%288642419792%29_%28cropped%29.jpg/255px-Taylor_Swift_RED_Tour_%288642419792%29_%28cropped%29.jpg 1.5x, //upload.wikimedia.org/wikipedia/commons/thumb/d/de/Taylor_Swift_RED_Tour_%288642419792%29_%28cropped%29.jpg/340px-Taylor_Swift_RED_Tour_%288642419792%29_%28cropped%29.jpg 2x\" width=\"170\"/>,\n",
       " <img alt=\"\" class=\"thumbimage\" data-file-height=\"3470\" data-file-width=\"2476\" decoding=\"async\" height=\"238\" src=\"//upload.wikimedia.org/wikipedia/commons/thumb/0/04/Taylor_Swift_045_%2817682880264%29.jpg/170px-Taylor_Swift_045_%2817682880264%29.jpg\" srcset=\"//upload.wikimedia.org/wikipedia/commons/thumb/0/04/Taylor_Swift_045_%2817682880264%29.jpg/255px-Taylor_Swift_045_%2817682880264%29.jpg 1.5x, //upload.wikimedia.org/wikipedia/commons/thumb/0/04/Taylor_Swift_045_%2817682880264%29.jpg/340px-Taylor_Swift_045_%2817682880264%29.jpg 2x\" width=\"170\"/>,\n",
       " <img alt=\"Swift wearing a black and gray patterned bodysuit standing in front of a microphone singing\" class=\"thumbimage\" data-file-height=\"1798\" data-file-width=\"1264\" decoding=\"async\" height=\"242\" src=\"//upload.wikimedia.org/wikipedia/commons/thumb/7/7e/Taylor_Swift_Reputation_Tour1_%28cropped%29.jpg/170px-Taylor_Swift_Reputation_Tour1_%28cropped%29.jpg\" srcset=\"//upload.wikimedia.org/wikipedia/commons/thumb/7/7e/Taylor_Swift_Reputation_Tour1_%28cropped%29.jpg/255px-Taylor_Swift_Reputation_Tour1_%28cropped%29.jpg 1.5x, //upload.wikimedia.org/wikipedia/commons/thumb/7/7e/Taylor_Swift_Reputation_Tour1_%28cropped%29.jpg/340px-Taylor_Swift_Reputation_Tour1_%28cropped%29.jpg 2x\" width=\"170\"/>,\n",
       " <img alt=\"A portrait of Swift\" class=\"thumbimage\" data-file-height=\"1968\" data-file-width=\"1312\" decoding=\"async\" height=\"255\" src=\"//upload.wikimedia.org/wikipedia/commons/thumb/f/fb/Taylor_Swift_2_-_2019_by_Glenn_Francis_%28cropped%29_3.jpg/170px-Taylor_Swift_2_-_2019_by_Glenn_Francis_%28cropped%29_3.jpg\" srcset=\"//upload.wikimedia.org/wikipedia/commons/thumb/f/fb/Taylor_Swift_2_-_2019_by_Glenn_Francis_%28cropped%29_3.jpg/255px-Taylor_Swift_2_-_2019_by_Glenn_Francis_%28cropped%29_3.jpg 1.5x, //upload.wikimedia.org/wikipedia/commons/thumb/f/fb/Taylor_Swift_2_-_2019_by_Glenn_Francis_%28cropped%29_3.jpg/340px-Taylor_Swift_2_-_2019_by_Glenn_Francis_%28cropped%29_3.jpg 2x\" width=\"170\"/>,\n",
       " <img alt=\"\" class=\"thumbimage\" data-file-height=\"3221\" data-file-width=\"2148\" decoding=\"async\" height=\"255\" src=\"//upload.wikimedia.org/wikipedia/commons/thumb/f/fd/HAIMO2210722_%2831_of_51%29_%2852233070660%29_Cropped.jpg/170px-HAIMO2210722_%2831_of_51%29_%2852233070660%29_Cropped.jpg\" srcset=\"//upload.wikimedia.org/wikipedia/commons/thumb/f/fd/HAIMO2210722_%2831_of_51%29_%2852233070660%29_Cropped.jpg/255px-HAIMO2210722_%2831_of_51%29_%2852233070660%29_Cropped.jpg 1.5x, //upload.wikimedia.org/wikipedia/commons/thumb/f/fd/HAIMO2210722_%2831_of_51%29_%2852233070660%29_Cropped.jpg/340px-HAIMO2210722_%2831_of_51%29_%2852233070660%29_Cropped.jpg 2x\" width=\"170\"/>,\n",
       " <div class=\"thumbimage\"><a class=\"image\" href=\"/wiki/File:ShaniaTwainJune2011.jpg\"><img alt=\"Shania Twain wearing a white dress is standing holding a microphone and smiling.\" data-file-height=\"1216\" data-file-width=\"729\" decoding=\"async\" height=\"183\" src=\"//upload.wikimedia.org/wikipedia/commons/thumb/d/da/ShaniaTwainJune2011.jpg/110px-ShaniaTwainJune2011.jpg\" srcset=\"//upload.wikimedia.org/wikipedia/commons/thumb/d/da/ShaniaTwainJune2011.jpg/165px-ShaniaTwainJune2011.jpg 1.5x, //upload.wikimedia.org/wikipedia/commons/thumb/d/da/ShaniaTwainJune2011.jpg/220px-ShaniaTwainJune2011.jpg 2x\" width=\"110\"/></a></div>,\n",
       " <div class=\"thumbimage\"><a class=\"image\" href=\"/wiki/File:Stevie_Nicks_2.jpg\"><img alt=\"Stevie Nicks is pictured on stage holding a microphone and looking to her left\" data-file-height=\"399\" data-file-width=\"334\" decoding=\"async\" height=\"183\" src=\"//upload.wikimedia.org/wikipedia/commons/thumb/e/e7/Stevie_Nicks_2.jpg/153px-Stevie_Nicks_2.jpg\" srcset=\"//upload.wikimedia.org/wikipedia/commons/thumb/e/e7/Stevie_Nicks_2.jpg/230px-Stevie_Nicks_2.jpg 1.5x, //upload.wikimedia.org/wikipedia/commons/thumb/e/e7/Stevie_Nicks_2.jpg/306px-Stevie_Nicks_2.jpg 2x\" width=\"153\"/></a></div>,\n",
       " <img alt=\"A photograph of Swift's decorated red Les Paul guitar and cordless microphone\" class=\"thumbimage\" data-file-height=\"4453\" data-file-width=\"3133\" decoding=\"async\" height=\"242\" src=\"//upload.wikimedia.org/wikipedia/commons/thumb/8/8f/Phoenix-Musical_Intrument_Museum-Taylo_Swift_Les_Pual_guitar.jpg/170px-Phoenix-Musical_Intrument_Museum-Taylo_Swift_Les_Pual_guitar.jpg\" srcset=\"//upload.wikimedia.org/wikipedia/commons/thumb/8/8f/Phoenix-Musical_Intrument_Museum-Taylo_Swift_Les_Pual_guitar.jpg/255px-Phoenix-Musical_Intrument_Museum-Taylo_Swift_Les_Pual_guitar.jpg 1.5x, //upload.wikimedia.org/wikipedia/commons/thumb/8/8f/Phoenix-Musical_Intrument_Museum-Taylo_Swift_Les_Pual_guitar.jpg/340px-Phoenix-Musical_Intrument_Museum-Taylo_Swift_Les_Pual_guitar.jpg 2x\" width=\"170\"/>,\n",
       " <img alt=\"\" class=\"thumbimage\" data-file-height=\"800\" data-file-width=\"1200\" decoding=\"async\" height=\"147\" src=\"//upload.wikimedia.org/wikipedia/commons/thumb/4/43/Air_Asia_Taylor_Swift_logojet.jpg/220px-Air_Asia_Taylor_Swift_logojet.jpg\" srcset=\"//upload.wikimedia.org/wikipedia/commons/thumb/4/43/Air_Asia_Taylor_Swift_logojet.jpg/330px-Air_Asia_Taylor_Swift_logojet.jpg 1.5x, //upload.wikimedia.org/wikipedia/commons/thumb/4/43/Air_Asia_Taylor_Swift_logojet.jpg/440px-Air_Asia_Taylor_Swift_logojet.jpg 2x\" width=\"220\"/>,\n",
       " <img alt=\"Taylor Swift in a red dress\" class=\"thumbimage\" data-file-height=\"1314\" data-file-width=\"954\" decoding=\"async\" height=\"234\" src=\"//upload.wikimedia.org/wikipedia/commons/thumb/8/8f/Taylor_Swift_GMA_2012.jpg/170px-Taylor_Swift_GMA_2012.jpg\" srcset=\"//upload.wikimedia.org/wikipedia/commons/thumb/8/8f/Taylor_Swift_GMA_2012.jpg/255px-Taylor_Swift_GMA_2012.jpg 1.5x, //upload.wikimedia.org/wikipedia/commons/thumb/8/8f/Taylor_Swift_GMA_2012.jpg/340px-Taylor_Swift_GMA_2012.jpg 2x\" width=\"170\"/>,\n",
       " <img alt=\"\" class=\"thumbimage\" data-file-height=\"2269\" data-file-width=\"1861\" decoding=\"async\" height=\"207\" src=\"//upload.wikimedia.org/wikipedia/commons/thumb/0/0a/5.3.10TaylorSwiftByDavidShankbone.jpg/170px-5.3.10TaylorSwiftByDavidShankbone.jpg\" srcset=\"//upload.wikimedia.org/wikipedia/commons/thumb/0/0a/5.3.10TaylorSwiftByDavidShankbone.jpg/255px-5.3.10TaylorSwiftByDavidShankbone.jpg 1.5x, //upload.wikimedia.org/wikipedia/commons/thumb/0/0a/5.3.10TaylorSwiftByDavidShankbone.jpg/340px-5.3.10TaylorSwiftByDavidShankbone.jpg 2x\" width=\"170\"/>,\n",
       " <img alt=\"\" class=\"thumbimage\" data-file-height=\"452\" data-file-width=\"287\" decoding=\"async\" height=\"268\" src=\"//upload.wikimedia.org/wikipedia/commons/thumb/1/1d/Taylor_Swift_2009_MTV_VMA_%28cropped%29.jpg/170px-Taylor_Swift_2009_MTV_VMA_%28cropped%29.jpg\" srcset=\"//upload.wikimedia.org/wikipedia/commons/thumb/1/1d/Taylor_Swift_2009_MTV_VMA_%28cropped%29.jpg/255px-Taylor_Swift_2009_MTV_VMA_%28cropped%29.jpg 1.5x, //upload.wikimedia.org/wikipedia/commons/1/1d/Taylor_Swift_2009_MTV_VMA_%28cropped%29.jpg 2x\" width=\"170\"/>]"
      ]
     },
     "execution_count": 36,
     "metadata": {},
     "output_type": "execute_result"
    }
   ],
   "source": [
    "soup.select('.thumbimage')"
   ]
  },
  {
   "cell_type": "code",
   "execution_count": 37,
   "id": "955c0315",
   "metadata": {},
   "outputs": [
    {
     "data": {
      "text/plain": [
       "[<img alt=\"Featured article\" data-file-height=\"438\" data-file-width=\"462\" decoding=\"async\" height=\"19\" src=\"//upload.wikimedia.org/wikipedia/en/thumb/e/e7/Cscr-featured.svg/20px-Cscr-featured.svg.png\" srcset=\"//upload.wikimedia.org/wikipedia/en/thumb/e/e7/Cscr-featured.svg/30px-Cscr-featured.svg.png 1.5x, //upload.wikimedia.org/wikipedia/en/thumb/e/e7/Cscr-featured.svg/40px-Cscr-featured.svg.png 2x\" width=\"20\"/>,\n",
       " <img alt=\"Page semi-protected\" data-file-height=\"512\" data-file-width=\"512\" decoding=\"async\" height=\"20\" src=\"//upload.wikimedia.org/wikipedia/en/thumb/1/1b/Semi-protection-shackle.svg/20px-Semi-protection-shackle.svg.png\" srcset=\"//upload.wikimedia.org/wikipedia/en/thumb/1/1b/Semi-protection-shackle.svg/30px-Semi-protection-shackle.svg.png 1.5x, //upload.wikimedia.org/wikipedia/en/thumb/1/1b/Semi-protection-shackle.svg/40px-Semi-protection-shackle.svg.png 2x\" width=\"20\"/>,\n",
       " <img alt=\"Medium shot of Swift in a dress with little sequins, in front of AMA backdrop\" data-file-height=\"858\" data-file-width=\"643\" decoding=\"async\" height=\"294\" src=\"//upload.wikimedia.org/wikipedia/commons/thumb/b/b5/191125_Taylor_Swift_at_the_2019_American_Music_Awards_%28cropped%29.png/220px-191125_Taylor_Swift_at_the_2019_American_Music_Awards_%28cropped%29.png\" srcset=\"//upload.wikimedia.org/wikipedia/commons/thumb/b/b5/191125_Taylor_Swift_at_the_2019_American_Music_Awards_%28cropped%29.png/330px-191125_Taylor_Swift_at_the_2019_American_Music_Awards_%28cropped%29.png 1.5x, //upload.wikimedia.org/wikipedia/commons/thumb/b/b5/191125_Taylor_Swift_at_the_2019_American_Music_Awards_%28cropped%29.png/440px-191125_Taylor_Swift_at_the_2019_American_Music_Awards_%28cropped%29.png 2x\" width=\"220\"/>,\n",
       " <img alt=\"Taylor Swift signature.svg\" data-file-height=\"286\" data-file-width=\"512\" decoding=\"async\" height=\"84\" src=\"//upload.wikimedia.org/wikipedia/commons/thumb/e/e6/Taylor_Swift_signature.svg/150px-Taylor_Swift_signature.svg.png\" srcset=\"//upload.wikimedia.org/wikipedia/commons/thumb/e/e6/Taylor_Swift_signature.svg/225px-Taylor_Swift_signature.svg.png 1.5x, //upload.wikimedia.org/wikipedia/commons/thumb/e/e6/Taylor_Swift_signature.svg/300px-Taylor_Swift_signature.svg.png 2x\" width=\"150\"/>,\n",
       " <img alt=\"\" class=\"thumbimage\" data-file-height=\"3456\" data-file-width=\"4608\" decoding=\"async\" height=\"165\" src=\"//upload.wikimedia.org/wikipedia/commons/thumb/0/09/Grandview_Blvd_76%2C_Wyomissing_PA.JPG/220px-Grandview_Blvd_76%2C_Wyomissing_PA.JPG\" srcset=\"//upload.wikimedia.org/wikipedia/commons/thumb/0/09/Grandview_Blvd_76%2C_Wyomissing_PA.JPG/330px-Grandview_Blvd_76%2C_Wyomissing_PA.JPG 1.5x, //upload.wikimedia.org/wikipedia/commons/thumb/0/09/Grandview_Blvd_76%2C_Wyomissing_PA.JPG/440px-Grandview_Blvd_76%2C_Wyomissing_PA.JPG 2x\" width=\"220\"/>,\n",
       " <img alt=\"Taylor Swift singing on a microphone and playing a guitar\" class=\"thumbimage\" data-file-height=\"546\" data-file-width=\"819\" decoding=\"async\" height=\"173\" src=\"//upload.wikimedia.org/wikipedia/commons/thumb/4/4c/Swift%2C_Taylor_%282007%29.jpg/260px-Swift%2C_Taylor_%282007%29.jpg\" srcset=\"//upload.wikimedia.org/wikipedia/commons/thumb/4/4c/Swift%2C_Taylor_%282007%29.jpg/390px-Swift%2C_Taylor_%282007%29.jpg 1.5x, //upload.wikimedia.org/wikipedia/commons/thumb/4/4c/Swift%2C_Taylor_%282007%29.jpg/520px-Swift%2C_Taylor_%282007%29.jpg 2x\" width=\"260\"/>,\n",
       " <img alt=\"Taylor Swift in 2009\" class=\"thumbimage\" data-file-height=\"499\" data-file-width=\"333\" decoding=\"async\" height=\"255\" src=\"//upload.wikimedia.org/wikipedia/commons/thumb/e/e8/TaylorSwiftApr09.jpg/170px-TaylorSwiftApr09.jpg\" srcset=\"//upload.wikimedia.org/wikipedia/commons/thumb/e/e8/TaylorSwiftApr09.jpg/255px-TaylorSwiftApr09.jpg 1.5x, //upload.wikimedia.org/wikipedia/commons/e/e8/TaylorSwiftApr09.jpg 2x\" width=\"170\"/>,\n",
       " <img alt=\"Swift singing into a mic while playing a banjo\" class=\"thumbimage\" data-file-height=\"934\" data-file-width=\"679\" decoding=\"async\" height=\"234\" src=\"//upload.wikimedia.org/wikipedia/commons/thumb/7/7c/Taylor_Swift_Sydney.jpg/170px-Taylor_Swift_Sydney.jpg\" srcset=\"//upload.wikimedia.org/wikipedia/commons/thumb/7/7c/Taylor_Swift_Sydney.jpg/255px-Taylor_Swift_Sydney.jpg 1.5x, //upload.wikimedia.org/wikipedia/commons/thumb/7/7c/Taylor_Swift_Sydney.jpg/340px-Taylor_Swift_Sydney.jpg 2x\" width=\"170\"/>,\n",
       " <img alt=\"Taylor Swift on the Red Tour\" class=\"thumbimage\" data-file-height=\"2044\" data-file-width=\"1371\" decoding=\"async\" height=\"253\" src=\"//upload.wikimedia.org/wikipedia/commons/thumb/d/de/Taylor_Swift_RED_Tour_%288642419792%29_%28cropped%29.jpg/170px-Taylor_Swift_RED_Tour_%288642419792%29_%28cropped%29.jpg\" srcset=\"//upload.wikimedia.org/wikipedia/commons/thumb/d/de/Taylor_Swift_RED_Tour_%288642419792%29_%28cropped%29.jpg/255px-Taylor_Swift_RED_Tour_%288642419792%29_%28cropped%29.jpg 1.5x, //upload.wikimedia.org/wikipedia/commons/thumb/d/de/Taylor_Swift_RED_Tour_%288642419792%29_%28cropped%29.jpg/340px-Taylor_Swift_RED_Tour_%288642419792%29_%28cropped%29.jpg 2x\" width=\"170\"/>,\n",
       " <img alt=\"\" class=\"thumbimage\" data-file-height=\"3470\" data-file-width=\"2476\" decoding=\"async\" height=\"238\" src=\"//upload.wikimedia.org/wikipedia/commons/thumb/0/04/Taylor_Swift_045_%2817682880264%29.jpg/170px-Taylor_Swift_045_%2817682880264%29.jpg\" srcset=\"//upload.wikimedia.org/wikipedia/commons/thumb/0/04/Taylor_Swift_045_%2817682880264%29.jpg/255px-Taylor_Swift_045_%2817682880264%29.jpg 1.5x, //upload.wikimedia.org/wikipedia/commons/thumb/0/04/Taylor_Swift_045_%2817682880264%29.jpg/340px-Taylor_Swift_045_%2817682880264%29.jpg 2x\" width=\"170\"/>,\n",
       " <img alt=\"Swift wearing a black and gray patterned bodysuit standing in front of a microphone singing\" class=\"thumbimage\" data-file-height=\"1798\" data-file-width=\"1264\" decoding=\"async\" height=\"242\" src=\"//upload.wikimedia.org/wikipedia/commons/thumb/7/7e/Taylor_Swift_Reputation_Tour1_%28cropped%29.jpg/170px-Taylor_Swift_Reputation_Tour1_%28cropped%29.jpg\" srcset=\"//upload.wikimedia.org/wikipedia/commons/thumb/7/7e/Taylor_Swift_Reputation_Tour1_%28cropped%29.jpg/255px-Taylor_Swift_Reputation_Tour1_%28cropped%29.jpg 1.5x, //upload.wikimedia.org/wikipedia/commons/thumb/7/7e/Taylor_Swift_Reputation_Tour1_%28cropped%29.jpg/340px-Taylor_Swift_Reputation_Tour1_%28cropped%29.jpg 2x\" width=\"170\"/>,\n",
       " <img alt=\"A portrait of Swift\" class=\"thumbimage\" data-file-height=\"1968\" data-file-width=\"1312\" decoding=\"async\" height=\"255\" src=\"//upload.wikimedia.org/wikipedia/commons/thumb/f/fb/Taylor_Swift_2_-_2019_by_Glenn_Francis_%28cropped%29_3.jpg/170px-Taylor_Swift_2_-_2019_by_Glenn_Francis_%28cropped%29_3.jpg\" srcset=\"//upload.wikimedia.org/wikipedia/commons/thumb/f/fb/Taylor_Swift_2_-_2019_by_Glenn_Francis_%28cropped%29_3.jpg/255px-Taylor_Swift_2_-_2019_by_Glenn_Francis_%28cropped%29_3.jpg 1.5x, //upload.wikimedia.org/wikipedia/commons/thumb/f/fb/Taylor_Swift_2_-_2019_by_Glenn_Francis_%28cropped%29_3.jpg/340px-Taylor_Swift_2_-_2019_by_Glenn_Francis_%28cropped%29_3.jpg 2x\" width=\"170\"/>,\n",
       " <img alt=\"\" class=\"thumbimage\" data-file-height=\"3221\" data-file-width=\"2148\" decoding=\"async\" height=\"255\" src=\"//upload.wikimedia.org/wikipedia/commons/thumb/f/fd/HAIMO2210722_%2831_of_51%29_%2852233070660%29_Cropped.jpg/170px-HAIMO2210722_%2831_of_51%29_%2852233070660%29_Cropped.jpg\" srcset=\"//upload.wikimedia.org/wikipedia/commons/thumb/f/fd/HAIMO2210722_%2831_of_51%29_%2852233070660%29_Cropped.jpg/255px-HAIMO2210722_%2831_of_51%29_%2852233070660%29_Cropped.jpg 1.5x, //upload.wikimedia.org/wikipedia/commons/thumb/f/fd/HAIMO2210722_%2831_of_51%29_%2852233070660%29_Cropped.jpg/340px-HAIMO2210722_%2831_of_51%29_%2852233070660%29_Cropped.jpg 2x\" width=\"170\"/>,\n",
       " <img alt=\"Shania Twain wearing a white dress is standing holding a microphone and smiling.\" data-file-height=\"1216\" data-file-width=\"729\" decoding=\"async\" height=\"183\" src=\"//upload.wikimedia.org/wikipedia/commons/thumb/d/da/ShaniaTwainJune2011.jpg/110px-ShaniaTwainJune2011.jpg\" srcset=\"//upload.wikimedia.org/wikipedia/commons/thumb/d/da/ShaniaTwainJune2011.jpg/165px-ShaniaTwainJune2011.jpg 1.5x, //upload.wikimedia.org/wikipedia/commons/thumb/d/da/ShaniaTwainJune2011.jpg/220px-ShaniaTwainJune2011.jpg 2x\" width=\"110\"/>,\n",
       " <img alt=\"Stevie Nicks is pictured on stage holding a microphone and looking to her left\" data-file-height=\"399\" data-file-width=\"334\" decoding=\"async\" height=\"183\" src=\"//upload.wikimedia.org/wikipedia/commons/thumb/e/e7/Stevie_Nicks_2.jpg/153px-Stevie_Nicks_2.jpg\" srcset=\"//upload.wikimedia.org/wikipedia/commons/thumb/e/e7/Stevie_Nicks_2.jpg/230px-Stevie_Nicks_2.jpg 1.5x, //upload.wikimedia.org/wikipedia/commons/thumb/e/e7/Stevie_Nicks_2.jpg/306px-Stevie_Nicks_2.jpg 2x\" width=\"153\"/>,\n",
       " <img alt=\"A photograph of Swift's decorated red Les Paul guitar and cordless microphone\" class=\"thumbimage\" data-file-height=\"4453\" data-file-width=\"3133\" decoding=\"async\" height=\"242\" src=\"//upload.wikimedia.org/wikipedia/commons/thumb/8/8f/Phoenix-Musical_Intrument_Museum-Taylo_Swift_Les_Pual_guitar.jpg/170px-Phoenix-Musical_Intrument_Museum-Taylo_Swift_Les_Pual_guitar.jpg\" srcset=\"//upload.wikimedia.org/wikipedia/commons/thumb/8/8f/Phoenix-Musical_Intrument_Museum-Taylo_Swift_Les_Pual_guitar.jpg/255px-Phoenix-Musical_Intrument_Museum-Taylo_Swift_Les_Pual_guitar.jpg 1.5x, //upload.wikimedia.org/wikipedia/commons/thumb/8/8f/Phoenix-Musical_Intrument_Museum-Taylo_Swift_Les_Pual_guitar.jpg/340px-Phoenix-Musical_Intrument_Museum-Taylo_Swift_Les_Pual_guitar.jpg 2x\" width=\"170\"/>,\n",
       " <img alt=\"\" class=\"thumbimage\" data-file-height=\"800\" data-file-width=\"1200\" decoding=\"async\" height=\"147\" src=\"//upload.wikimedia.org/wikipedia/commons/thumb/4/43/Air_Asia_Taylor_Swift_logojet.jpg/220px-Air_Asia_Taylor_Swift_logojet.jpg\" srcset=\"//upload.wikimedia.org/wikipedia/commons/thumb/4/43/Air_Asia_Taylor_Swift_logojet.jpg/330px-Air_Asia_Taylor_Swift_logojet.jpg 1.5x, //upload.wikimedia.org/wikipedia/commons/thumb/4/43/Air_Asia_Taylor_Swift_logojet.jpg/440px-Air_Asia_Taylor_Swift_logojet.jpg 2x\" width=\"220\"/>,\n",
       " <img alt=\"Taylor Swift in a red dress\" class=\"thumbimage\" data-file-height=\"1314\" data-file-width=\"954\" decoding=\"async\" height=\"234\" src=\"//upload.wikimedia.org/wikipedia/commons/thumb/8/8f/Taylor_Swift_GMA_2012.jpg/170px-Taylor_Swift_GMA_2012.jpg\" srcset=\"//upload.wikimedia.org/wikipedia/commons/thumb/8/8f/Taylor_Swift_GMA_2012.jpg/255px-Taylor_Swift_GMA_2012.jpg 1.5x, //upload.wikimedia.org/wikipedia/commons/thumb/8/8f/Taylor_Swift_GMA_2012.jpg/340px-Taylor_Swift_GMA_2012.jpg 2x\" width=\"170\"/>,\n",
       " <img alt=\"\" class=\"thumbimage\" data-file-height=\"2269\" data-file-width=\"1861\" decoding=\"async\" height=\"207\" src=\"//upload.wikimedia.org/wikipedia/commons/thumb/0/0a/5.3.10TaylorSwiftByDavidShankbone.jpg/170px-5.3.10TaylorSwiftByDavidShankbone.jpg\" srcset=\"//upload.wikimedia.org/wikipedia/commons/thumb/0/0a/5.3.10TaylorSwiftByDavidShankbone.jpg/255px-5.3.10TaylorSwiftByDavidShankbone.jpg 1.5x, //upload.wikimedia.org/wikipedia/commons/thumb/0/0a/5.3.10TaylorSwiftByDavidShankbone.jpg/340px-5.3.10TaylorSwiftByDavidShankbone.jpg 2x\" width=\"170\"/>,\n",
       " <img alt=\"\" class=\"thumbimage\" data-file-height=\"452\" data-file-width=\"287\" decoding=\"async\" height=\"268\" src=\"//upload.wikimedia.org/wikipedia/commons/thumb/1/1d/Taylor_Swift_2009_MTV_VMA_%28cropped%29.jpg/170px-Taylor_Swift_2009_MTV_VMA_%28cropped%29.jpg\" srcset=\"//upload.wikimedia.org/wikipedia/commons/thumb/1/1d/Taylor_Swift_2009_MTV_VMA_%28cropped%29.jpg/255px-Taylor_Swift_2009_MTV_VMA_%28cropped%29.jpg 1.5x, //upload.wikimedia.org/wikipedia/commons/1/1d/Taylor_Swift_2009_MTV_VMA_%28cropped%29.jpg 2x\" width=\"170\"/>,\n",
       " <img alt=\"\" data-file-height=\"1944\" data-file-width=\"1911\" decoding=\"async\" height=\"19\" src=\"//upload.wikimedia.org/wikipedia/en/thumb/6/69/P_vip.svg/19px-P_vip.svg.png\" srcset=\"//upload.wikimedia.org/wikipedia/en/thumb/6/69/P_vip.svg/28px-P_vip.svg.png 1.5x, //upload.wikimedia.org/wikipedia/en/thumb/6/69/P_vip.svg/37px-P_vip.svg.png 2x\" width=\"19\"/>,\n",
       " <img alt=\"icon\" data-file-height=\"128\" data-file-width=\"128\" decoding=\"async\" height=\"19\" src=\"//upload.wikimedia.org/wikipedia/commons/thumb/6/6c/Audio-input-microphone.png/19px-Audio-input-microphone.png\" srcset=\"//upload.wikimedia.org/wikipedia/commons/thumb/6/6c/Audio-input-microphone.png/29px-Audio-input-microphone.png 1.5x, //upload.wikimedia.org/wikipedia/commons/thumb/6/6c/Audio-input-microphone.png/38px-Audio-input-microphone.png 2x\" width=\"19\"/>,\n",
       " <img alt=\"flag\" class=\"thumbborder\" data-file-height=\"540\" data-file-width=\"740\" decoding=\"async\" height=\"15\" src=\"//upload.wikimedia.org/wikipedia/commons/thumb/f/f7/Flag_of_Pennsylvania.svg/21px-Flag_of_Pennsylvania.svg.png\" srcset=\"//upload.wikimedia.org/wikipedia/commons/thumb/f/f7/Flag_of_Pennsylvania.svg/32px-Flag_of_Pennsylvania.svg.png 1.5x, //upload.wikimedia.org/wikipedia/commons/thumb/f/f7/Flag_of_Pennsylvania.svg/42px-Flag_of_Pennsylvania.svg.png 2x\" width=\"21\"/>,\n",
       " <img alt=\"flag\" class=\"thumbborder\" data-file-height=\"650\" data-file-width=\"1235\" decoding=\"async\" height=\"11\" src=\"//upload.wikimedia.org/wikipedia/en/thumb/a/a4/Flag_of_the_United_States.svg/21px-Flag_of_the_United_States.svg.png\" srcset=\"//upload.wikimedia.org/wikipedia/en/thumb/a/a4/Flag_of_the_United_States.svg/32px-Flag_of_the_United_States.svg.png 1.5x, //upload.wikimedia.org/wikipedia/en/thumb/a/a4/Flag_of_the_United_States.svg/42px-Flag_of_the_United_States.svg.png 2x\" width=\"21\"/>,\n",
       " <img alt=\"\" data-file-height=\"1376\" data-file-width=\"1024\" decoding=\"async\" height=\"27\" src=\"//upload.wikimedia.org/wikipedia/en/thumb/4/4a/Commons-logo.svg/20px-Commons-logo.svg.png\" srcset=\"//upload.wikimedia.org/wikipedia/en/thumb/4/4a/Commons-logo.svg/30px-Commons-logo.svg.png 1.5x, //upload.wikimedia.org/wikipedia/en/thumb/4/4a/Commons-logo.svg/40px-Commons-logo.svg.png 2x\" style=\"vertical-align: middle\" width=\"20\"/>,\n",
       " <img alt=\"\" data-file-height=\"415\" data-file-width=\"759\" decoding=\"async\" height=\"15\" src=\"//upload.wikimedia.org/wikipedia/commons/thumb/2/24/Wikinews-logo.svg/27px-Wikinews-logo.svg.png\" srcset=\"//upload.wikimedia.org/wikipedia/commons/thumb/2/24/Wikinews-logo.svg/41px-Wikinews-logo.svg.png 1.5x, //upload.wikimedia.org/wikipedia/commons/thumb/2/24/Wikinews-logo.svg/54px-Wikinews-logo.svg.png 2x\" style=\"vertical-align: middle\" width=\"27\"/>,\n",
       " <img alt=\"\" data-file-height=\"355\" data-file-width=\"300\" decoding=\"async\" height=\"27\" src=\"//upload.wikimedia.org/wikipedia/commons/thumb/f/fa/Wikiquote-logo.svg/23px-Wikiquote-logo.svg.png\" srcset=\"//upload.wikimedia.org/wikipedia/commons/thumb/f/fa/Wikiquote-logo.svg/35px-Wikiquote-logo.svg.png 1.5x, //upload.wikimedia.org/wikipedia/commons/thumb/f/fa/Wikiquote-logo.svg/46px-Wikiquote-logo.svg.png 2x\" style=\"vertical-align: middle\" width=\"23\"/>,\n",
       " <img alt=\"\" data-file-height=\"590\" data-file-width=\"1050\" decoding=\"async\" height=\"15\" src=\"//upload.wikimedia.org/wikipedia/commons/thumb/f/ff/Wikidata-logo.svg/27px-Wikidata-logo.svg.png\" srcset=\"//upload.wikimedia.org/wikipedia/commons/thumb/f/ff/Wikidata-logo.svg/41px-Wikidata-logo.svg.png 1.5x, //upload.wikimedia.org/wikipedia/commons/thumb/f/ff/Wikidata-logo.svg/54px-Wikidata-logo.svg.png 2x\" style=\"vertical-align: middle\" width=\"27\"/>,\n",
       " <img alt=\"Edit this at Wikidata\" data-file-height=\"20\" data-file-width=\"20\" decoding=\"async\" height=\"10\" src=\"//upload.wikimedia.org/wikipedia/en/thumb/8/8a/OOjs_UI_icon_edit-ltr-progressive.svg/10px-OOjs_UI_icon_edit-ltr-progressive.svg.png\" srcset=\"//upload.wikimedia.org/wikipedia/en/thumb/8/8a/OOjs_UI_icon_edit-ltr-progressive.svg/15px-OOjs_UI_icon_edit-ltr-progressive.svg.png 1.5x, //upload.wikimedia.org/wikipedia/en/thumb/8/8a/OOjs_UI_icon_edit-ltr-progressive.svg/20px-OOjs_UI_icon_edit-ltr-progressive.svg.png 2x\" style=\"vertical-align: text-top\" width=\"10\"/>,\n",
       " <img alt=\"Edit this at Wikidata\" class=\"noprint\" data-file-height=\"20\" data-file-width=\"20\" decoding=\"async\" height=\"10\" src=\"//upload.wikimedia.org/wikipedia/en/thumb/8/8a/OOjs_UI_icon_edit-ltr-progressive.svg/10px-OOjs_UI_icon_edit-ltr-progressive.svg.png\" srcset=\"//upload.wikimedia.org/wikipedia/en/thumb/8/8a/OOjs_UI_icon_edit-ltr-progressive.svg/15px-OOjs_UI_icon_edit-ltr-progressive.svg.png 1.5x, //upload.wikimedia.org/wikipedia/en/thumb/8/8a/OOjs_UI_icon_edit-ltr-progressive.svg/20px-OOjs_UI_icon_edit-ltr-progressive.svg.png 2x\" style=\"vertical-align: text-top\" width=\"10\"/>,\n",
       " <img alt=\"\" class=\"noviewer\" data-file-height=\"185\" data-file-width=\"180\" decoding=\"async\" height=\"16\" src=\"//upload.wikimedia.org/wikipedia/en/thumb/9/96/Symbol_category_class.svg/16px-Symbol_category_class.svg.png\" srcset=\"//upload.wikimedia.org/wikipedia/en/thumb/9/96/Symbol_category_class.svg/23px-Symbol_category_class.svg.png 1.5x, //upload.wikimedia.org/wikipedia/en/thumb/9/96/Symbol_category_class.svg/31px-Symbol_category_class.svg.png 2x\" title=\"Category\" width=\"16\"/>,\n",
       " <img alt=\"Edit this at Wikidata\" class=\"noprint\" data-file-height=\"20\" data-file-width=\"20\" decoding=\"async\" height=\"10\" src=\"//upload.wikimedia.org/wikipedia/en/thumb/8/8a/OOjs_UI_icon_edit-ltr-progressive.svg/10px-OOjs_UI_icon_edit-ltr-progressive.svg.png\" srcset=\"//upload.wikimedia.org/wikipedia/en/thumb/8/8a/OOjs_UI_icon_edit-ltr-progressive.svg/15px-OOjs_UI_icon_edit-ltr-progressive.svg.png 1.5x, //upload.wikimedia.org/wikipedia/en/thumb/8/8a/OOjs_UI_icon_edit-ltr-progressive.svg/20px-OOjs_UI_icon_edit-ltr-progressive.svg.png 2x\" style=\"vertical-align: text-top\" width=\"10\"/>,\n",
       " <img alt=\"\" height=\"1\" src=\"//en.wikipedia.org/wiki/Special:CentralAutoLogin/start?type=1x1\" style=\"border: none; position: absolute;\" title=\"\" width=\"1\"/>,\n",
       " <img alt=\"Wikimedia Foundation\" height=\"31\" loading=\"lazy\" src=\"/static/images/footer/wikimedia-button.png\" srcset=\"/static/images/footer/wikimedia-button-1.5x.png 1.5x, /static/images/footer/wikimedia-button-2x.png 2x\" width=\"88\"/>,\n",
       " <img alt=\"Powered by MediaWiki\" height=\"31\" loading=\"lazy\" src=\"/static/images/footer/poweredby_mediawiki_88x31.png\" srcset=\"/static/images/footer/poweredby_mediawiki_132x47.png 1.5x, /static/images/footer/poweredby_mediawiki_176x62.png 2x\" width=\"88\"/>]"
      ]
     },
     "execution_count": 37,
     "metadata": {},
     "output_type": "execute_result"
    }
   ],
   "source": [
    "soup.select('img')"
   ]
  },
  {
   "cell_type": "code",
   "execution_count": 40,
   "id": "9ea5e042",
   "metadata": {},
   "outputs": [],
   "source": [
    "taylor = soup.select('.thumbimage')[1]"
   ]
  },
  {
   "cell_type": "code",
   "execution_count": 41,
   "id": "48eb95ee",
   "metadata": {},
   "outputs": [
    {
     "data": {
      "text/plain": [
       "<img alt=\"Taylor Swift singing on a microphone and playing a guitar\" class=\"thumbimage\" data-file-height=\"546\" data-file-width=\"819\" decoding=\"async\" height=\"173\" src=\"//upload.wikimedia.org/wikipedia/commons/thumb/4/4c/Swift%2C_Taylor_%282007%29.jpg/260px-Swift%2C_Taylor_%282007%29.jpg\" srcset=\"//upload.wikimedia.org/wikipedia/commons/thumb/4/4c/Swift%2C_Taylor_%282007%29.jpg/390px-Swift%2C_Taylor_%282007%29.jpg 1.5x, //upload.wikimedia.org/wikipedia/commons/thumb/4/4c/Swift%2C_Taylor_%282007%29.jpg/520px-Swift%2C_Taylor_%282007%29.jpg 2x\" width=\"260\"/>"
      ]
     },
     "execution_count": 41,
     "metadata": {},
     "output_type": "execute_result"
    }
   ],
   "source": [
    "taylor"
   ]
  },
  {
   "cell_type": "code",
   "execution_count": 42,
   "id": "06199e7d",
   "metadata": {},
   "outputs": [
    {
     "data": {
      "text/plain": [
       "bs4.element.Tag"
      ]
     },
     "execution_count": 42,
     "metadata": {},
     "output_type": "execute_result"
    }
   ],
   "source": [
    "type(taylor)"
   ]
  },
  {
   "cell_type": "code",
   "execution_count": 43,
   "id": "dd37c535",
   "metadata": {},
   "outputs": [
    {
     "data": {
      "text/plain": [
       "'//upload.wikimedia.org/wikipedia/commons/thumb/4/4c/Swift%2C_Taylor_%282007%29.jpg/260px-Swift%2C_Taylor_%282007%29.jpg'"
      ]
     },
     "execution_count": 43,
     "metadata": {},
     "output_type": "execute_result"
    }
   ],
   "source": [
    "taylor['src']"
   ]
  },
  {
   "cell_type": "markdown",
   "id": "7c2fdb30",
   "metadata": {},
   "source": [
    "<img src = '//upload.wikimedia.org/wikipedia/commons/thumb/4/4c/Swift%2C_Taylor_%282007%29.jpg/260px-Swift%2C_Taylor_%282007%29.jpg'>"
   ]
  },
  {
   "cell_type": "code",
   "execution_count": 44,
   "id": "0a4f24c5",
   "metadata": {},
   "outputs": [],
   "source": [
    "image_link = requests.get('https://upload.wikimedia.org/wikipedia/commons/thumb/4/4c/Swift%2C_Taylor_%282007%29.jpg/260px-Swift%2C_Taylor_%282007%29.jpg')"
   ]
  },
  {
   "cell_type": "code",
   "execution_count": 45,
   "id": "9b610fbc",
   "metadata": {},
   "outputs": [
    {
     "data": {
      "text/plain": [
       "b'\\xff\\xd8\\xff\\xdb\\x00C\\x00\\x04\\x03\\x03\\x04\\x03\\x03\\x04\\x04\\x03\\x04\\x05\\x04\\x04\\x05\\x06\\n\\x07\\x06\\x06\\x06\\x06\\r\\t\\n\\x08\\n\\x0f\\r\\x10\\x10\\x0f\\r\\x0f\\x0e\\x11\\x13\\x18\\x14\\x11\\x12\\x17\\x12\\x0e\\x0f\\x15\\x1c\\x15\\x17\\x19\\x19\\x1b\\x1b\\x1b\\x10\\x14\\x1d\\x1f\\x1d\\x1a\\x1f\\x18\\x1a\\x1b\\x1a\\xff\\xdb\\x00C\\x01\\x04\\x05\\x05\\x06\\x05\\x06\\x0c\\x07\\x07\\x0c\\x1a\\x11\\x0f\\x11\\x1a\\x1a\\x1a\\x1a\\x1a\\x1a\\x1a\\x1a\\x1a\\x1a\\x1a\\x1a\\x1a\\x1a\\x1a\\x1a\\x1a\\x1a\\x1a\\x1a\\x1a\\x1a\\x1a\\x1a\\x1a\\x1a\\x1a\\x1a\\x1a\\x1a\\x1a\\x1a\\x1a\\x1a\\x1a\\x1a\\x1a\\x1a\\x1a\\x1a\\x1a\\x1a\\x1a\\x1a\\x1a\\x1a\\x1a\\x1a\\x1a\\x1a\\xff\\xc0\\x00\\x11\\x08\\x00\\xad\\x01\\x04\\x03\\x01\"\\x00\\x02\\x11\\x01\\x03\\x11\\x01\\xff\\xc4\\x00\\x1d\\x00\\x00\\x01\\x05\\x00\\x03\\x01\\x00\\x00\\x00\\x00\\x00\\x00\\x00\\x00\\x00\\x00\\x00\\x01\\x05\\x06\\x07\\x08\\x02\\x04\\t\\x03\\xff\\xc4\\x00@\\x10\\x00\\x01\\x03\\x03\\x03\\x02\\x04\\x05\\x02\\x03\\x05\\x06\\x07\\x01\\x00\\x00\\x01\\x02\\x03\\x04\\x00\\x05\\x11\\x06\\x12!\\x071\\x13\"AQ\\x08\\x142aq\\x15\\x81#B\\x91\\x16$Rr\\xa13b\\x82\\xb1\\xc1\\xf0\\x17\\x18%&4Cc\\xf1\\xff\\xc4\\x00\\x1b\\x01\\x00\\x02\\x03\\x01\\x01\\x01\\x00\\x00\\x00\\x00\\x00\\x00\\x00\\x00\\x00\\x00\\x00\\x01\\x03\\x04\\x05\\x02\\x06\\x07\\xff\\xc4\\x002\\x11\\x00\\x01\\x03\\x02\\x03\\x05\\x07\\x04\\x03\\x00\\x03\\x00\\x00\\x00\\x00\\x00\\x01\\x00\\x02\\x03\\x04\\x11\\x12!1\\x05AQa\\xf0\\x13\"q\\x81\\x91\\xa1\\xb1#\\xc1\\xe1\\xf1\\x142\\xd1\\x06Br\\xff\\xda\\x00\\x0c\\x03\\x01\\x00\\x02\\x11\\x03\\x11\\x00?\\x00\\xc1\\x14R\\xd1\\xfe\\x95\\x1a\\x99%\\x18\\xaeT\\x94$\\x92\\x8aZ)\\xa2\\xc91E.(\\xa1$\\x94b\\x96\\x8a\\x10\\x92\\x8aZ)\\xa4\\x93\\x14R\\xe2\\x97\\x8fS\\xc54\\x97\\x1a~\\xd2\\xfa+RkiNE\\xd1\\xf6+\\x95\\xf6C@)\\xd4A\\x8a\\xb7\\xbc0s\\x82\\xb2\\x91\\x84\\x83\\x83\\xc9\"\\xa4\\x9d6\\xe9l\\x8d{\\xa8mv\\xe9s\\x85\\xaa,\\xe9\\x08l:\\x88\\xeb\\x90\\xe9\\x04\\xf2R\\xdaFN\\x00Q\\xe4\\x8f\\xa4\\xfa\\x0c\\xd6\\xeb\\xe8\\xde\\x92\\xeaN\\x96\\xd3\\x88\\xb1\\xe8\\xd5\\xd8\\xf4\\xc6\\x98jK\\x85\\xa9\\x13\\xe2\\x07\\xa4J;\\xce^R\\x07*Z\\xc0O\\x99D\\xe0`\\'\\t\\x00Uif\\x11\\xe45V\\xa3\\xa7{\\x80\\'E\\x88\\xbf\\xf2\\xe5\\xd5\\x82\\x14\\x7f\\xf0\\xfe\\xfe\\x10\\x81\\x95,\\xc3;1\\xfen\\xc7\\xf6\\xa8\\xfd\\xfb\\xa6:\\xb7J\\xb0\\xb7\\xf5\\x0e\\x9c\\xb9\\xc3e<\\x17W\\x1dA\\t?\\x9c`\\xff\\x00Z\\xf5\\xd2\\xc6\\xf6\\xb0\\xb6\\xc5\\x96\\xce\\xa5\\xb8\\xdbn\\xa8(O\\xca\\xca\\x87\\tQ\\xd4\\x95\\xe7\\x9f\\x11\\xb0H\\xda}\\xd3\\xc8\\xf5\\x06\\x9a\\xf5-\\x9dn5\\xe2\\xa2qm\\xc5\\x83\\x94\\xedJ\\x92\\xafq\\xff\\x00\\xf0\\xd5SV\\xfd\\xc2\\xeaV\\xc1\\x18$?.\\x1dYx\\xe4@9) \\x8c\\xfaR\\x11[\\xbb\\xaa\\x1d\\x06\\x85\\xa9<k\\x8c\\x0b%\\xaaD\\xc5\\x12\\\\9\\\\G\\x15\\xf7K\\x8d\\xf9I\\xfb\\xac\\x1f\\xb9\\xac}\\xaft4\\xcd\\x0byr\\x04\\xcc\\x96\\x97\\xe7\\x8e\\xb5\\xf0\\xad\\x99<,\\x0f\\xa5c\\xb1\\x1e\\xb8\\xc8\\xc89\\xab\\x10\\xd4\\xb2ca\\x91\\\\ML\\xe8\\x9b\\x8a\\xf7\\n#\\x8cRc\\xde\\xb9\\x9e\\xe7\\x04\\x1f\\xb8\\xa4\\xabJ\\x9a\\xe3\\x8a1KA\\x18\\xa6\\x84\\x94b\\x96\\x8fZ\\x10\\x92\\x93\\x14\\xb4P\\x84\\x86\\x8aZ(BOZ(\\xa0\\xd0\\x84QKE<\\x90\\x96\\x8a)j5\")(\\xa5\\xa1\\x08\\xfd\\xa91E\\x14$\\x8a)i)\\xa1\\x14P)hI%\\x1e\\xb4\\xbe\\x94z\\xd0\\x84S\\xb6\\x9d\\xb3=~\\xba\\xc6\\xb7\\xc3)2\\xe5:\\x86#\\xa0\\xa8\\x82\\xa5\\xa8\\x801\\xc1\\xed\\x9ei\\xa8\\x0e\\xd5\\xaa\\xfe\\x10zk\\x12v\\xa2N\\xa9\\xbf\\x87\\x9d\\x89od\\xbc\\xd3a\\xb1\\xb1\\xad\\xc0\\x80w\\x13\\x8f\\x11A*\\xc68H\\xc9\\'8\\x15\\xcb\\xdc\\x1a\\xdb\\xa9#n\\'r\\x0bFh\\xae\\x95[tC6Hv\\xf4\\xbc\\x9b\\xec\\xd8\\xdb\\x97s\\x0e\\x84*3G\\x08W\\x84\\x9caYBJA<\\xf9\\x89\\x1c\\n\\xbf\\xad\\x8d\\xf8\\xcf\\x040\\x86\\xfc\\x80$\\x02\\xb1\\x90=\\x80\\xefT\\xfd\\x997\\x0b\\xe7S\\xe3N\\x92\\xc2`\\xb0\\xd5\\x91KR\\t9Z\\xd4\\xbf\\r\\x93\\xcf8\\t\\x0b\\xc7\\x03\\xf1_\\x14Z:\\xb3\\xa8\\xeeST\\xc2m:n\\xcd\\x12\\xe0\\x1b\\x84\\xc2\\xec\\xad\\xcdT\\x98\\xc3\\x9f\\x99[\\xebq*\\xdcH\\xfa\\x12\\x01\\xe79\\xe2\\xb2Z\\xc31\\xd5h\\x99p7\\x11\\x1c\\x96\\x82v2\\xd0\\x0e\\xe6\\xd0\\x07\\xf9\\xb8\\xa8&\\xa3C1\\xa5\\x13%\\xd4\\xa1N\\'\\x01)u>\"~\\xe1$\\xff\\x00\\xa1\\xff\\x00L\\xd7\\xd3Q\\\\\\xeePt\\xc1e\\xa7\\xd0\\xdc\\xa3!\\xa6\\x9e\\x90RJZB\\xc8\\x0b\\xc7\\xbe2@\\xfd\\xaa\\x96\\xea\\x1e\\x8d\\xea\\xa5\\x91.+FJb\\xfd\\x05\\xd6\\x91\\xe2[\\xdf\\xb6GJ\\x1eYQ\\xf1\\x01wv\\xf6\\xc8\\x18)_99\\xedHF\\x1f\\xa6V\\xe2\\x82p4\\x07\\x8dU\\xab\\x16\\xd9\\x06c\\x1e#\\xef%\\x95;\\x80\\xcc\\xb6\\xd5\\xb5\\xa7\\xf3\\xea\\x01\\xecs\\x90RpA\\x04s\\xde\\xb2\\x8f\\xc4\\xe7Hb\\xdd\\xe4\\xbfp\\xb3;\"m\\xf6\\xde\\xc2\\x8f\\xca$\\xf8\\x89}\\xa1\\x95\\x10\\x94\\xe0\\x94\\xab\\xb9\\x18\\xceq\\x8a\\xbe4\\xc5\\x81Wk-\\xefG\\xea\\'\\x9cH\\x90\\x96d\\xe5\\xa5\\x0f\\x11\\xb73\\x85\\xe3<s\\xb4\\x0f\\xce\\x0f\\xad5j\\xbe\\x9b|\\xbe\\xac\\xb4\\xae\\xcd}[s\\x17\\x05f+o\\xe4-\\xf5\\x04\\x1d\\xc5(\\xfaTv\\xa4+o\\n\\x04\\x123\\xe6\\xc5g\\x12\\xc2\\xd9\\x1a,z\\xb8RB\\xe6\\x82\\xf8\\xa47\\x16\\xfd\\x15\\xe6!;\\xbd\\x02~\\xc0v\\xa4\\xab\\xb3\\xe2\\x17D\\'O\\xea$\\xdc\\\\\\x82\\xdd\\x99\\xe9\\xf2\\x1eD\\x86\\x1aV[S\\xa9\\xd8|T\\x0c\\x0f*\\xd2\\xe2U\\xf6\\xc9\\xef\\xde\\xa9L\\x7fJ\\xf4\\x11\\xbcH\\xd0\\xe0\\xb2da\\x8d\\xc5\\xa5%\\x14{Q]\\xa8\\xd1E\\x1e\\x94P\\x84\\x94\\x7f\\xdfj(\\xa6\\x92CA\\xa2\\x8a\\x13E\\x18\\xa2\\x8a\\x12@\\xcf\\xde\\x8a1\\x9fz(\\xb0O4\\xb4\\xb4Q\\\\.\\xd1\\xe9E\\x14P\\x84Q\\xda\\x96\\x92\\x9a\\x11E-\\x14$\\x93\\x1e\\xf4R\\xfe\\xd4\\x1a\\x10\\x92\\x80)h\\x1f\\xd2\\x84\\x97\\xde\\x13>4\\xa6\\x13\\xb0->\"7\\x05\\x0f.7\\x0e\\xff\\x00j\\xf5\\x03\\xe1\\xdbOx:\\x12\\n\\xe4@dGl\\xb8\\xccUH\";{\\x90\\xa2<T\\'\\xbb\\x83\\xcc|\\xc7\\x8022k\\xcd=,\\xc2\\xa5^\\xa2\\xb4\\xd3n\\xa9\\xc7]ChCd\\x92\\xb5\\x95\\r\\xa9\\xda\\x06I\\'\\x03\\x03\\xdf\\xf3^\\xa6X\\xf4\\xfa\\x9e\\x85g\\xb9J\\x94\\xca\\xe3J(\\x8e\\x86P\\xea\\\\J\\x1cN\\xef\\xe0`yN\\xd5%I d\\x1d\\xb5B\\xac\\x9c\\x9bl\\x8a\\xb9\\r\\x83\\t\\xba\\xefK\\x9a\\xf1\\xd7\\x10v\\xb4\\xe3\\xad\\xa6\\x0b\\xac\\xbd \\x01\\x80\\x80PY+\\xf5\\x19\\xf3\\x11\\x9fG\\x13\\xebV\\xad\\xad\\xcd\\xc3s\\x83(O$\\xfa`Vh\\x95r\\xd4oK\\xd4\\xb7\\xcb\\xa8\\x99\\x12\\xd7\\x12\\xe6mpe[\\x9c\\x8c\\x99\\xaf:\\xec\\xc46\\xfb\\x8f\\xad\\xd6\\x96XJ\\x02\\xdb(B\\x02J\\x91\\xfc\\xdc\\xd5\\x93wkJ\\xc2\\x89\\t\\x17\\x9b\\xee\\xa6\\x9bri\\x85\\xbc\\xcc\\x087YR\\xa6\\xcaH\\xef\\x98\\xec\\xe5K\\x04\\xa7\\x1c\\xa4$\\xe4\\x83\\xde\\xa1lx\\x08\\xc5\\x92\\x94?\\x14D35\\xf4\\xd7\\x96\\xf7%\\xc0\\\\g\\xb5\\xd3\\x16\\xd6\\xa7LS\\xf1\\xe2:\\xccu2\\xeaR\\x92\\x80\\xce~\\xa5$,\\x85\\xa8\\x83\\xbfp\\xda\\x92\\x91R\\x0b\\x95\\xd9H\\xb5CZ]\\x12\\x9d\\xf9t\\xa5n!\\x1b\\x02\\xd6\\x06\\x14@\\xc9\\xc0*\\x04\\xe3<v\\xac\\xb7\\xa2\\xf5\\xff\\x00R\\xef\\xddm\\x8d\\xa5\\xdf\\xd1\\xf7\\xfd-\\xa7~VO\\xea6\\xd9\\x1b\\x1dYAJ\\x9cK\\xcaummO\\x9b\\xc2JB\\x00\\x18\\x00\\x12\\xa2TM\\xe9\\x02\\x0c}\\x1d\\xa0\\xedV\\xe9\\xafJ[\\xd0\\xd0\\xf8vD\\xe9\\x01\\xd7W\\x95\\x17T\\xa5(\\x00=p0\\x00\\x03\\x02\\x95CC\\x0ft\\xabp\\x97:0^3\\xeb\\x97\\xfa\\xa0ZR\\xe8uGV\\xaf:Z\\xe5qr\\xdc\\xd4\\xb8Iz3\\xcd\\xabb\\x97%\\xb5\\xe3\\xc3J\\xbd\\xc2W\\xbb\\x1e\\xe0T\\x9fR\\xdd\\xaf3c\\xbc\\xde\\xa3\\xb1\\xa5\\xb9v\\xd9Iy\\x8b\\x8cu\\xa1\\xd56\\xb4\\xab\\xca\\\\H9NGe\\x81\\x8f0\\xce\\x0e\\rg]\\x13\\xa8\\xc5\\xfb\\xad0\\xa1G\\x8e\\xb6\\xdfT\\xe6\\\\nxR\\x7f\\xbb\\x15\\x12\\xb5\\xe7#?\\xec\\xfd22O\\xda\\xb5\\xe6\\xaab\\xde\\x8b\\xba%\\xbf\\xe0Gbs\\x05\\xa8\\xcf)IHIZT\\x9c\\x82y\\x1fPI\\x03\\x8cc<\\x0e(\\xb8\\x93\\x197\\xb2S\\x86GP-\\x9f\\xd8\\x8c\\x96n\\xf8\\x8f\\xb3Z:\\xd7f\\x87l\\xb5\\xdc\\x19\\x89\\xad\\xec\\x91\\xc5\\xda\\x1cr\\x02Z\\xbaBy;T\\x13\\x83\\xc2\\xd0\\xa6\\x82U\\x8c\\x84\\xa9$\\x10\\x12r\\x9c\\x1b:\\x14\\x8bd\\xc7\\xa1\\xcfeq\\xe50\\xad\\xae6\\xb1\\x82\\x93\\xff\\x00~\\xbd\\x8di\\xbe\\xb2\\xc7\\xb8h\\xe4~\\x91\\xaa\\xec\\xdf\\xfaiS3\\xed\\xd3Z\\x05\\x9b\\x85\\x99\\xf7RN\\xf6\\x9e\\xc8\\xde\\xda\\xca\\x16\\x16\\xca\\x89\\xc2\\xd1\\xc1I\\x1c\\xd1\\xda\\xdaT\\xcb\\x94\\x0b%\\xc2\\xf7)\\xa9\\xf7\\'\\x83\\xcd\\x89hAI\\x90\\xc2v\\xf8jV@$\\xf9\\x95\\xc9\\x00\\xe0\\x0c\\xf3\\xcdjR\\xb9\\xe1\\xad\\x07C\\xecUY\\xe2\\x8e\\xce#Q\\x98\\xe6\\x142\\x92\\xb9c4\\x84V\\x8a\\xcdI\\x8a)h\\xa6\\x84\\x98\\xa4\\xa5\\xa2\\x84$4QE\\t$\\xc5\\x1e\\x94\\xb4\\x0e\\xf4\\xd0\\x8c~\\xf4QE$\\xd7/j(\\xa2\\xb8R\"\\x8f\\xcd\\x18\\xa2\\x84#\\x9a(\\xa2\\x84\\x91E\\x1d\\xe9E4$\\xa5\\xc5\\x18\\xa5\\xa1$\\x83\\x8fZ)qJ\\x9d\\xa1@\\xb9\\xca\\x01\\xe4g\\x14![\\xdf\\x0e\\x9a*\\xe5\\xae\\xb5\\xbb\\x90bIv\\xd1k\\x8f\\r\\xc9\\x17+\\xc2[\\xcf\\xc8GI\\x1e\"\\x92Oe\\xad$\\xb6\\x9cs\\x95\\xfbf\\xbd\\x00\\x996\\\\\\xabN\\x9e\\xd3\\x9a\\x0e\\xcb\\x1bL\\xd8U\\x19\\xa5&{\\x8a\\x01\\xa8\\x91S\\xd9\\xaft\\xa8\\x80|\\xdd\\xd4\\xa2\\xa0\\x0esX\\xdb\\xa0\\xf3\\xe4^:sw\\xb0Y\\x92\\xfb\\xb2fj\\x18n\\xdfK9\\x0e\\xb7hC{\\xc0o\\xd7b\\x9fe\\tY\\x1c$l\\x04\\x00\\xaa\\xd5W\\x1dgl\\x85\\xa8\\xdb\\xfe\\xd0G\\x94\\x19\\x8f\\x1e\\x04iM[\\xa2-\\xf4BrH/\\x86\\xd6\\x13\\xe6(\\xda\\xe9\\xe59 \\x9c\\x80v`\\xe6\\xd4;\\xbd\\x9a\\xbf\\x1bn\\xce\\xba\\xde\\x16m\\xeb}\\xfe\\xf6\\xe7P\\xb5\\x95\\xe2\\xd5p\\x99\"\\xd943%\\xa6\\x84\\x85\\xb6\\xd2\\xdf\\x8d\\xe4R\\xf6d$\\xa8)\\xafc\\x80v\\x83\\x8e\\x06\\xc5\\xb6;}\\xb3E\\x93\\xaa\\xf4\\xf5\\xa1\\x89\\xf6\\xbdN\\xb6\\xee\\xabb\\xd8\\xe9~BC\\xac\\xa0\\x8c\\x95%%\\xd4\\xe3$\\x04\\xfd9\\xc0\\x15\\x9a/\\xdd\\x06\\xd4Z\\xa7V.\\xd1`i\\xd9\\xb6\\x84:\\xa8\\xcd\\xcf<\\x88\\xac%$6\\\\\\xca\\xb8\\xc2H\\x19\\xee\\xa2\\x92q\\xcdk\\xde\\x99\\xdbN\\x9e\\xd0\\xd6\\xcd9\"KR\\x7fE\\x8a\\x88!\\xe6\\x92\\xa4\\xa1^\\x18\\t\\xf2\\x85\\x12v\\x8e\\xc3$\\x9c\\n\\xa8\\xe9q\\rT\\xe1\\x8d\\x8cX\\x05Y\\\\\\xfe+l\\xd6\\xd5=k\\xb8\\xc0v$\\xe4\\x05%Q\\xae\\x01\\xd8\\xab\\xcf\\xf9\\x1c@8\\xfcU\\x01\\xaa\\xfa\\xb7+T]\\x0bw+\\xabrD\\xb7<6\"EJ\\x82\\x12\\x95\\x1e\\xc5G\\x93\\xd8~\\xc2\\xb7\\x1e\\xa4\\xd36\\xadc\\x03\\xf4\\xedUh\\x87{\\x8a9\\rNe/%\\n\\xff\\x00\\x12I\\xe5\\'\\xee\\x085Tj\\x8e\\x91h\\x9e\\x9b\\xe9\\xfdE|\\xd0ZB\\x1c]Bm\\xaf7\\x1d\\xf4)\\xc7\\x9c\\x0e-%\\x01-\\x07\\x16\\xa0\\x82J\\x80\\xca@\\xef\\xde\\xa1\\x94\\x17\\x0c\\xdc\\xae\\xc14l\\xd1\\xb6=u\\xa2\\xce=\\x08\\xd37+\\x8c\\xfb\\x8e\\xba;#Y\\x9a\\xbdId8RT\\xe4\\xb9*\\xf24\\xd3I\\x1d\\xcf\\x98\\x92{\\x00\\x0ekP\\xea\\x17\\xa1\\xdf4\\xdcG\\xf5-\\xa5\\xfb|F\\xf6HC\\xa9Pu\\xb6\\x1e\\x19\\nRU\\xc1\\xd8\\xa0H)<\\xf9\\xb1\\x83\\x9a\\xa9~\\x1d\\xd1?\\xa7}?r\\xcd\\xad\\xec\\x0f!P\\xa7\\xaa\\\\7\\x9bp-*R\\xd0[Z\\x92\\x06B\\x8f=\\x87\\x9b\\n$\\x03\\xcdX\\x9a\\x87Q\\xdb$:\\xdd\\x96\\xff\\x00&\\xe9em\\x89N%\\xa6\\xd9h:\\xda\\x9c\\xdb\\xbf\\xc2q8\\'\\x00\\xac\\r\\xd8\\xc6H\\x07\\x9a\\x8aR\\x18\\xec\\x8e\\xaa\\x9d\\x9e\\xe7\\xdd\\xc3EC\\xf5\\xael\\xc6t(\\xb7\\xdc\\xa4G\\xbe1\\tn\\xa6\\t\\x99\\x18<x\\xc6\\xc4nV\\x14\\x9e\\n\\x93\\xf5\\x1c\\r\\xa4}\\xf1\\xfe\\xa5\\xb8\\xa2d\\x96\"\\xc6e\\xb8\\xd0aGm\\xb6P\\xdeJA\\xdb\\x95\\xa8g\\x93\\xb9\\xc5,\\x92I=\\x87`+zu3K\\xda5tI\\xfau\\xedJ\\xdcmO\\x02C\\xd1$Z\\xdd\\x8cC/6G\\xf0\\xfc\\xdc%KHRS\\xb9$gh\\x04d\\x12pv\\xaa\\xb2I\\xb0]\\xe5[.1\\x832c\\xb8\\xb4\\xec\\xe4)8?N\\t?\\xd3\\x83\\xfdkR\\x86\\xc0\\x10NiV\\x12\\xe64\\x81\\xd7\\xe5G\\xbf|\\xd1\\xedG\\xfc\\xa8\\xfb\\xd6\\xaa\\xc7I\\x8aCJE%4#\\xd6\\x8c}\\xe8\\xc7\\xad\\x14!%\\x14QM\\x08\\xa2\\x8a9\\xa1\\x08\\xa2\\x8cQBiqG\\xedKEF\\xa4IE)\\xa2\\x84\\x91E\\x14P\\x84R\\xd2R\\xe2\\x84\\x91K\\xdb\\x93F@\\x19\\'\\x00V\\xcc\\xf8g\\xf8O\\x17F\\xe2j\\xee\\xa9\\xc0\\xdc\\xc3\\x81.\\xdb\\xac\\xaf\\xa3\\x85\\xa7\\xb8vB}A\\xee\\x1b?\\x95{\\x18e\\x95\\xb0\\xb6\\xeeSE\\x0b\\xa6u\\x82\\xa5zS\\xf0\\xd5\\xadz\\xa8\\xcbW\\x08\\xd1\\xd3c\\xb09\\xcan3\\x92\\xa1\\xe2\\x8fv[\\x1eg?<\\'\\xbf\\x9a\\xb6\\xb7I~\\x0f\\xb46\\x88\\xf0\\xe6\\xdd\\xe1\\x7fi\\xee\\xc3\\x052niJ\\xdbl\\xf1\\xca\\x19\\xfa\\x07# \\x9d\\xc4{\\xd6\\x83b\\xda\\xc4d\\xa7)H\\t\\x00%#\\x801\\xd8Wy\\x95\\x8c\\xe1<\\x0f\\xcde\\x19d\\x98\\xf7\\xcd\\x87\\x00\\xb4\\x80\\x8a\\x16\\xfd1s\\xc4\\xfd\\x93\\x05\\xd6\\xdf\\x06\\xc5\\x0c\\xcat\\xb7\\x1a\\x146\\xd4\\xf3\\xc7\\x01)CiI*>\\xc0\\x00\\rgo\\x84\\xcb\\xc5\\xd3Ph}Irv<d\\\\\\xd36,D=\\x19*m\\xf0\\xd2Q\\x96\\x12\\xe2\\x0f\\x94\\x94 \\xa1 \\xe7;\\x12\\x90s\\x81W\\x1f\\xc45\\xfci\\xbe\\x90ji(s\\xc3\\x912:m\\xb1\\xce\\xc6\\xd7\\x85\\xc9Xk8p\\x84\\x90\\x12\\xa5\\x13\\x9f@i\\x9b\\xe1\\xabFD\\xd2\\x9d\\t\\xd1\\xb1\\xe2x\\x0e\\xfe\\xa1\\x08\\\\\\xa6:\\xd7)u\\xf7\\xfc\\xc4\\x13\\xeaP\\x90\\x86\\xfe\\xdb+\\xa1\\x13[\\x13\\x88\\x1a\\x9f\\x8f\\xd8Pv\\xce\\x92P\\x1coe\\'\\x85\\xa6\\x9e\\xb6\\xc9\\xb9\\xdf\\xe2\\xb4\\xf7\\xea7\\x10\\x11%\\x84\\xad-\\xa5-\\xa0\\x9207r\\xaeI*<\\x9f\\xb0\\xa7vY\\xfe\\xed%\\x93\\xb5\\xa2\\xf3kHR; \\x94\\xe0g\\xd7\\x83\\x83\\x9a\\xef\\xac\\x05\\x92\\x95\\x83\\x80>\\x9e\\xe2\\xbe\\xa1I\\xc0B\\x18\\xdc\\xa0\\x0e\\xd2\\xa1\\xc6j\\xb3Z\\x02\\xb8\\xeb\\x91s\\xaaV%\\x84\\xdb\\xe3oe\\xd4J\\x08J\\x1d\\xdc8\\xdd\\x8c\\x1c\\x1f^{Tg[%\\xe7\\xed\\x9er\\x96\\xd2\\xb7\\x92\\xd9\\x1d\\xd4\\xac\\xe4\\xf7\\xf4\\xedN\"M\\xc9\\xab\\x8cT!\\x96\\x1de^g\\xf6\\xa5C\\xc1F\\xc3\\x93\\x93\\xc0Y_\\x01#9O<WKV-O1\\x11/\\x0f\\r\\xa4\\xb8\\xb7\\x9c#$\\xedB\\x0ep={\\xd7r\\xb3\\x03H<\\x15f88b\\x03\\x7fZ\\xa6-=f\\\\W\\x9bU\\xc5\\xc6.(i\\xe4\\xba\\xdb\\x7f,\\x84\\xa9\\xa4n\\n\\xdb\\x8c\\x9c\\xf6\\x1c\\xf1\\xda\\xa3\\xfdAF\\x93\\xd3\\xd7\\x98\\xf25\\xb4\\x84\\xc6m\\x96\\x1c.\\xccy\\xcd\\xa1\\xc0\\xb7V\\xfa\\xb6m![\\xd5\\x85\\x01\\x8fa\\x9c\\x01Rt\\xc8h\\xc8\\xb4G\\x97k\\xb8-s\\x07\\x82e\" (\\xce\\xdc\\x9d\\xe5$\\xecN\\x0198\\x03v=qU\\xcf_\\xf4\\x94\\xfdS\\xa6\\xe6\\xcf\\xb2>\\xb6\\x98\\xb3\\xb1\\xe0\"\\xdb\\x1d\\x8f\\x12D\\xa5\\x94\\xa4\\x15#<)8V\\xd3\\x9c\\x90\\x1bV2\\xa26\\xc5\\xd8\\x16\\x86\\x82r$xj\\xa4\\x95\\xae\\x8c\\x07\\x13\\xb8\\xf9p\\xd2\\xea-\\xd1\\xfb\\\\\\xde\\xbdiK\\x86\\xab\\xd4\\xb6[\\\\H\\xb2\\xa78\\xcd\\xa6y\\xf9\\x83,\\x84(nqXwf\\x12v\\xa0+\\nQ(QW\\xa6k\\x0f\\x89n\\x8ej-]r\\xb3j[\\x0e\\x9f\\n\\xba\\xcf\\xb6\\xb0\\x89p \\x8f\\x11N\\xbe\\x86\\xc9R\\xd0\\x9c\\x02\\xa5\\x14`\\x11\\xc9\\xfe\\x1eFMk\\x1f\\x86+sv\\xaf\\x87\\xfd\\x03\\x19\\xb4)\\xb49nT\\xb4\\xa5d\\x12\\x0b\\xcf8\\xef\\'\\xd7\\xeb\\xef\\xc7\\xe0Q\\xd5[Z%Y\\x14\\x10\\xf4\\xa8m\\xc7W\\x8d\\x88\\x85(X\\xc1\\xce\\xe6\\xd4FP\\xe2H\\nB\\x81\\x18P\\x1d\\xc6A\\xb1#\\xcd<\\x98\\x98r\\xe1\\xc98\\x00\\xa8gf\\xf1\\x9f\\x1e\\xba\\xf0^EHl\\xb4\\xf3\\x88!YB\\x8aN\\xe4\\x94\\x9d\\xc3\\xbf\\x07\\x91\\xfb\\xd7\\xca\\xad\\xde\\xbb\\xb2\\x8b\\xb5\\xf6\\xcf\\xa9\\xc2\\xe2\\tw\\xcbDi77\\x19@m\\x0eM\\xdc\\xe3n\\xac\\xa5#\\x01k-\\x07\\x14\\x07b\\xb2}j\\xa3P\\xdapq\\x9a\\xdcc\\xb1\\xb4\\x10\\xb2$a\\x8d\\xc4\\x14\\x94\\x94\\xbf\\xf3\\xa2\\xbaQ\\xa4\\xfc\\xd2R\\xd2SI\\x14QI\\xe9B\\x11E\\x1c\\xd1B\\x12\\xd1@\\xa2\\x9a\\x12\\xd1E\\x15\\x1a\\x95/\\xde\\x8f\\xfb\\xedE\\x14!\\x14\\x7fZ(\\xfc\\xd0\\x92Z\\x7f\\xd2\\x1a.\\xff\\x00\\xaf.\\xe8\\xb5i\\x1b\\\\\\x8b\\xac\\xd3\\xca\\x92\\xd2p\\x86\\x93\\xfe\\'\\x16|\\xa8O\\xddDU\\xa1\\xd0\\xdf\\x86\\xeb\\xe7V\\xden\\xe9s/Y4\\x82\\x17\\x85\\xce(\\xc3\\x92\\x88<\\xa1\\x80{\\xfb\\x17\\x0f\\x94\\x1fr1^\\x82\\xe8\\x8d\\x01c\\xd0\\xf6\\x86l\\xfaF\\xd8\\xcd\\xb6\\x03|\\xecleKWb\\xb5\\xa8\\xf2\\xb5\\x1f\\xf1\\x13Y\\xd5\\x15\\xa2#\\x81\\x99\\x9f\\x85\\xa7MDe\\x18\\xe46\\x1e\\xe5P\\xdd\\x0e\\xf8@\\xb5\\xe9I\\xd0\\xef\\x9a\\xfd\\xe6o\\xf7\\x96T\\x1cf\"\\x13\\xfd\\xd22\\xfd\\x15\\x83\\xcb\\xaa\\x1e\\x85@$g\\xe9$\\x03[\\n+)i\\xb1\\xb3\\x83\\xeb\\x9e\\xf5\\xd1\\x8b\\r,\\xa4)\\xd5\\x01\\x8e\\xe2\\xa2=@\\xea\\xde\\x9c\\xe9\\xcd\\xad\\xc9\\x97\\xeb\\x8bQ[\\xe7bs\\x95\\xb8}\\x92\\x9e\\xe6\\xb3F9\\x1d\\x89\\xe6\\xe5\\\\\\x90\\xb1\\xa3\\x04b\\xc1M.s\\xda\\x86\\xc9[\\x8e%\\x01#$\\x93\\xda\\xa8G~$\\xa6\\xc9\\xd6\\x17\\x0b\\x1e\\x86\\xd1w\\xadn\\xd5\\xb5\\x01S\\x1d\\xb3$8Z\\x07<\\xfb\\x1c\\x90@\\x19\\x04\\xe0\\xe3\\xb5e.\\xae\\xfcT\\xdeu\\xeb\\xcfB\\xb2\\xa5p\\xac\\xc4\\x90\\x1aK\\x85%\\xd1\\xee\\xe2\\x87\\'\\xfc\\xa9\\xc0\\xfb\\x9ag\\xe8\\x1f]\\xc7M\\xb5J\\xd1\\xaaY[\\xba^\\xea\\xe3b\\xe0\\x98\\x8a[e\\xa5\\x03\\x84\\xbe\\xa4$\\xff\\x00\\x14$\\x12\\nO8\\'\\x1c\\xf0o2\\x99\\xd6\\xc4\\xe0\\xa8\\xbeF\\xe9|\\xd6\\x8f\\xf8\\x9b\\xeb%\\x9b[\\xfc>Fb\\xda\\xa5\\xa2\\xe5s\\xbf1\\x16M\\xbak%\\x99p\\x16\\xc0S\\xce!\\xd6\\x8f)P\\xda\\x91\\xecB\\xf8&\\xb2\\xbfLz\\xc1\\xac:Ir\\\\\\xbd\\x0ft\\\\vV\\xe6\\xf9\\x96\\xc7\\xd2^\\x89\\'\\xb7.3\\x9c\\x12B@\\xde\\x82\\x95\\x81\\xd9^\\x95\\xa5>=.\\xb0\\xae\\xd1zR\\xfd\\xa9\\xc8\\x92\\x9b\\x9a\\xc5\\xc2R%\\xb3\\xb5e\\xc6\\xb0\\xc0h\\xa5c\\xba\\x08qD~\\xd5\\x90\\xa2BrZ\\xd2\\xb6RwdaC\\x82=\\xff\\x005~\\x06\\x8c\\x00,\\xf9I\\xc4]\\xa2\\xf4\\xfb\\xa3\\x9dn\\xb1u\\x9e\\xc6\\xb9\\xb6\\xa4~\\x9fy\\x88\\x91\\xfa\\x8d\\xa9n\\x85\\xad\\x9c\\xf6q\\n\\xe3\\xc4h\\x9e\\x02\\xf00xP\\x06\\xad\\x88\\xc4\\xb8\\x8d\\xd8\\x18\\xc5yO\\xa3\\xeew\\x1d-t\\x87{\\xb1J]\\xb2\\xf5mwsR\\x99\\x18Z\\x0f\\xf3!i\\xfa\\\\ic\\x82\\x0f\\xa1\\xc1\\xe3\\x04z-\\xd1N\\xab\\xda\\xba\\xb3\\xa7\\xdc\\x93\\x13l;\\xcc=\\xa8\\xba[\\xb7d\\xb0\\xb28Zs\\xca\\x9aV\\tJ\\xbf)<\\x83Uf\\xa41\\xbb\\x13t>\\xcahj\\x84\\x8d\\xc0\\xedG\\xba\\x9f\\xc8s\\xc3\\x1c\\xe0TCV\\xdd\\xe2Y\\xe3=s\\xba:\\xb6 \\xdb\\xa1\\xb9*C\\xa8en\\x96\\xdb\\x07\\xcc\\xad\\x88\\x05G\\x00g\\x80N?\\x15\\xf1\\xea\\x87P\\xec\\x9d2\\xb0\\xae\\xf5\\xa9\\x9fPl\\xaf\\xc3\\x8b\\x11\\xac\\x17\\xa6;\\x8c\\xf8h\\x07\\x8e\\xdc\\x95\\x1e\\x129>\\x99\\x87t\\x8f]\\\\z\\x83\\xa4c\\xea\\xbdD\\x18\\xb7\\xc9\\xb9]$\\xc7\\x80\\xc3\\tRR\\xd3HYKh\\n\\xfa\\x94r\\x85\\x92\\xb5`\\x92}8H\\xa2\\xf8\\xde[\\x8c\\xe9\\xa2\\xb6d`!\\x83U3\\xb7\\xbc\\xe3\\xad\\xa6E\\xb6@\\x99\\xf3\\x1b\\x1deG)J\\x9bQ\\n\\x1bJFO\\x95D\\x8c\\x8c\\x9e3\\xefLZ\\xfabmzr\\xe6\\xa8Q\\x94\\xf4\\xe4\\x1f\\x1a\\x04v\\xd22\\xb9\\x8f:\\x86\\x90\\xb0U\\x9d\\xa1+p,\\xf6\\x1cW\\xd0\\xcc\\x8f\\xa9\\x91>\\xc7sb\\xe3\\x15\\xf7\\xdaq\\x99\\x9f.\\xf2\\xd2[>\\xaaD\\x94`\\xa0\\xe7\\xe9V\\x01>\\xde\\x95D\\xf5\\xbf\\xa87K\\x07]z{\\xa6m0\\x1c\\xd4\\x8cI\\xb2?\\x1a\\xe5k{s\\xc6s\\x12\\x96ZPY\\x04\\x12\\xb0\\x96\\x02\\xf7pr\\t\\xf55\\xcff\\xe2\\xe0\\xc7\\x0f\\xd5\\xae\\xbb\\x9cK\\x0b\\xac\\xf1b-o\\xb7\\x8a\\xd0]\\x02hF\\xe8\\x9e\\x87m\\x12L\\xc4\\xa2\\xd8\\x12\\x87\\xd5\\x8c\\xad\\x1b\\xd5\\xb4\\xff\\x00LWw_4\\x95[_\\xdf\\xfc\\xc8P?\\xd2\\xba}\\x13\\x93gg@\\xc3\\xd3\\xf6\\x07\\x1c\\xff\\x00\\xdbJr\\xd6\\xfb/g\\xc4B\\x9bY\\xc1\\xc9\\x03rJJHP\\xe0\\x82+\\x9fQ\\xa4\\xf8\\x16\\xa7On\\t \\xfe*)\\x1dv\\xa9\\xe9\\xc1\\x12/3n\\xda1\\xadK\\x1bQ=\\xa7\\xae\\xad\\xc8\\xbf\\xd8]\\x7f\\xe7lR\\x12\\x1bu\\xc8\\x8d\\x92|x\\x8a\\xec\\xe6\\xd4\\x82V\\xdf\\nH\\x05Cp\\xce*\\xb5mZZ\\x00\\x04`+*Q\\xe0\\xe4\\xf1R\\x8b\\xb4\\x99)\\xeaT\\xd9v\\xc2D\\xa4\\xde\\x8a\\xd9\\xdb\\xc1\\xdd\\xe2\\x0c\\x01\\xf9\\xed]\\rkgoO\\xebMIh\\x8e\\xa48\\xcd\\xbe\\xeb**\\x14\\xd8\\xc2JP\\xea\\x921\\xfd+\\xd0\\xc2,\\xc6\\x8eK2\\xad\\xd8\\xa7y:\\xdc\\xa6,~\\x0f\\xe2\\x8fJ1KS\\xaak\\x8e)\\rr\\xef\\\\{\\x9cdg\\xbf|P\\x84~\\xd4\\x94\\xf7`\\xd2\\x1a\\x8bU\\x95\\r/`\\xba\\xde\\xf6\\xabj\\xbeF\\x0b\\x8f\\x84\\x9f\\xb9H ~\\xf4\\xf7~\\xe9.\\xb0\\xd3V7\\xafW\\x8bSl\\xc1\\x8eY\\xf9\\x9f\\x0e|w\\x9e\\x8c\\x1dR\\x92\\xda\\x9de\\xb7\\x14\\xe3iR\\x90\\xa4\\x85- g\\x03\\xb9\\x19W\\x1a.n\\x14&\\x8cW%$\\xa4$\\xe4\\x10\\xa1\\x9e\\x0fo\\xb1\\xa1\\r\\xa9\\xdd\\xc1\\x03;RTy\\x03\\x00w\\xae\\x93\\\\qE\\x1f\\x9a)!--\\x14TjTQ\\x9c\\x8a(\\x14\\xd0\\xb9%*R\\x82P\\x92\\xb5(\\x80\\x94\\xa4d\\x92{\\x00+atG\\xe15\\x98\\xab\\x89~\\xeb+\\x048Hv-\\x81J\\xe0\\x0e\\xe1RH\\xf5\\xf5\\xf0\\x87\\xfcG\\xbaj\\xaa\\xf8K\\xb1\\xc5\\xbdu\\xba\\xcc\\xfd\\xc1\\xb6\\xdd\\x8fha\\xeb\\x86\\xd7\\x10\\x14\\x9f\\x11)\\xd8\\xd1\\xc1\\xf5\\x0e8\\x85\\x0f\\xbaEz\\x0c\\xdbbJ\\xd4\\xd3\\xa0\\xac\\x15\\x1eI\\xcf\\x7f\\xbdd\\xd7\\xcf$`1\\x99]k\\xd0A\\x1b\\xce7\\xf9)\\x05\\xb6\\x13r\\x10\\xd31\\xfc\\x16\"\\xb4\\x90\\x86\\xdao\\t\\tH\\x1c%)\\x1d\\x86=\\x05p\\x9f\\xaa\\xadZ~<\\x99\\x13%1\\x1a<t\\xe5\\xc7\\\\XJR\\x07\\xb95\\x1dv:\\xed/\\x03\\xc3\\x8d+\\xb0=\\xeb\\x0e\\xeb=\\r\\xd5>\\xa2k\\rC\\xa6\\xec\\xa9\\x95q\\xb1Yn\\x8a\\x8e$H\\x96\\x86\\x19\\x1e!.6\\x14\\xb5\\xa8o^\\xc5\\xa7\\x81\\xb9X\\xc5e\\xd3\\xb4<\\x9b\\x90-\\xa9+J\\xa8\\x88\\x9brn\\x0e\\x9e*\\xd8\\xea\\xd7\\xc6\\x94XbE\\xb7\\xa7\\xad\\xfe\\xa3$yL\\xc5\\x82\\x19A\\xf7\\x03\\xb9\\xff\\x00\\xbe\\xf5\\x8d\\xb5N\\xad\\xbd\\xeb[\\xa3\\x97-Qpz\\xe1)g\\xff\\x00\\xb1^T\\x8f`;\\x01W\\x9c\\x7f\\x83\\xadH\\xdbN9t\\xd5zj+-\\x10\\x1d[?2\\xf2\\x1a\\xce1\\xb9e\\xa4\\xa7\\xd7\\xd0\\x9a\\xea\\xdc>\\x0f\\xf5\\xb0\\x82\\xa9\\xbar\\xe5e\\xbf6\\x12\\xa2\\x1amOEqd\\x120\\x92\\xf3a\\x07\\xb7}\\xfe\\xb5\\xad\\x15E\\x14g\\x0bei>!bJ\\xda\\x87\\x8b\\x98\\xc8\\x1e\\x05g\\xe1KR\\x1b\\xe6\\x88\\xbc\\xe9+\\xca\\xad:\\xd63\\xbabRB\\x8en1\\xdd\\xd8\\xa0\\x0e2\\x956\\x95o\\x04\\xf1\\xb99\\x1fz\\xebL\\xd3\\x92\\xe3DrlW\"\\xdd 4\\x01rD\\x07\\xc3\\xc1\\xb0{\\x15\\xa3\\x01\\xc6\\xc6x\\xca\\xd2\\x05j\\x81|\\xd6y!9B\\xbf^u\\x14\\x1b\\x1d\\x86t\\xd5\\xc9\\x83g\\xf1Z\\xb76\\xb1\\xff\\x00\\xc7m\\xe5\\xa5n$\\x1e\\xfbw\\x0c\\x81\\xe9\\x93St\\x14ZY,\\xb6\\x84\\xa9\\x01^b\\xa5\\x84\\x1f\\xeb\\xefF\\x96\\xe8\\xd6\\xbe\\xb4J\\xd2\\x17Ei\\xc7\\xdfgP\\x87\\xdca\\x9eR\\xb6Y@N]\\x7f#kI!aI\\xdcr@\\xed\\xc8\\x07I\\xe9\\xde\\x85\\xabO\\xab\\xe7e\\xd9\\x11\\xa9n\\xa7\\x0e)\\xc9\\xeaKQ\\xe2\\xf1\\xb8x,/;\\xd7\\x81\\xf5\\xaf$s\\x84\\xa7\\x8a\\xabU]O\\xb3\\xd9yN{\\x86\\xf3\\xd7\\x12\\xb8\\x82\\t6\\x8b\\xfe\\x89\\xbbx\\xdf!l\\xb5\\xe8\\xac\\xdd\\x11\\xe5\\xbe\\x83:2$?\\r \\xa1\\xc5*:\\xc6\\xd1\\xed\\xe2\\x81\\xb5C\\xecN}\\xaaW\\xa0\\xf5\\x85\\xc3C\\xea;v\\xa9\\xd2\\xcf\\x84\\xcb\\x87\\x9d\\xe9\\xceR\\xf3*#\\xc4e`}m\\xa8\\x0eS\\xdc\\x10\\x95\\'\\x05\"\\xb4\\xf5\\xb6\\xd9\\xac\\xe38\\x1e\\x90\\xd7\\x82\\xa0\\xf2\\x88y\\xfb\\xcb\\xcai)H\\t\\xda\\x96\\xc2\\xf6\\xfdg\\xdb\\x1cz\\xf6\\xaa\\xab\\xad}6\\xb8\\xc5\\xd3\\x92\\xb5\\xcb1-\\x90/\\xd6\\xf7\\x10\\xe5\\xea%\\xb0\\x84523\\x8el\\xf9\\x90\\xda@\\x08u\\nR\\x02\\x8aF\\x16\\x95\\xee8RNs\\xa8\\xb6\\xfd=\\\\\\xbd\\x8b\\x9b\\x84\\x9d.A\\xbf\\xf8\\xafU\\xeci\\xa9\\xa3\\xed\\x1a\\xe0\\xebp\\xd7\\xf2\\xa9N\\xad\\xf5\\x0bTk}d\\xe5\\xff\\x00Z\\xc8C\\xc9q\\'\\xf4\\xd40O\\xcaGc9\\r\\xb4\\x0flpU\\x9f2\\x8f\\'#\\x15\\xb1\\xba;jD\\x8e\\x83t\\xfd\\xb9\\x93\\x15nc\\xe4M\\xc1\\xf7\\xbc\\xa4\\xf9\\xdey`\\xee$\\x04\\xf2\\xa0\\xac\\xfd\\xb1\\xc7q\\x89\\xcc\\x99\\xab\\x8e\"\\xcf\\xb0\\\\n\\x10\\xa6\\xf2\\x88\\xe61\\x1e)\\xc9\\x01M\\x91\\xc1X9\\xc1O$\\x82;\\xd6\\xe3\\xe9\\xb8\\x9d\\x1fAt\\xde<e\\xb0\\x8bc:y\\x96\\xee0\\xa6E%\\xd7\\x12\\xa6\\x01oi\\xce\\x12R\\xbc\\xefJ\\x81\\n\\n=\\x88\\x15\\xa5^Lq\\xb4\\xb7,\\xfe\\xc5V\\xd9\\xf2\\xbd\\x93\\xf6\\x8d6p\\xde\\xbb\\xd6y\\x97\\xf8q\\xae\\xb2Z\\x9f\\x16T\\t\\x974\\xb4\\xdc\\xc7\\x13\\xbaCj^\\xd4\\x05\\x1c\\xe18\\xca\\x81H\\xc2\\xb9<\\xe7 \\x0c\\xf7\\xaeu\\x8f\\xcc|Mu\"\\x05\\xbelx\\x97UX\\x9b\\xb1Y\\xa4<\\xeaZ\\xde\\xebB;\\x8f\\xc6C\\x8a\\xc2[u\\xe4\\xa5\\xf6\\x90\\xa2FT\\xa0\\x8c\\x8d\\xf5\\xab\\xad\\x86\\xd4\\xcd\\xed\\xe8\\xcdHa\\x97\\x96\\xdbR\\xa5A\\x0e#\\x08or\\x80\\x7f\\xc2\\xc6S\\x92\\x85\\r\\xdd\\x89G\\xb8\\xaf*5^\\xa2N\\xaa\\xd5\\xba\\x82\\xfc\\xf2J\\x91w\\xbaI\\x9a\\xb0\\xe2\\xf6\\xf0\\xe3\\xaaPN\\x7f\\x04UH\\x9c\\xda\\x89\\t\\x02\\xc3\\xfd\\xe3\\xe9\\xe9\\xc1k\\xed:\\x96L\\xe0\\xe66\\xd9\\xf9\\x9f\\x1f\\r\\xdb\\xadk\\x01\\xa2\\xf5\\x7f\\xa2M4\\xad\\tg\\x90\\xd4\\x94\\xcb.Ai%\\xd0\\x82\\x82\\xac\\r\\x80\\x94\\xa8\\x05%[\\x1ah\\x14\\x91\\x94\\x94\\x91\\xe9I\\xd5t\\x11a\\x96\\xb4\\x02J[$c\\xf1U\\xff\\x00\\xc2\\xe6\\xab\\x91#\\xa3zv\\xfb\\xaa\\xae\\xb0![\\x9ce\\xf6R\\xf4\\x85\\x88\\xe8i-Hq\\xb4\\xb4\\xa5\\xb8\\xaf\\xe2\\x10\\x90\\x95\\x05\\x93\\xbb\\xcc\\xa0\\xac\\xe1&\\xa4z\\xf3\\xa9:b\\xedf\\x98,\\xae]/\\xad\\xb6\\xda\\x94\\xeb\\xd6\\xab[\\xaf\\xb4\\xdaG\\x05Jq[Q\\xb7>\\xa0\\x9a\\xa74O7\\x00f\\x8ayX\\xc7\\x02NK\\xcc\\xbbt\\xc9Mu\\x064\\x8bl\\x17\\xe6]\\x1a\\xbb\\x15\\xc6f+*q\\xc7\\x9eJ\\x89l%\\xb1\\xf5+~\\xdf\\xce\\x05Y\\x1dJ\\xf8T\\xea\\x0fNtD\\x1de\\xa8U\\x0ey\\x94\\xe07\\x18q\\x9eS\\xd2a-g\\x82\\xe1\\xc6\\x17\\xc9\\tQA8Q\\xf5\\x1c\\xd5\\xbd\\xa14\\x05\\xdb\\xa6W\\xc9\\x1a\\xdb\\xa7\\xd6\\xcb\\x8b\\xd7\\x19A\\xc6\\x11r\\xba\\xa9\\xa1\\x15>*\\xbc\\xcd\\x88\\xe0!eY\\x18!*R\\xbd\\x85[\\xfdS\\x81\\xaft\\xed\\x96\\x1e\\xab\\xd5:\\x81w\\xdbtf\\x15\\xf3Q\\xf4\\xbcg#0\\xc2V\\x95eD\\x15\\xb8V\\x9e\\xc08\\xa4\\x9epH\\x02\\xb4\\xc4\\x8ehhj\\xa7.\\t\\x1e\\xe7\\x93|\\xce\\x8b\\x0bi^\\x80u\\x0fW\\xccn-\\xbfN\\xbb\\x05\\xc5\\xb4\\xe3\\xa3\\xf5G\\xdb\\x82J\\x10\\x9d\\xcaPK\\xa4,\\x8cz\\x84\\xe3\\x9fnji\\xa5\\xfa-\\xa6\\xad\\x91\\x7fR\\xd4\\xda\\x86\\xd5\\xaadm%\\xbbt\\x19rbDo \\x10\\xb7\\xe4\\xf8\\x05\\xc5\\xe3\\x91\\xe1\\xb2\\x8eN\\x0f\\x88\\x91\\xc1\\xbf\\xbax\\xfb\\xd1\\xf5-\\xcbT\\xbb\\xa5o\\x1a\\x13J\\xff\\x00f\\xa6\\xc5b\\xe5\\xab\\xeemE\\x12f:\\x84\\x86\\xf0\\xa7Cx\\xdd\\xcf)\\xca}}k9\\xeb-\\x13r\\xfd\\x1a\\x15\\xdc\\xe8\\xd9\\xf7\\x88\\xe1\\x08M\\xcd\\xf8\\x174\\\\m\\xecIZ\\xce\\xd4\\xb2a\\xbe\\xb4\\xb4\\xd6\\xdc\\x00\\x95d\\xee\\xe0`\\x10\\x911\\xed\\x1c-{*W`\\xcdJz\\x83\\x1f\\xa4Z?S)\\xbd#\\x1fC\\xcb\\xb0*32b\\xbb!\\xdb\\x95\\xdahZ\\x93\\xe6C\\x88D\\x94\\xb2\\x95\\x02\\x0f\\x95@\\x11\\xc6Ew\\xad\\xfa\\xfe\\x1c\\xbd\\t<\\xf4\\xf7I\\xcacR\\xc5\\x94\\xd0E\\xe2\\xcd\\xa3#[\\x90\\xec%\\x82\\x08[\\xc1/\\x86\\x92\\x823\\xbdGr\\xf7\\x0c\\x9f/\\x0c\\xbdH\\xe8\\xae\\xa1M\\xf2\\x05\\x9b\\xa6\\xda\\x0e\\xf5\\xaats\\x10\\x91*\\xd79q%\\xa1\\x1bd\\x7f\\x15A\\xc5nJ\\x12\\xe8\\xcaP\\xb1\\xe5 \\xa3\\x04\\x0cS\\xcb\\xda\\x03PB\\xe9\\x847\\xeew\\x18\\x9ao[\\xdb\\xae\\xa9\\x8e\\xc5\\xb2\\xe7\\xac\\x92\\xc4s\\x07jT\\xdb\\x89\\xf1&\\x84\\xb6ZX_\\x97\\x92w\\x0c\\'\\x8c\\x98\\xaf\\x90\\x0e$\\xdf\\xc0|~\\x97D\\x82N\\x0bi\\xcc\\xf5\\xe8\\x9a\\x9e\\xea\\x8e\\xba\\xe9\\xa5\\xfbOj[\\xcc\\x8b\\x8e\\xb4\\xd32b%\\x0bE\\xd2\\xfb!\\xe6\\xe4!\\xe6\\x14\\x87\\xa3\\xee\\x0e\\x96\\xc0\\x1b\\x96\\x12\\xe2[\\x00\\xe0(\\x0fJ\\xae,\\x97+u\\x9b\\xfb<\\xd6\\x84\\x8f>\\xff\\x00|\\xbf4\\xecmIn\\xb8\\xc4\\r[\\xe5\\xa1\\xe7\\x10\\x1b\\x84\\x84\\xa5[\\xce\\x16\\x9c\\x87B\\x92\\xa0\\xa2\\xda\\x91\\xb1H\\x04Z\\x9a[N7w\\xd7\\xae\\xde:\\xcd+\\xa7\\xd3-\\xd2\\xed\\xafC\\x91.\\xdf\\xaa\\xed\\xeeHm\\xcf\\x0c\\xa1\\xa9\\t@\\x94\\x02\\x9c\\xdc\\x90\\xa2Op\\xb5\\x15\\x02r*7k\\x90\\xe7K\\xed\\xbf\\xdb-G~\\xd3Z\\x8bRYYn\\xdf\\xa2\\xed\\xd0np\\xeeb\\x13\\xae-n\\x19n%\\xa2F\\x18\\x19(\\xde\\x08\\xf1V\\x83\\x8c#\\x15;\\x0bZ\\xe2\\x08\\xcf\\xd7\\xee\\xa2!\\xe4\\x06\\xdf\\xec\\xa9\\x19\\x11\\\\L\\xb9\\x0c>\\x97-\\xcc6\\xfa\\x8a\\xe3\\xbd\\x92\\xe3\\x07v\\xd5$\\xa4\\xe0\\x95\\'\\x1by\\xc7nq\\xcd-\\xc2\\xe5\\x1eL\\x18\\x90a[\\xa3\\xc5f+\\x8e8\\x1f)\\n\\x90\\xf1^\\xd1\\xfcE\\xfa\\x80\\x120\\x91\\xc0%Dw\\xae\\xb4\\xc9\\xb2n2^\\x93=\\xf5\\xc9\\x92\\xf3\\x8bu\\xd7\\x9dQ[\\x8e-d\\xa9JR\\x8f$\\x92I$\\xfa\\x9a\\xeb\\xd4\\xe1\\x16\\t(\\xa5\\xa2\\x9aw)q\\xee1G\\xe2\\x85\\x15+\\x1b\\x8fn\\xd4TJdQ\\xc7\\xefE.8\\xa6\\xb9O\\xba;W\\xdc\\xf46\\xa2\\x87|\\xb0\\xba[\\x95\\x19^dg\\ty\\xb2F\\xe6\\xd5\\xee\\x08\\x1f\\xb1\\xc1\\x1c\\x81^\\x91\\xe8\\r}\\x0bXX`^\\xac\\xee\\x07 \\xceF\\xe4g\\xeam\\xc0<\\xcd+\\xd9I<\\x1f~\\xe3\\x82+\\xccH\\xb1_\\x9d)\\x88\\x90\\x99rL\\xa9\\x0e%\\xa6YlnS\\x8bQ\\xc2R\\x91\\xeaI \\x01^\\x81t\\x83\\xa3\\x13zi\\xa4\\xdb\\x82\\xcc\\xbf\\x9e\\xd4\\x12\\x9cL\\x8b\\x8cd=\\x96\\xbcR0\\x1aI\\xce\\xd6\\xca@ 8NT\\xa1\\xcf\\x97\\x18\\xcc\\xaf\\x96\\x18\\x98;Ck\\xe4:\\xe4\\xb4h\\x8b\\xcb\\x8bF\\x9d|\\xad\\x00\\xebH\\xb9\\xdb\\x01\\x07.\\x01\\xce=*\\x8c\\xfd:M\\x93\\xac\\xcf\\xc4\\x8a\\xca]kX\\xc1ahi\\xc5\\xecB\\xe7BX\\xdc\\x14\\xaf@c-J\\xe3\\x93\\xe1\\xe3\\xd2\\xa43\\xb5\\xc6\\xa6\\xb6\\xc0jV\\x8d\\xb5[\\xee\\xed\\xc7S\\xab\\xb9\\xb7q\\x94b\\xa9\\x08o\\xeb@\\'\\x01\\x0bN\\x0eA\\xcf\\xa6\\x01\\xcdG5\\x07P\\xd3\\xafe!:R\\xce\\xe5\\xba\\xe9f\\x96\\xcc\\x98\\x93\\xa4NB\\x1dnj\\x12\\x14\\xa46\\xd8I\\xde0\\xe1o\\xb1\\xf1\\x02\\xc8\\t\\xe4V\\x14\\xf4\\xc6F\\x96\\x8d\\x0fC\\xecV\\xecs4w]\\xe4\\xac\\x996\\xe8\\x16T\\xa5\\x1a\\x85\\xe6\\\\\\x91:B\\x11\\x12;x\\xdcQ\\xe2\\x04\\xe1\\xb6\\xb9\\xc0\\xe1^u{\\xf7\\xae\\x17\\xdb\\x9a\\xdb\\xb1HD\\xc9k\\xb4!(R\\x99CO\\xa5.\\x95$\\xa8\\'+\\x1c\\x92H\\x1c\\'\\x1d\\xf1Q\\xe6e\\xbc\\x1fu\\xc4[$Y\\x9cx\\xa5\\xc7\\x11pm\\x7f0\\xd8H\\xc8\\x04\\xb9\\x82\\xac)Y\\xceJ~\\xd5\\x1f~\\xf1i\\x87*S\\xb3.\\xd0\\xe4\\xae:\\x9aq\\x11\\xdaA\\x93)\\xf5\\xf8\\x89\\xc8QI \\xa8\\xee\\xdd\\x80\\x90\\x06\\x05y\\x07\\x1c.,\\xb6cU\\xaa\\xc8\\xcb\\x80v\\xe4\\xfb\\xb6L\\xd82\\xe2\\x8b=\\xbaD)\\x0bJ\\xdcn\\xf9\\x18H\\x8e\\xe2\\x89%EQ\\x94\\x14U\\xf4\\x90\\x0f\\x97\\xb7qP\\xdb?\\xc3\\xd7L4\\xdd\\xc9z\\x81\\xbbc\\xc2dV\\n\\x1a\\x8c\\xfd\\xc1b\\x0e\\xe5$\\xe5\\xd4\\xa1G\\xc5\\xdc9\\x00)\\xd2\\x00=\\xb23Nw\\x9b\\xe6\\xa4\\x0eNM\\xb6\\xca\\x8bd@\\xfb\\xcd\\xb72\\xed!--JI \\x1f\\x0cd\\xe3*\\x07\\xb7<\\xd3\\r\\xb7N5\\xa9n\\x0e[/W\\x9b\\xa5\\xf6l\\xe9\\x08l\\xc7\\x82\\xcf\\xcb\\xb6\\xe2[k\\xc5RPTw\\xab\\x95\\xff\\x00.\\t\\xd9\\xda\\xafR\\xd6\\xd6\\xc4\\x04p\\xbc\\x81\\xb8\\x0e\\xf1\\xf2\\xd6\\xde\\xca\\xb5E\\r$\\xc0\\xc9;G3\\xa7\\xad\\x94\\xfa\\xe7\\xd5\\xad6\\xcbq\\xa0;sr\\\\\\xcd\\xc8J\\x18l\\xad\\xf7\\x1e@N1\\xc0\\xca\\x8a\\x88\\x1c\\xf2O\\xa9\\xa6\\xe5k\\r_r\\xf9G\\xadVI6\\xf8\\x1f\\xa96V\\xf4\\xf0R\\xb7\\x1a(\\xdaV\\x86\\xf3\\x95}I\\xe3\\x038\\xfcTn=\\xd3N\\xe9\\t\\xc2,+\\x9e\\x88\\xd37\\x86\\x16\\xd2S\\x10\\xdeX2\\x0b\\xa8\\xf2\\x90\\xe2\\xb7\\x10\\x85\\x1exY\\x07\\x9e@5 \\xbe\\xb7>3\\x8d\\xa3S\\xea\\x89\\xd6F\\x1by\\x08}\\xb56\\x88\\xcb+\\xf0\\xf2B\\x06\\xdd\\xea\\x1c\\x8c\\x14\\x82{\\x8fJ\\xeaZJ\\xb2\\xee\\xd2F\\x97\\x13\\xbc\\x9cD\\xf9\\x0f\\x9c\\xc6\\x99\\xa8\\xe0\\x9e\\x85\\x8d\\x11BCZ7Z\\xc0{[\\xcb\\xc5|\\x9c\\xd2W\\x1dAoR5\\x1d\\xf2Z\\x94\\xd3\\x9b\\xc2[Z\\x92\\x94!No8\\x05@\\x0c$\\x04\\xfa\\xf2>\\xf5\\xf4\\x87k\\xd2\\xf2\\\\\\xbe\\xd9`\\xcfnL\\xbb\\xa5\\xa2\\xe5\\x17\\xc3\\x8e\\x84+\\xf8&\\x1a\\xfb\\x91\\xdb\\nh\\x11\\x93\\xf5Sm\\xe9\\x9b]\\x8e \\xb9\\xbdi\\xbb\\xce\\x8a.-\\xc4[\\x92\\x94Z\\x0b}iN\\xc6\\xd4\\x87\\x0f\\x89\\x8d\\xa0\\xac+\\xc0\\xc2\\xb2p\\xa3L\\xca\\xea\\x04\\x88\\x8c\\xcc]\\x90Z\\xedr\\xcb\\x0e\\x143\\n\\t\\x98\\xfa\\xd4TX)\\xf3\\x02\\x12\\xad\\xa4\\x92\\x9f\\x00}A9\\x06\\xad\\xd1\\xec\\xca\\xc13$sp\\x80A\\xcf-\\xfc3?\\n\\x1a\\xbd\\xa1La{\\x1a\\xeb\\x92\\r\\xad\\xc7\\xe3\\xd1gX\\xdaj\\xfd=kj\\xdbn\\xb8j\\x18\\xa9\\x88\\x99\\x9e-\\xbe3\\x92\\x9b\\xf0\\x88\\xda\\x95\\xabnKx8\\x1c\\xe0\\xa4\\xa7\\xd95\\xad\\xf4\\xae\\xa9\\xb3i\\x9d\\x1b\\xa7\\x1b\\xbdNa\\xa1o\\xb0\\xc0D\\x88\\x05\\xa5=!\\x89(m\\x1fZ\\x1b\\xdc[VB\\x86\\x14F\\x0f\\'\\x15\\x03\\xbe\\xd9\\xed\\x96\\xa83\\xed\\xd7\\xedP\\xdd\\x9e5\\xb1\\x84\\xfc\\xccE8\\xcf\\x946\\x9e\\xe8\\x8e\\x85-\\x08R\\x94\\n@)B\\x89W\\xf5a\\x95v\\x8f\\xa9Sw\\x81\\xd2\\x8d\\x1f{\\xd6wv]n\\x1b\\x93\\x1d\\xb7-\\xd6c+q;\\xb3\\xb9IJ\\x82B\\x80Y-\\x84\\x12\\x08\\xe3\\x15\\xee\\x84\\x12\\xba6\\xb2M\\xcb\\xca>\\xaa\\x1e\\xdc\\xcd\\x18\\xd7\\xd3]U\\xadw\\xea,k\\x9c\\x99\\xd6\\xbb&\\x9d\\x91\"\\xf12#\\xb6\\xd6\\xa6\\xc8u\\xa8oxo\\x9c%\\x84)!D\\x9c\\xb9\\xc0S\\x89\\xf3\\xf3\\xb4f\\xaa[F\\x8b\\xd3Z6\\xf3\\x1e\\xd64\\xc4+m\\xe1\\x94\\xb8\\xa7\\xd0\\xa5\\xb3!\\xf0\\xb4o\\x01H[\\xebX^\\n0\\xbf\\t@$\\x1f\\xbd|u\\x9b\\xbf%w\\xbc^5\\xb6\\xb3\\xd3\\x9a:4\\xc7\\x9df#p\\xdcU\\xf2\\xee\\x1c\\x05\\nP_\\xcb\\xac\\xa5+\\xc69q\\xe4\\xf3\\x83\\x81\\x93PF\\xfa\\xab\\xa3\\xa0[\\x11o\\xd3Zr\\xf1\\xab\\x1b\\x87\\x97\\x92\\xf6\\xaa\\xb9\\x18\\xf1\\xd4\\xf2\\xbc\\xce(\\xc2\\x89\\x82\\xac\\xedNC\\x8f\\xa9<d\\x8c\\x92h\\x8e\\x9d\\xad\\xfe\\xa7U\\x0c\\x93\\xbd\\xda\\x85l\\\\\\xf5-\\x8e-\\xf7\\xe5W\\x02\\x05\\xee\\xe8-\\x0f\\x03\\x16\\xdd%\\xfb\\xc4\\x99o\\x90|&\\xd6\\xb6\\x8a\\xc3*\\xdc\\x9c$\\xa1(\\xc0;\\xb8\\xe0T\\xbbEZ\\xf5\\xa30\\xe4^W\\xa0\\xec\\xfa-l\\x8f\\x1d\\x99w\\xb9\\x85\\r\\xdaX\\n\\xca\\xdc1R\\\\u\\xd7\\x02J\\x8a<P\\xda\\x12p\\xa2\\r0|\\x1e\\xf5V\\xe7\\xacu~\\xa5\\xb0]\\xa1Zm0QnD\\xf8V\\xeb=\\xb1\\xab|v\\x80u(^R\\xd0\\x05\\xcc\\x87\\x12r\\xe1Y\\xe2\\xa7?\\x13\\x1dSE\\xe1\\xe1\\xd0\\xfd\\x0c\\xa6Q\\xa8\\xf5\\x12\\xa3B\\x93)R|\\x08\\xf0\\x8b\\xab\\xdc\\x1a^\\xc4\\x92J\\x92\\x91\\xb8\\x01\\x8c83\\x9e\\xd5\\xcb\\x9d\\x85\\xf8\\x18\\xdc\\xf8\\xa9\\x99\\t\\x90b{\\xb2\\xeb\\x8a\\xb9?@\\xd2\\x0fkG\\xf4\\xc4KLx\\xfa\\x96\\xd2#\\xeakC\\x8f\\xa8\\xa8>N\\xf6\\x8b\\xa0\\x92O\\x95yK\\x9e\\xde*\\x149\\xc6!}{\\xea)\\x85\\xa7,\\xc9\\xd0\\xba\\x9e\\xd6\\x89\\xd7k\\x92c?kM\\xc5\\xa6\\xdd{\\x1b\\x8a\\xc2\\x1e\\x07-\\x14\\xad\\x1bTx\\xdcN\\x01\\n#4.\\xa6\\xeb\\x85\\xfaU\\xe1\\x1aW\\xa9\\xb6\\xdb\\\\\\tV\\xdd=.\\xd36\\xe9\\r\\x97\\x115\\xa7v\\xa4x\\x8c\\xadDy\\x8b\\xac\\xa3\\xc8\\x9c%@\\x9c\\x9c\\x11\\x8c\\xb1\\xa9\\x15\"#\\xef\\xa9\\t/6\\xebjs\\xe6\\x17\\x100\\xa5r\\x06Jy\\xf5\\xe3\\xbe3P`/8V\\xac0\\xf6m\\x12\\xbfMt\\xbf\\\\S~\\xbd\\x93q\\x99\\xab\\xee\\xcb\\xbf\\xdc\\xdc\\xbc\\xceC\\xeaB\\xe4\\xbb9s>\\xfbC\\xab%J\\x038\\xc9>\\x94\\xd9f\\xbd\\xdc\\xf4\\xdc\\xf4\\\\4\\xe5\\xcam\\x9ez\\x12\\xa4\\xa2L\\x19\\x0b\\x8e\\xeaA\\x18#z\\x088#\\x83]\\x00008\\xa2\\xb5\\x00\\xb3lV#\\xc8{\\x8b\\x80\\xb5\\xd4\\x9a\\xe9{\\x97v\\xd3\\x887\\x16b\\xdc%*\\xe0^r\\xf1!\\xf5\\xaeyQl\\x03\\x1d[\\x9c9h}a[3\\xb8\\x9f7p\\x1b\\xf4\\xdd\\xe2]\\x8a\\xe2\\xe4\\xabj\\xe2!\\xf5E}\\xaf\\xef\\x8c\\xb6\\xe3E+mHX)ZJI(R\\x80\\xecA \\x82\\x08\\x14\\xd1\\x81\\xdf\\x03>\\xf4\\xa0\\xd1\\x85\\xb6\\xb5\\x92\\x0e \\xde\\xe5\\r\\xedIN\\xe0\\xa5$w\\x00\\xe0\\x9a}\\xd5\\xf7\\xf7\\xb5%\\xe8\\xce\\x99=\\xeb\\xa3\\xc2;\\x0c\\x19o\\xb5\\xe1\\xb8\\xe2[i(@RrFR\\x94\\x84g\\xd4$\\x1fZb\\xa4\\xae\\xac/u\\xca(\\xf4\\xa5\\xa4\\xa6\\x84QA\\xa2\\x84)n\\xb8\\xe9\\xde\\xa0\\xd0sKw\\xebs\\xf1\\xe3-d1$\\xe1M\\xb9\\xff\\x00\\x10\\xe0\\x1f\\xb5E1[\\x13P\\xde\\xd3\\xa9\\xad\\x92l\\xf7\\xa6\\xd3\"\\x1c\\x80R\\xa0\\xa1\\xcas\\xea>\\xe3\\xbdd\\xcb\\xf5\\x9d\\xed?x\\x99m\\x92J\\x97\\x1d\\xc2\\x94\\xaf\\x1fZ{\\xa5_\\xb8\\xc5S\\x13\\xc4\\xe9\\x8c,7!{_\\xf9\\x06\\xc4n\\xcf\\xc3Q\\x01\\xbcn6\\xff\\x00\\xc9\\xd6\\xde\\x04^\\xde\\x19\\xf3m\\xa0\\nSI\\x9c\\x02O8\\x19\\xab\\x0b\\xc7-1\\xf0\\x91\\xa0a\\xdc.\\xb7Mi\\x7fi\\xd5F\\xb6\\x83\\x12\\xd4\\x944V\\\\\\x96\\xad\\x81\\xc5\\x81\\xff\\x00\\xe6\\x87Q\\xdc\\xf0]I\\xf4\\xadI\\x7f\\xd6\\x89\\xb6\\xb2Wsy\\x16\\x06\\x93!\\x9d\\xf1ce\\xd9%$\\x10\\x11\\xe5\\x18G\\xaf\\xe3\\'\\xcdU\\x17Ol\\x1a\\x82\\xd1\\xd3\\x8d=\\xa7,\\x92\\x98\\xb2G\\xf9\\x14\\xcf\\xb9Kp\\xff\\x00\\x15\\xc2\\xf1K\\xce\\x81\\xfe\\x12\\x90\\x10\\x9c\\xf1\\xc2{\\xfa\\xd3\\xb2\\x91e\\xb3\\xbc\\xe9\\x0e\\xb7u\\x96TT\\xa2p\\xe0R\\xb7\\xa5I<pO9\\xcf\\x9b\\xd7\\x9a\\xf9\\xc6\\xd6\\xa9\\xed\\xea\\xddc\\x93r\\xf4\\xd7\\xd4\\xdd{-\\x9bJ\\x19N\\t\\xd5\\xd9\\xfa\\xe9\\xec\\x92\\xf7v\\x93q\\x0f\\xca\\xd2\\x8c&\\x1ce\\x940\\xe2R\\x03\\x8e\\\\c8\\x92\\xa0\\x97\\xdcp\\xed\\x0b\\tJ\\x80^\\xd5\\x14\\xe4\\x8c\\x91\\xe5\\xaf\\x8f\\xc3\\x05\\x87\\xf4\\x0b\\xf6\\xa9\\xbb\\xde\\x19\\xddp\\xb6\\xbc\\xb8\\x81\\xe9\\x0e\\x05\\xad\\x97_[\\x83v{\\x0c\\xb3\\x1d\\xb4n\\x1e\\x8a#\\xd4\\xd3p\\xb9]%\\x041\\x14\\xa1\\xa4\\xaa\\x0f\\x9dJ\\xc0(\\xe5\\xdd\\xc7\\x95yFq\\xc9)8\\xec)\\xb2\\xddx\\xb8\\xd9%?p\\xd3\\xda\\x86D\\xfb\\x9b\\x91\\x832#\\xbcS\\xfa[\\xec$\\x95\\x96\\xdc\\xdc\\x12VI+)u\\xb1\\xb9%G\\x04\\x8f-X\\xa1\\xad1\\xde9\\x0fw\\xe3\\xf0\\xbb\\xa9\\xa3\\xc5b\\xcdG\\xba\\xd7\\x97[5\\xb7T\\xc2\\r\\\\\\xe1\\xb5pl\\xf2[uDm\\xff\\x00)\\x1c\\x83\\xf85Rj\\r\\x11\\xa9lHq\\x9d\\x1a\\xeb\\xb3\\xad\\x90\\xdc\\xdf(.W\\x87*\"Tw\\xa0\\x95\\xa4$8\\xdf\\x97h\\'\\x90\\x90B\\xb3\\xc9\\xa9oE\\xb5dmuj[\\xd6\\xb9\\r\\t1\\x82I\\x8e\\xf3\\x81g\\x8ce\\n#\\xd5$\\x14\\x93\\xf6I\\xecj\\xc7Tf\\x93\\x7ff\\xf2\\xb4\\x96\\x98z\"\\xedw\\x88\\xab\\xf4\\x05[\\x9aY\\xc7\\xf8TV\\x92}R\\xee}+Zz\\x18\\xe6\\x05\\xb2\\x0c\\xfd\\xd5(\\xeb]\\x1d\\x8b3\\xf8Yz3\\x8f\\xbd\\xe2K\\t\\xb7)/\\xbe\\xea\\x94\\xe4d\\xaej\\x8e\\xf2\\x02\\x87\\x8c\\x9c5\\xdb\\x81\\x97\\x07\\'\\x15\\x1d\\xebn\\xb6\\x89\\xa4W;H\\xda\\x16\\xfb2\\xa7\\x01\\xfd\\xa5\\x96\\xf2\\x94\\xd2\\xd7\\x94\\x01\\xfar\\x14\\x97\\x19l4\\x90G\\x88\\x1b|\\x95\\xab \\xe4\\x0c\\x1b\\x17Ih=a\\xa2uTE\\xeb9\\x1f7i\\x83{\\x8f\\x16%\\xceT\\xb67J\\x8e\\xa9\\x08,\\xe4\\x04\\xa9{\\x82p\\x15\\x92\\x81\\xe5=\\xfb\\x9c\\x05r\\xd4\\xd7\\x81s\\x9e\\xf5\\xc9\\xf7!]\\\\\\x94\\xf2\\xe7)\\xb6\\x83O\\x17\\x8a\\xd4\\\\\\x0bZ@Y\\xf3\\x15}K?\\x8fJ{3g\\xb6\\'9\\xd6\\xcc|t\\x15=\\xa9V\\xe9\\x0b[\\xff\\x00]|\\xff\\x00\\n\\xc1j\\xfc\\xd5\\x9c,Dn=\\x99\\xa5\\xb4F\\xd4\\xa0E\\x0bN=\\xd3\\xe0-c\\xf2\\xb7\\xff\\x00z\\xb7 jg\\x13\\xd1\\xbd2\\xa9Iu\\xa4?v\\x90\\xc3kC~\\x02\\x1d\\x8c\\xda\\xa2\\xa5\\xae\\xe8h\\x10\\x0b\\xea@%\\xb5p\\x9cg\\x83V\\x87\\xc2\\x0fG#\\xe9\\xde\\x99\\xea\\r_\\xa9\\xad0\\xa5_o\\xcbm\\xa8\\x8dN\\x88\\x95\\xae4}\\xa0\\xa3\\x95$\\xa8)\\xc2\\xe8QO\\xa8K~\\xa3\\x87\\xbb\\xce\\xa21o\\x12e\\\\\\xa17>\\xef\\xf3j\\xf9\\x08\\xe9\\xb6\\xb76K)\\x05(\\tB\\x94\\x15\\xb7r\\x9bB\\xf8\\xc7=\\x88\\xabu\\x15\\xb0\\xd3<\\x17\\xe69q\\xd3/\\xf6\\xea\\x844\\xd3U\\x02\\xd8\\xf5\\xe7\\xc3\\xaeJ\\xa5\\xd3\\xab\\xea&\\xb1\\xb657JZ\\xa5\\xdd%\\xdc\\xd5\\x16;\\xf7\\tQ\\x89Jc\\xb6\\xe1R\\t\\x93\\'k\\x19\\xc9\\tHi;\\x80\\x1fq\\x9eZ\\xbbD\\xc3\\xd2\\x96\\x89\\x11\\xba\\xd7\\xad\\xec\\x16y\\xea`\\x15\\xd9\\xec\\x8bT\\xfb\\xbb\\x8a\\x04\\xa8%\\x1b\\xd6\\x19\\x8eW\\x9eTQ\\x8c\\xe7\\xcd\\x80\\x00\\x93\\xf5S\\xaawX\\xd774\\xcd\\x82\\xe0\\xed\\xbe\\xff\\x00\\x19\\xbd\\x97\\xab\\xd1\\x95\\xf3\\x0f\\xc6yI\\xf3@\\x8c\\xee|\\x9bs\\x87\\x1dG!G`)\\xdaMf;\\x8d\\x95\\xc8+y\\xb6\\xe3\\x98\\xce\\x95\\x9f\\x14(\\x9d\\xc4\\x9eIR\\xb9*>\\xbe\\xa7\\xdf\\xde\\xa5\\xfe{A\\xc3\\x86\\xce\\xe1\\xc3\\xc7\\x9fWI\\x9b5\\xe4bs\\xbb\\xbc\\xb7\\xf8r\\xe1\\xf0\\x9f\\x9b\\xd7\\xd0\\x8d\\xd8Yzg\\xd2\\x88\\x93oR\\xd4\\x94\\xb6\\xbdD\\xb5\\xded\\xac\\xa18C\\x89`\\x06\\xe3 \\x04\\xe4\\x92[X\\x19$\\x9c\\x0e;]O\\xb9\\xf5\"\\x12\\x84\\x0e\\xb1^d]T\\xbd\\xae3\\x0e$\\xc6\\xfeL$\\x80S\\x88\\xadmB2\\x0e\\xe0J\\x06\\xfc\\xe4\\x12*5\\xa4\\xb5L\\xdd\\x15-ra\\x86\\xa4\\x050\\xe3\\x01a\\xc5\\xb6Z\\n\\xc1\\xf2\\xa9\\';r\\x90H\\xe7\\xed\\xedQ\\xbds\\xad\\xef\\x7f4\\xdd\\x9e\\xe0\\xdb8\\xb7>\\xf3\\xf1\\xdd}\\xbf\\x12F\\xd9A.\\xa9+t\\xf2\\xe2B\\x94V\\x9d\\xc3 \\xb8\\xa3\\xc6H\\xa9D\\x8f\\xa9\\xee\\x8f<\\xfa\\xb2\\x9e\\x16EG/h\\xfd-a\\x96`\\xa8\\xe6\\xab\\x90\\xc4\\x89\\xcc\\x08\\xce1\\xe1\\xb7\\x1c\\x02\\x86\\x92G\\x86\\xad\\xca\\xcaO\\x03\\x9e\\x01\\xe3#\\x91\\xeb\\x9a\\xee\\xda!m\\xb7\\xb0\\xe1\\xc3j}\\xceAm@\\x94\\xe0\\x00A\\xeeA\\x1c\\xf1\\xdf8\\x02\\xa2Ad\\x12w\\x1d\\xc79\\'\\xb9\\xcd\\x05E\\x04)\\x1eR9\\x185\\xa7\\x1bDm\\r\\x0b&y\\x0c\\xd2\\x17\\x9d\\xea\\xf6\\xe9\\x0fR\\x13\\xd2\\x9dc#R.,\\x16\\xa4\\x1d39L!\\x97\\x8a\\x9b}\\xc5\\xe0\\xb0\\xd1N\\xe3\\xb4%\\xc4\\x80Q\\xc2\\x80\\x07<\\xf3U\\x84\\xab\\xcd\\xca\\xf1zv\\xef&\\\\\\x97\\xae\\xef\\xca\\xf9\\xc7%$\\x9f\\x10\\xc8*\\xdc\\\\\\x18\\xecwr1\\xda\\x99\\x1c\\x98$\\xb1\\x15\\x1e\\n\\x1a[\\tPR\\xd2\\xa5\\x12\\xea\\x89\\xc9Q\\xc9<\\xfaq\\x81\\xc7n\\xf9|\\xb1]\\xa2C\\x19\\x90\\xb0\\xd1O|\\xa3$\\xfe1\\xde\\xa3\\x91\\xbd\\xec@+t\\x81\\xaf\"7\\xba\\xc1k\\x9b\\xd7P\\xf4WV4\\x8b\\n\\xea-\\x9eM\\x93_=\\x11\\xb6\\xdc\\xb91\\x19I\\x8e\\x85\\xa1A)\\x9c\\xe2\\xc2\\xc8S(J\\x89u\\nA^\\x14@V\\x00#!j9\\xb3>aQ&Gv+\\xbe\\x1ba\\xe4:\\xde\\xd5\\x02\\x9f\\xe5\\x1cg\\x01Y\\xfe\\x98\\xe3\\x15d\\xf4\\x97\\xae\\xe9\\xe9\\x9fPS\\xa8\\x1d\\xb4\"\\xe3m\\xf9\\t\\x11\\x14\\xca\\xd9mn\\xe5i\\xf2\\xb8\\x92\\xae\\x12A\\xc6@#)\\xc8$\\xe6\\xa1=U\\xd7\\xae\\xf5/__u\"\\x84\\xb6#N\\x96\\xeb\\xb1\"\\xc9\\x92^1ZZ\\xd4\\xbf\\r\\'\\xb0N\\xe5\\xadX\\x00\\x0c\\xa8\\xd4\\x81\\xa1\\xc0\\x17j\\xa4\\x9eV\\xc4\\xf7GN\\xe2Y\\xfb\\xbd\\xb7\\xd8\\xa8u%-%t\\xa8\"\\x8a(\\xa6\\x92?z(\\xa2\\x84#\\x14P;QB\\x11\\x8a(\\xa2\\x84-K:\\xe5\\x14\\xcb(J\\x92\\x95\\x03\\xda\\xaa\\xde\\xb0[\\x82\\xff\\x00N\\xba\\xb6\\x91\\x92LwT=Gt\\xe7\\xfdE9L\\x96\\xa7\\xef.\\xbe\\xd9\\xfe\\x10)k\\x8fU\\x0e\\xff\\x00\\xf3\\xa7\\x1dE\\x00^\\xf4\\xb4\\xf8\\xc9\\x00\\xac5\\xe2\\xb7\\xfedr?\\xeb^3\\xb5tUL\\x95\\xdb\\xfe\\n\\xfb\\x9dTm\\xdatU\\x107\\\\\\xed\\xe2\\xdc\\xc7\\xb8\\xb2\\xa2\\xa9\\xcbNZE\\xff\\x00QY\\xed\\x05E?\\xa8\\xceb.Gq\\xe28\\x94\\xff\\x00\\xd6\\x9b\\x02\\xb2\\x01\\xf45;\\xe8\\xccO\\x9c\\xea\\x8e\\x9aHG\\x88\\xa6d\\xaePO\\xb9e\\xa5\\xba?\\xd5\\x15\\xeb\\xc9\\xc2\\t;\\x97\\xc3\\xc8\\xb8\\xb0Z\\x96}\\xd2]\\xdaB\\x98^S\\x05\\x84\\xad\\xd42\\xeb\\xc9@e\\xb0V\\x94\\xa9d\\x02\\x12\\x0e\\xed\\xb8\\xc2\\x95\\xd8qMQ\\x92[K_*\\xdb\\x93\\x01q@\\xbb\\x85\\xb2\\xd2\\xbe\\x9e\\x01\\x1f\\xc4t\\'\\x8e\\xdcs\\xd8Wm\\x88k\\x8b\\x11\\x9f\\x12\\n\\x82T\\x12\\x10\\x14\\xf3N\\x06\\xd6>\\xa5cn\\x06@\\xeer~\\xfd\\xe8\\x97pq\\xe8\\xc9nl\\xf7B\\xc0\\xda\\x94\\xb5p\\xfe\\x18\\x00`a-$\\x10I=\\xb1\\x81_\\'\\xc5\\x88\\xdf\\x8a\\xfaxn\\x11\\x84h\\x9ad\\x07]\\xc2fDR\\x99l\\x9f\\t*\\x88\\x19i\\n\\xc9\\xc1\\rd\\x12y<\\xaf?jo\\x9b!\\xa7\\xa2\\xc8\\x8f\\xb2*\\xdc1\\x9cl:\\\\N\\xff\\x0008\\x01)\\x1e\\xe7\\x1cS\\xbc+\\x1c\\x05JZZ\\xb3\\xaeO\\x88\\x02\\xd2~Y\\\\#\\xb0R\\x94\\xb5g\\x07\\x81\\xc8\\xf5\\xe2\\x9e\\x18a\\xc8\\x91\\xd4\\xe3H\\xb6\\xd9\\xb0\\xa6\\xf0K\\x8d\\xa1c\\x04\\xf6\\x08IV\\x0e@\\x07#\\x9a\\x98L\\x1ar\\\\:;\\x8b\\x15\\x1c\\xf8t\\xd41\\xe2\\xebwm\\xe5S.3\\'\\xaa\\xd7\\n\\xd2\\xd2\\xcb\\xa8u\\x94\\xfc\\xca\\xbce![\\x94\\x84\\x142Tq\\xe5J\\xb0R9$\\x1dy\\xd4=Yi\\xb4[\\xa1\\x0b\\xdd\\xf6E\\x8aM\\xc0\\x86\\xd8\\x9d\\x15\\x80\\xb1)\\xb1\\xc9\\x18#\\x00\\x8e\\xc4w\\x1d\\xbbV(E\\xf2\\xed\\xa7\\xfa\\x98\\xdb=>Dt\\xae\\xd1tfAq\\x96\\xf0\\xdb\\x8a\\x04\\x15\\xa9[\\xf9#\\xce\\xa07}\\xaa\\xd1\\xd6\\xb6\\x0e\\xa0u\\xc6\\xedir]\\x91\\x16\\xf8\\xe1\\xf5\\xb6\\xfc\\xf8\\x17\\'\\x9b\\x8f!\\x1ee\\x05\"+\\xc9JR\\xf9Jp\\xa72G\\xae\\xd3\\xc5{\\x9a\\xba\\xc8\\x1a\\xd6\\xbc\\xba\\xc5\\xcd\\x07>v\\xeb\\x9e\\xe5\\xe1\\xe8)\\xe5\\x0es\\x1f\\xfdZH\\xbf\\x87\\x0b\\xe5\\xd6j=\\xd4\\x9d\\x7f\\'\\xaa\\x9a\\xbe.\\x81\\xd1\\xda\\xe9/\\xe9\\xa5Au\\xcdE5\\xd8M\\xb4P\\xde\\xfd\\x8ai\\x1c\\x1d\\xcb\\xdb\\x801\\x83\\x95w\\xc04\\xfd\\xa9\\xbaU\\xa1\\xb5m\\xddw[\\xb6\\x95\\x95.X)2\\xee\\x05\\xf7!&Z\\xd2\\x92T\\xb7\\x10\\x08\\x058\\x03+\\xf2\\xa9D\\xf9\\x8a\\x94J\\xaa\\xc1\\xd0\\xfd\\t\\x9b\\xa7\\xdaj-\\xa4Z\\xb4\\xbc\\x16U\\x89\\x11\\xa1\\xff\\x00\\x1d\\xe7I\\'\\xcc\\xe3\\xea\\x05JV\\xd0x\\xe3\\x1e\\x9cqS\\x06\\xb4-\\x89\\x95\\xcan\\xe7.u\\xd8\\x99IT\\x84\\xee\\xdc\\x8eAI\\xcay\\xc2w\\'8\\xfb\\x8fj\\xf3\\x12m9\\xcb\\xfe\\x96M\\xf7\\xf1\\xca\\xde\\x97#E\\xb3\\xfcjg7\\xea\\x1b\\x9e_\\x19\\x8by\\xda\\xfe\\n\\x0bw\\xd4PfM\\x8d\\x19WyN\\xc1rB\\xc4;e\\xa1\\xb2\\xa4 \\xf8crIk\\x8d\\xc3pH$\\x82B\\x80\\x15\\xcfL]M\\x99\\xb6\\xa4Z\\xf4\\x9c\\xbb|\\x1bZfL?2>\\x95\\xc5\\x8a\\xe3\\xad\\x92\\xa4\\xe4+r\\xdblw\\xcdX\\xaej\\xcd=\\xa5@D\\xff\\x00\\x94\\xb4%.\\x90\\x88\\xed7\\x85\\xed\\x00(\\x1d\\xb8\\xca\\xb2\\x94\\xe7#\\xd8\\x1a\\x8f\\xca\\xd7\\x12\\xa4=\\x1a,\\x16\\x9bm\\xa7J\\xd5\\xb5\\xf6K\\x8b\\x94\\x92\\xf2\\x82\\xdbDf\\xc1p\\x82\\x90[<v#\\x04f\\xb3\\xdb9uC\\x1d1\\xbd\\x88\\xcb\\xcfp\\x16VLd@\\xe6D\\xdb\\\\\\x1c\\xef\\xc8\\xefX\\xa2\\xcf9\\xd9\\xaai\\xbb\\xa2\\xbem\\xd1\\x97\\x1dq\\xc5\\xee\\xf1\\\\_\\x99k\\'\\xb8Q$\\x9c\\xfb\\x91\\xc9\\xa79\\x91\\xdb,\\xbe\\xa9\\xee&+\\x11\\x90\\xb5\\x15\\xb9\\x95  rT\\xbcy\\x80\\x1d\\xb22J\\x88\\xc6r\\x05\\'Q\\xf4\\x93}1\\xd5\\xcb\\xb5&[nG~7\\xcc\\xc6\\x8e\\xa7\\x90f\\xc1mG\\xca\\xc4\\xa4\\xa4\\x90\\x87R\\x00\\x1d\\xfc\\xc9\\xc2\\xb0\\x92JD?S\\\\\\x9c\\xbc\\xb1l\\xb2oP\\x8a\\xb0\\xa9s6\\xa7\\xccYl\\x944\\xd1#\\xb8\\xdc\\x16q\\xf7I\\x1d\\x85zvQ\\xbeZ\\x80\\xdd\\x06\\xa5T\\xa8\\xad\\x8d\\x94\\xc5\\xe33\\xbb\\xf3\\xe1\\xf8Q\\x89\\xf7\\x9b\\xa6\\xa1\\x94\\xef\\xf6N\\x1b\\xecDA\\xd8e`%\\xd7>\\xea_d\\x7f\\x95\\'\\xf2Oz\\xe5y\\xe9U\\xf7NM\\x84\\x8dL\\x19\\x8c\\'!N\\xa4\\xb5!/,\\x81\\xf8<\\x9c\\x91\\x9e}\\xfdF*\\xca\\xd3\\x1aa\\xfb\\xc6\\x9f\\x9a\\xa8\\x96\\xc7\\xfc6[\\xf9\\x87\\xddB\\x89e\\x98\\xc3h\\x1b[\\x00\\x94,\\xb8\\x12\\x90\\xac\\xe0\\xee\\xe4w5;\\xeb\\xed\\x93\\xc0\\xbe\\xe8\\xb8\\xb6\\xf4K\\x92\\x8f\\xd3\\x9dR\\xdcW\\x86\\xe1qy\\xdc\\xe7\\x86\\xb4\\xe48\\x12\\x90\\x92\\t\\xe0\\x0fS\\xc5z\\xb6\\xc6#\\xc2\\xd6\\x8c\\x97\\x8bt\\x8ey.q\\xcdU\\xf1z6\\x98\\x9d<\\xbd\\xea2\\x96nL\\x856\\xe4G\\xc9W\\x8a\\x80\\xdb\\xaam\\xe6\\x94\\xd6\\xd2\\x00;\\x9bP^G\\xd3\\x81\\x9c\\x9a\\x801\\xa7m\\xb3b\\xcf\\xdc\\xd4\\xa6\\xa64\\xd3o2Zpxa\\x1b\\x8aW\\xb9%$\\x93\\x92\\x8eA\\x00s\\x9a\\xd4Z6\\x1ao\\x1d\\x1f\\x97jyE\\xc8\\xf2\\xe1\\xc8\\\\ul%IX\\x90\\xbfl\\x93\\x95\\x04\\x9e\\x00\\x03\\xd6\\xb3T\\t\\x7f!s\\x89!.)\\xa4\\x15-\\xb7\\x0eJ|\\x8a\\xc1#\\x82\\x0f\\xf2\\xf6\\xc8\\xcf\\xda\\x86:\\xf7\\xbf\\x14\\xc8P\\xe9\\x10\\x8c%\\xa0\\x17<@\\xe2w\\x03\\x8c`\\xe6\\xbe]\\xbdjC\\xab I\\xb5\\xcbT+\\x832X\\x95\\x15\\xd2\\xd3\\x8d\\xc8B\\x90\\xb6\\xfc\\xa0\\xa5%*\\xe5<\\x01\\x80}*=]\\x11ce#M\\xc2=h\\xa2\\x92\\x92\\xe9/\\xefF(\\xcd\\x14!\\x14\\x94\\xb4\\x94\\xd0\\x8aZ(\\xa1$QIKB\\x10(\\xa4\\xa2\\x84+)\\xa9\\xc1\\x0e\\xcf\\x8e\\x0e|\\'\\x8b\\x89\\x1f\\xee\\x9e\\x7f\\xe7Sk\\x13\\xc1\\xf4\\xa4+%*\\x1c\\xe7\\xd4UMj\\x92\\xb7\\xaf\\x8d\\x17\\x0e\\xe2\\xf0(_\\xdf\\x8e\\xf5f\\xe9\\x12J\\xc2W\\xe6\\xc2T3\\xf8\\xaf-\\xb4`=\\x88;\\xc2\\xfa\\xf6\\xc5\\xadl\\x95\\x92\\x06\\xe4\\t$z\\xaa\\x82}\\x99\\xe6oS\\xa0\\xb2\\x81\\x96d)\\x03\\'\\x18\\x19\\xc8\\xff\\x00J\\xbcz\\x1d\\xa1\\xacV\\xfdP\\xb5\\xdf\\xa4\\xcf~\\xfc\\xa8\\x92Sim\\x96\\x1e\\x8f\\x15\\xe0\\xa82\\xbc]\\xc5\\xc6<\\xc18FHR8W\\x01|\\xe2\\xaa\\xea|&\\xe2\\xeb\\t\\x1b9\\x0f2\\xdb\\xaa\\x04z\\x91\\x8f\\xfaS\\xb7@\\xd8m\\xee\\xae\\xe9\\xa8\\xeb\\nKr\\xd6\\xfcU\\x94+i\\tv;\\xa8$\\x1f|(\\xd6\\xdcR\\x19\\xa9\\x03\\xb7\\x96\\xfd\\x97\\xcd\\xf6\\x94\\x02\\x92\\xbeH\\xb75\\xc7\\xd2\\xf9{-R\\x8d:\\xccf\\xf1%6\\xf8\\x8e\\'k\\x85h) \\x12p\\x08\\n\\'\\xd0\\x1cdWn\\x1d\\xa2\\xd0\\xfb\\xad\\xa9\\xb7\\xdd\\x9a\\xe2\\x12\\x14\\xe3Q\\x90\\xb7\\n\\xb1\\x9f&P\\x00\\x198\\x19<f\\x9e\\xcfKl\\xc8\\x8e\\xc92.$d\\xe4|\\xce2N\\xdex\\x1d\\xc6\\xe3_\\x0b\\xec\\x1b\\x06\\x9ab\\xde\\x96\\xed\\x12&\\x952\\xfc\\x95|\\xcd\\xd6B\\x81Sc\\x81\\xb7v0p3\\xf8\\x1d\\xab\\xe5\"\\xdcW\\xba2b9\\x14\\x96\\xcbf\\xd8n9\\x1a\\x1f\\xe9\\xd1\\xa58\\xb6\\x95:C\\xa8e\\xc2BN\\x08\\'\\x9d\\xb9lq\\x9a\\xed\\xda\\xec\\xbar\\x14\\xd6W:\\xf4\\x1f\\x92\\xa6V\\x9c[\\xff\\x00\\x88\\xac\\xa8\\x81\\x95\\x1cc\\x03\\x8f\\xde\\xbapUh\\xb31\\x02\\r\\xbfO[R\\x86\\x1am\\x05n\\xb7\\xe2\\xa9j-$\\x95nVOw\\x0f\\x19\\xe3\\x157\\xb6\\xca\\x92\\xebN\\xc9\\xb63n\\xb7\\xe5\\xb50\\x94\\x88\\xaa \\'<p\\x16\\x90yQ=\\xa9\\xe6w\\xa8^\\xeb\\x14\\xb0\\\\\\x81o\\x90\\xb5i\\x0b\\x02X\\x92\\xfb\\xe1\\xc7fI\\x8c\\xa7\\xa4>r3\\x95\\x84\\x9ey \\x1f\\xdb\\x8a\\xfa[\\xef:\\xaaM\\xcad\\xd6-fZ\\x9cq\\xe0\\x04\\x97\\x92\\xcac\\xb8r\\x94\\xabi9\\xc1@?|zW\\x1b\\xcd\\xa6\\xeba[.\"\\xe3\\x05\\xe1 \\xed\\xc7\\xe9\\xe5\\x05\\xb1\\xb9*\\xf2\\x90\\xeeA\\xe3\\x19$\\xd7CQ\\xbb7J\\xe8\\xcb\\xee\\xb1\\x9f%\\x17\\x13\\x06\\x12g.\\xde\\xcb\"3RTV\\x96\\x12\\xdb\\x8a\\xca\\x97\\xb0e%@\\x10T\\x13\\x8c\\x8c\\x93Va\\x85\\xf3\\xca#n\\xa7\\xafeFW\\xc7\\x14e\\xe5u:\\x93\\xd5I\\xba\\n\\xdb\\x0e\\xe1\\xa8\\xe4\\xc0rd\\x86\\x0b\\x91,p\\x14\\xad\\xf2\\x94\\x95-&C\\xcf\\x9c\\x16c\\x03\\x8eR\\x9d\\xcb>T\\x91\\x82\\xa1\\x93u\\x17V:\\x93\\xaf\\'\\xbcW\\xa8\\xee\\xb1\\xa1\\xa4\\xa8\\x88v\\x99\\x0b\\x81\\r\\x8c\\x92HKm\\x10\\x15\\xc9>e\\x95(\\xf7*\\xe4\\xd36\\xaa\\xd4W=G\\xa9&N\\xbdK\\\\\\xab\\xac\\xa9$?,\\xf0TR\\x00\\x01)\\x1c%\\xb0\\x9f*[\\x1c$p8\\xa9\\x93\\xd6\\xf64\\xed\\xb2,[Z\\x03_2\\x12\\xa2\\xbfT\\x9cg#\\xfa\\x7f\\xd6\\xbddE\\xb4-\\x021\\x99\\xdf\\xbc\\xf5\\xb8,W\\xc5\\xfc\\x83\\xdf\\xf4\\xdc:\\xe3\\xd0`\\x8b\\xaez\\x95\\xa7\\x9b\\x06\\x0e\\xbb\\xd4\\n\\xc0\\xff\\x00b\\xab\\x8a\\xe4\\'\\xb7b\\x87J\\x92)\\xc6oYz\\x9f\\xa8\\xa2\\x96&\\xeb{\\xab/\\xbc\\xd8L\\xbf\\x93m\\xa8ks\\x1fRK\\x8c\\xa1\\x0bR{\\xf1\\xb8\\xd330\\xff\\x00WSju\\xc5!R\\n\\xd3\\xc7\\xa6\\xd0I\\xcfl\\xe7\\x1flUq3[\\xa9\\x95.<(\\x8be\\xa4-aI2\\t\\n\\xc9\\xe7 \\x01\\xed[4\\xef\\x92f\\xdde\\xce\\xc8a}\\xad\\x9a\\x97[\\xe1\\xc3m\\x87#4\\xdap\\xfa\\xb2\\xe3\\xb2\\x14\\x01*\\xc9\\xc2\\x82\\xcf\\xd2\\xac\\xfa\\xf6=\\x8d}m\\xd0d\\xdb\\xf572\\x7f\\xbaH\\x82\\xe4%\\xbf\\xe0\\x82R\\x02\\xc2\\xceS\\xce\\xc3\\xb7<\\xe7\\xd0\\x90j\\x18\\x8d^\\x10\\xc0Z\\xe2\\xb8\\xea\\x94\\x8d\\xbbT\\xf2B\\x12?\\xddH@\\xc7\\xf55\\xf2w_\\xdd\\x8b\\x1e\\r\\xadb\\xd8\\x8e\\x02\\xdcd\\x92\\xeb\\xa0\\x10@S\\x87\\x9d\\xa3\\x1fH\\xc0>\\xa0\\xd7P\\xc14Sc\\xbe[\\xd3\\x9e\\xa2\\x19a\\xc0F{\\x95\\x97\\xf3r\\\\2\\xdf\\xb5-\\x98\\x85\\xa8/He\\x88\\x13\\x1cgj@\\xf3%\\xb5\\xafvT\\x80\\tp\\x13\\x9c%`\\x13\\xc06GZ\\xe5*\\xe7t\\xd1\\xee\\\\\\xddZ\\xa6*\\xce\\xd3\\x8e:\\xe4]\\x81\\xc7\\x14\\xd2U\\x84\\xa0\\x0c\\x8c\\x90\\x00\\x07\\x80O$\\x0cUGc\\x98\\xe5\\xfbL\\xdbc\\x16\\xa3\\xc6\\x13V\\xf4w\\x14\\x94\\xac\\xff\\x009s\\xb6\\xe06\\xe7\\xd3\\xbf\\x1d\\xea\\xc9\\xea\\x89\\x81\\x1d\\xed9\\x0e-\\xbd\\x11\\xe7\\x8bk\\x0bfco,\\x06\\xda,2V\\xd7\\x86I\\x18Q\\xdcA\\xc8\\xdb\\x9e\\x07\\xbe\\xab\\xff\\x00\\xb3|\\xd6;FEX]8\\x01\\xbd7\\xa3R\\xaf\\x19\\x84:\\xc9\\x92\\x8f\\xe4\\xda~a\\xe2A \\x9d\\xca8\\'aJ\\xb8\\x04\\x8e\\xdce\\x0b\\xabf:\\x94\\x16B\\xc3\\x13RIO#\\x1b\\xb0{\\xfd\\xbdk]\\xe8\\xc8\\x81:?E\\xcaiA\\xb4\\xb5dgp\\t\\x05d\\xa9\\xd5+\\x85+;x*\\x19\\x03w\\x9b!I\"\\xb2\\xae\\xb0e-=~e\\xbe\\x10\\xcc\\xc7\\x02=\\xf0\\x97\\xb6\\x8c\\x9f^\\x07\\xefU\\xa2\\xb5\\xdc\\xa7v\\xe4\\xd9\\xac\\xa32\\x02Le%[\\x10\\xca\\xd4R\\xe9w9O>b\\x06H$\\x821\\x81\\x8cs\\x82L:\\xa6w\\xc6B\\xad\\xde&pU\\x1b#\\x81\\xc62ECqV\\x1d\\xad\\xd2\\x8fK$\\xa4\\xaeX\\xedI\\\\\\xddJQ@\\xa2\\x81\\xdf\\xda\\x84$\\xf7\\xa2\\x97\\x1c\\xd1BH\\x14QE4$4\\xb4Q\\xde\\x84\\x91E.;QM\\x17\\xb2\\xff\\xd9'"
      ]
     },
     "execution_count": 45,
     "metadata": {},
     "output_type": "execute_result"
    }
   ],
   "source": [
    "image_link.content"
   ]
  },
  {
   "cell_type": "markdown",
   "id": "6452e92e",
   "metadata": {},
   "source": [
    "And what this is, it's the raw content of the actual image.\n",
    "So this is a binary file and this is the computer's way of representing internally what this image actually\n",
    "looks like.\n",
    "So this is actually kind of not readable by human.\n",
    "This is a binary file.\n",
    "\n",
    "However, Python is smart enough to be able to read and write this file and save the image onto your\n",
    "computer.\n",
    "\n",
    "And we do this by opening a new file and then writing to it and then closing to it.\n",
    "So recall that this image linked content has the information I need, and now I want to save this onto\n",
    "my computer in the form of an image."
   ]
  },
  {
   "cell_type": "code",
   "execution_count": 46,
   "id": "fc152e17",
   "metadata": {},
   "outputs": [],
   "source": [
    "f = open('taylor-img.jpg','wb')"
   ]
  },
  {
   "cell_type": "markdown",
   "id": "89ec609a",
   "metadata": {},
   "source": [
    "For the writing or reading permission.\n",
    "So recall the actual mode we're going to be doing.\n",
    "\n",
    "It's going to be wb, which means write binary so denotes binary writing because that's not a typical\n",
    "string or text file.\n",
    "It's actually a binary representation of that image."
   ]
  },
  {
   "cell_type": "code",
   "execution_count": 47,
   "id": "4be84495",
   "metadata": {},
   "outputs": [
    {
     "data": {
      "text/plain": [
       "13752"
      ]
     },
     "execution_count": 47,
     "metadata": {},
     "output_type": "execute_result"
    }
   ],
   "source": [
    "f.write(image_link.content)"
   ]
  },
  {
   "cell_type": "code",
   "execution_count": 48,
   "id": "34f6e9f0",
   "metadata": {},
   "outputs": [],
   "source": [
    "f.close()"
   ]
  },
  {
   "cell_type": "markdown",
   "id": "c8fdd1af",
   "metadata": {},
   "source": [
    "If I click this open, notice it downloaded the actual image and now we have it written on our computer.\n",
    "So that's an example of downloading images."
   ]
  },
  {
   "cell_type": "markdown",
   "id": "7d2d769e",
   "metadata": {},
   "source": [
    "Basically we've already seen how to grab elements just one at a time, such as a couple of images off\n",
    "a single Wikipedia article.\n",
    "But realistically, we want to be able to grab multiple elements and most likely across multiple pages\n",
    "of a website.\n",
    "And this is where we can combine our prior Python knowledge with the web scraping libraries to create\n",
    "really powerful scripts that are heavily customized to whatever task we're trying to achieve.\n",
    "\n",
    "We're going to be using a website specifically designed to practice web scraping called www.toscrape.com"
   ]
  },
  {
   "cell_type": "code",
   "execution_count": 49,
   "id": "82b97913",
   "metadata": {},
   "outputs": [],
   "source": [
    "# GOAL: get the title of every book with a two star rating."
   ]
  },
  {
   "cell_type": "code",
   "execution_count": 50,
   "id": "8c1f893e",
   "metadata": {},
   "outputs": [],
   "source": [
    "base_url = 'https://web.archive.org/web/20220907003339/https://books.toscrape.com/catalogue/page-{}.html'"
   ]
  },
  {
   "cell_type": "code",
   "execution_count": 51,
   "id": "8b0f90a8",
   "metadata": {},
   "outputs": [
    {
     "data": {
      "text/plain": [
       "'https://web.archive.org/web/20220907003339/https://books.toscrape.com/catalogue/page-20.html'"
      ]
     },
     "execution_count": 51,
     "metadata": {},
     "output_type": "execute_result"
    }
   ],
   "source": [
    "base_url.format(20)"
   ]
  },
  {
   "cell_type": "code",
   "execution_count": 52,
   "id": "a519c85b",
   "metadata": {},
   "outputs": [
    {
     "data": {
      "text/plain": [
       "'https://web.archive.org/web/20220907003339/https://books.toscrape.com/catalogue/page-2.html'"
      ]
     },
     "execution_count": 52,
     "metadata": {},
     "output_type": "execute_result"
    }
   ],
   "source": [
    "base_url.format(2)"
   ]
  },
  {
   "cell_type": "markdown",
   "id": "e6a7445f",
   "metadata": {},
   "source": [
    "notice the difference!!!"
   ]
  },
  {
   "cell_type": "code",
   "execution_count": 53,
   "id": "957e73af",
   "metadata": {},
   "outputs": [
    {
     "data": {
      "text/plain": [
       "'https://web.archive.org/web/20220907003339/https://books.toscrape.com/catalogue/page-12.html'"
      ]
     },
     "execution_count": 53,
     "metadata": {},
     "output_type": "execute_result"
    }
   ],
   "source": [
    "page_num = 12\n",
    "base_url.format(page_num)"
   ]
  },
  {
   "cell_type": "code",
   "execution_count": 54,
   "id": "05a2fc0f",
   "metadata": {},
   "outputs": [],
   "source": [
    "res = requests.get(base_url.format(1))"
   ]
  },
  {
   "cell_type": "code",
   "execution_count": 59,
   "id": "ca429cc1",
   "metadata": {},
   "outputs": [],
   "source": [
    "soup = bs4.BeautifulSoup(res.text, 'lxml')"
   ]
  },
  {
   "cell_type": "code",
   "execution_count": 60,
   "id": "b2a9e7e0",
   "metadata": {},
   "outputs": [
    {
     "data": {
      "text/plain": [
       "[<article class=\"product_pod\">\n",
       " <div class=\"image_container\">\n",
       " <a href=\"a-light-in-the-attic_1000/index.html\"><img alt=\"A Light in the Attic\" class=\"thumbnail\" src=\"/web/20220907003336im_/https://books.toscrape.com/media/cache/2c/da/2cdad67c44b002e7ead0cc35693c0e8b.jpg\"/></a>\n",
       " </div>\n",
       " <p class=\"star-rating Three\">\n",
       " <i class=\"icon-star\"></i>\n",
       " <i class=\"icon-star\"></i>\n",
       " <i class=\"icon-star\"></i>\n",
       " <i class=\"icon-star\"></i>\n",
       " <i class=\"icon-star\"></i>\n",
       " </p>\n",
       " <h3><a href=\"a-light-in-the-attic_1000/index.html\" title=\"A Light in the Attic\">A Light in the ...</a></h3>\n",
       " <div class=\"product_price\">\n",
       " <p class=\"price_color\">Â£51.77</p>\n",
       " <p class=\"instock availability\">\n",
       " <i class=\"icon-ok\"></i>\n",
       "     \n",
       "         In stock\n",
       "     \n",
       " </p>\n",
       " <form>\n",
       " <button class=\"btn btn-primary btn-block\" data-loading-text=\"Adding...\" type=\"submit\">Add to basket</button>\n",
       " </form>\n",
       " </div>\n",
       " </article>,\n",
       " <article class=\"product_pod\">\n",
       " <div class=\"image_container\">\n",
       " <a href=\"tipping-the-velvet_999/index.html\"><img alt=\"Tipping the Velvet\" class=\"thumbnail\" src=\"/web/20220907003336im_/https://books.toscrape.com/media/cache/26/0c/260c6ae16bce31c8f8c95daddd9f4a1c.jpg\"/></a>\n",
       " </div>\n",
       " <p class=\"star-rating One\">\n",
       " <i class=\"icon-star\"></i>\n",
       " <i class=\"icon-star\"></i>\n",
       " <i class=\"icon-star\"></i>\n",
       " <i class=\"icon-star\"></i>\n",
       " <i class=\"icon-star\"></i>\n",
       " </p>\n",
       " <h3><a href=\"tipping-the-velvet_999/index.html\" title=\"Tipping the Velvet\">Tipping the Velvet</a></h3>\n",
       " <div class=\"product_price\">\n",
       " <p class=\"price_color\">Â£53.74</p>\n",
       " <p class=\"instock availability\">\n",
       " <i class=\"icon-ok\"></i>\n",
       "     \n",
       "         In stock\n",
       "     \n",
       " </p>\n",
       " <form>\n",
       " <button class=\"btn btn-primary btn-block\" data-loading-text=\"Adding...\" type=\"submit\">Add to basket</button>\n",
       " </form>\n",
       " </div>\n",
       " </article>,\n",
       " <article class=\"product_pod\">\n",
       " <div class=\"image_container\">\n",
       " <a href=\"soumission_998/index.html\"><img alt=\"Soumission\" class=\"thumbnail\" src=\"/web/20220907003336im_/https://books.toscrape.com/media/cache/3e/ef/3eef99c9d9adef34639f510662022830.jpg\"/></a>\n",
       " </div>\n",
       " <p class=\"star-rating One\">\n",
       " <i class=\"icon-star\"></i>\n",
       " <i class=\"icon-star\"></i>\n",
       " <i class=\"icon-star\"></i>\n",
       " <i class=\"icon-star\"></i>\n",
       " <i class=\"icon-star\"></i>\n",
       " </p>\n",
       " <h3><a href=\"soumission_998/index.html\" title=\"Soumission\">Soumission</a></h3>\n",
       " <div class=\"product_price\">\n",
       " <p class=\"price_color\">Â£50.10</p>\n",
       " <p class=\"instock availability\">\n",
       " <i class=\"icon-ok\"></i>\n",
       "     \n",
       "         In stock\n",
       "     \n",
       " </p>\n",
       " <form>\n",
       " <button class=\"btn btn-primary btn-block\" data-loading-text=\"Adding...\" type=\"submit\">Add to basket</button>\n",
       " </form>\n",
       " </div>\n",
       " </article>,\n",
       " <article class=\"product_pod\">\n",
       " <div class=\"image_container\">\n",
       " <a href=\"sharp-objects_997/index.html\"><img alt=\"Sharp Objects\" class=\"thumbnail\" src=\"/web/20220907003336im_/https://books.toscrape.com/media/cache/32/51/3251cf3a3412f53f339e42cac2134093.jpg\"/></a>\n",
       " </div>\n",
       " <p class=\"star-rating Four\">\n",
       " <i class=\"icon-star\"></i>\n",
       " <i class=\"icon-star\"></i>\n",
       " <i class=\"icon-star\"></i>\n",
       " <i class=\"icon-star\"></i>\n",
       " <i class=\"icon-star\"></i>\n",
       " </p>\n",
       " <h3><a href=\"sharp-objects_997/index.html\" title=\"Sharp Objects\">Sharp Objects</a></h3>\n",
       " <div class=\"product_price\">\n",
       " <p class=\"price_color\">Â£47.82</p>\n",
       " <p class=\"instock availability\">\n",
       " <i class=\"icon-ok\"></i>\n",
       "     \n",
       "         In stock\n",
       "     \n",
       " </p>\n",
       " <form>\n",
       " <button class=\"btn btn-primary btn-block\" data-loading-text=\"Adding...\" type=\"submit\">Add to basket</button>\n",
       " </form>\n",
       " </div>\n",
       " </article>,\n",
       " <article class=\"product_pod\">\n",
       " <div class=\"image_container\">\n",
       " <a href=\"sapiens-a-brief-history-of-humankind_996/index.html\"><img alt=\"Sapiens: A Brief History of Humankind\" class=\"thumbnail\" src=\"/web/20220907003336im_/https://books.toscrape.com/media/cache/be/a5/bea5697f2534a2f86a3ef27b5a8c12a6.jpg\"/></a>\n",
       " </div>\n",
       " <p class=\"star-rating Five\">\n",
       " <i class=\"icon-star\"></i>\n",
       " <i class=\"icon-star\"></i>\n",
       " <i class=\"icon-star\"></i>\n",
       " <i class=\"icon-star\"></i>\n",
       " <i class=\"icon-star\"></i>\n",
       " </p>\n",
       " <h3><a href=\"sapiens-a-brief-history-of-humankind_996/index.html\" title=\"Sapiens: A Brief History of Humankind\">Sapiens: A Brief History ...</a></h3>\n",
       " <div class=\"product_price\">\n",
       " <p class=\"price_color\">Â£54.23</p>\n",
       " <p class=\"instock availability\">\n",
       " <i class=\"icon-ok\"></i>\n",
       "     \n",
       "         In stock\n",
       "     \n",
       " </p>\n",
       " <form>\n",
       " <button class=\"btn btn-primary btn-block\" data-loading-text=\"Adding...\" type=\"submit\">Add to basket</button>\n",
       " </form>\n",
       " </div>\n",
       " </article>,\n",
       " <article class=\"product_pod\">\n",
       " <div class=\"image_container\">\n",
       " <a href=\"the-requiem-red_995/index.html\"><img alt=\"The Requiem Red\" class=\"thumbnail\" src=\"/web/20220907003336im_/https://books.toscrape.com/media/cache/68/33/68339b4c9bc034267e1da611ab3b34f8.jpg\"/></a>\n",
       " </div>\n",
       " <p class=\"star-rating One\">\n",
       " <i class=\"icon-star\"></i>\n",
       " <i class=\"icon-star\"></i>\n",
       " <i class=\"icon-star\"></i>\n",
       " <i class=\"icon-star\"></i>\n",
       " <i class=\"icon-star\"></i>\n",
       " </p>\n",
       " <h3><a href=\"the-requiem-red_995/index.html\" title=\"The Requiem Red\">The Requiem Red</a></h3>\n",
       " <div class=\"product_price\">\n",
       " <p class=\"price_color\">Â£22.65</p>\n",
       " <p class=\"instock availability\">\n",
       " <i class=\"icon-ok\"></i>\n",
       "     \n",
       "         In stock\n",
       "     \n",
       " </p>\n",
       " <form>\n",
       " <button class=\"btn btn-primary btn-block\" data-loading-text=\"Adding...\" type=\"submit\">Add to basket</button>\n",
       " </form>\n",
       " </div>\n",
       " </article>,\n",
       " <article class=\"product_pod\">\n",
       " <div class=\"image_container\">\n",
       " <a href=\"the-dirty-little-secrets-of-getting-your-dream-job_994/index.html\"><img alt=\"The Dirty Little Secrets of Getting Your Dream Job\" class=\"thumbnail\" src=\"/web/20220907003336im_/https://books.toscrape.com/media/cache/92/27/92274a95b7c251fea59a2b8a78275ab4.jpg\"/></a>\n",
       " </div>\n",
       " <p class=\"star-rating Four\">\n",
       " <i class=\"icon-star\"></i>\n",
       " <i class=\"icon-star\"></i>\n",
       " <i class=\"icon-star\"></i>\n",
       " <i class=\"icon-star\"></i>\n",
       " <i class=\"icon-star\"></i>\n",
       " </p>\n",
       " <h3><a href=\"the-dirty-little-secrets-of-getting-your-dream-job_994/index.html\" title=\"The Dirty Little Secrets of Getting Your Dream Job\">The Dirty Little Secrets ...</a></h3>\n",
       " <div class=\"product_price\">\n",
       " <p class=\"price_color\">Â£33.34</p>\n",
       " <p class=\"instock availability\">\n",
       " <i class=\"icon-ok\"></i>\n",
       "     \n",
       "         In stock\n",
       "     \n",
       " </p>\n",
       " <form>\n",
       " <button class=\"btn btn-primary btn-block\" data-loading-text=\"Adding...\" type=\"submit\">Add to basket</button>\n",
       " </form>\n",
       " </div>\n",
       " </article>,\n",
       " <article class=\"product_pod\">\n",
       " <div class=\"image_container\">\n",
       " <a href=\"the-coming-woman-a-novel-based-on-the-life-of-the-infamous-feminist-victoria-woodhull_993/index.html\"><img alt=\"The Coming Woman: A Novel Based on the Life of the Infamous Feminist, Victoria Woodhull\" class=\"thumbnail\" src=\"/web/20220907003336im_/https://books.toscrape.com/media/cache/3d/54/3d54940e57e662c4dd1f3ff00c78cc64.jpg\"/></a>\n",
       " </div>\n",
       " <p class=\"star-rating Three\">\n",
       " <i class=\"icon-star\"></i>\n",
       " <i class=\"icon-star\"></i>\n",
       " <i class=\"icon-star\"></i>\n",
       " <i class=\"icon-star\"></i>\n",
       " <i class=\"icon-star\"></i>\n",
       " </p>\n",
       " <h3><a href=\"the-coming-woman-a-novel-based-on-the-life-of-the-infamous-feminist-victoria-woodhull_993/index.html\" title=\"The Coming Woman: A Novel Based on the Life of the Infamous Feminist, Victoria Woodhull\">The Coming Woman: A ...</a></h3>\n",
       " <div class=\"product_price\">\n",
       " <p class=\"price_color\">Â£17.93</p>\n",
       " <p class=\"instock availability\">\n",
       " <i class=\"icon-ok\"></i>\n",
       "     \n",
       "         In stock\n",
       "     \n",
       " </p>\n",
       " <form>\n",
       " <button class=\"btn btn-primary btn-block\" data-loading-text=\"Adding...\" type=\"submit\">Add to basket</button>\n",
       " </form>\n",
       " </div>\n",
       " </article>,\n",
       " <article class=\"product_pod\">\n",
       " <div class=\"image_container\">\n",
       " <a href=\"the-boys-in-the-boat-nine-americans-and-their-epic-quest-for-gold-at-the-1936-berlin-olympics_992/index.html\"><img alt=\"The Boys in the Boat: Nine Americans and Their Epic Quest for Gold at the 1936 Berlin Olympics\" class=\"thumbnail\" src=\"/web/20220907003336im_/https://books.toscrape.com/media/cache/66/88/66883b91f6804b2323c8369331cb7dd1.jpg\"/></a>\n",
       " </div>\n",
       " <p class=\"star-rating Four\">\n",
       " <i class=\"icon-star\"></i>\n",
       " <i class=\"icon-star\"></i>\n",
       " <i class=\"icon-star\"></i>\n",
       " <i class=\"icon-star\"></i>\n",
       " <i class=\"icon-star\"></i>\n",
       " </p>\n",
       " <h3><a href=\"the-boys-in-the-boat-nine-americans-and-their-epic-quest-for-gold-at-the-1936-berlin-olympics_992/index.html\" title=\"The Boys in the Boat: Nine Americans and Their Epic Quest for Gold at the 1936 Berlin Olympics\">The Boys in the ...</a></h3>\n",
       " <div class=\"product_price\">\n",
       " <p class=\"price_color\">Â£22.60</p>\n",
       " <p class=\"instock availability\">\n",
       " <i class=\"icon-ok\"></i>\n",
       "     \n",
       "         In stock\n",
       "     \n",
       " </p>\n",
       " <form>\n",
       " <button class=\"btn btn-primary btn-block\" data-loading-text=\"Adding...\" type=\"submit\">Add to basket</button>\n",
       " </form>\n",
       " </div>\n",
       " </article>,\n",
       " <article class=\"product_pod\">\n",
       " <div class=\"image_container\">\n",
       " <a href=\"the-black-maria_991/index.html\"><img alt=\"The Black Maria\" class=\"thumbnail\" src=\"/web/20220907003336im_/https://books.toscrape.com/media/cache/58/46/5846057e28022268153beff6d352b06c.jpg\"/></a>\n",
       " </div>\n",
       " <p class=\"star-rating One\">\n",
       " <i class=\"icon-star\"></i>\n",
       " <i class=\"icon-star\"></i>\n",
       " <i class=\"icon-star\"></i>\n",
       " <i class=\"icon-star\"></i>\n",
       " <i class=\"icon-star\"></i>\n",
       " </p>\n",
       " <h3><a href=\"the-black-maria_991/index.html\" title=\"The Black Maria\">The Black Maria</a></h3>\n",
       " <div class=\"product_price\">\n",
       " <p class=\"price_color\">Â£52.15</p>\n",
       " <p class=\"instock availability\">\n",
       " <i class=\"icon-ok\"></i>\n",
       "     \n",
       "         In stock\n",
       "     \n",
       " </p>\n",
       " <form>\n",
       " <button class=\"btn btn-primary btn-block\" data-loading-text=\"Adding...\" type=\"submit\">Add to basket</button>\n",
       " </form>\n",
       " </div>\n",
       " </article>,\n",
       " <article class=\"product_pod\">\n",
       " <div class=\"image_container\">\n",
       " <a href=\"starving-hearts-triangular-trade-trilogy-1_990/index.html\"><img alt=\"Starving Hearts (Triangular Trade Trilogy, #1)\" class=\"thumbnail\" src=\"/web/20220907003336im_/https://books.toscrape.com/media/cache/be/f4/bef44da28c98f905a3ebec0b87be8530.jpg\"/></a>\n",
       " </div>\n",
       " <p class=\"star-rating Two\">\n",
       " <i class=\"icon-star\"></i>\n",
       " <i class=\"icon-star\"></i>\n",
       " <i class=\"icon-star\"></i>\n",
       " <i class=\"icon-star\"></i>\n",
       " <i class=\"icon-star\"></i>\n",
       " </p>\n",
       " <h3><a href=\"starving-hearts-triangular-trade-trilogy-1_990/index.html\" title=\"Starving Hearts (Triangular Trade Trilogy, #1)\">Starving Hearts (Triangular Trade ...</a></h3>\n",
       " <div class=\"product_price\">\n",
       " <p class=\"price_color\">Â£13.99</p>\n",
       " <p class=\"instock availability\">\n",
       " <i class=\"icon-ok\"></i>\n",
       "     \n",
       "         In stock\n",
       "     \n",
       " </p>\n",
       " <form>\n",
       " <button class=\"btn btn-primary btn-block\" data-loading-text=\"Adding...\" type=\"submit\">Add to basket</button>\n",
       " </form>\n",
       " </div>\n",
       " </article>,\n",
       " <article class=\"product_pod\">\n",
       " <div class=\"image_container\">\n",
       " <a href=\"shakespeares-sonnets_989/index.html\"><img alt=\"Shakespeare's Sonnets\" class=\"thumbnail\" src=\"/web/20220907003336im_/https://books.toscrape.com/media/cache/10/48/1048f63d3b5061cd2f424d20b3f9b666.jpg\"/></a>\n",
       " </div>\n",
       " <p class=\"star-rating Four\">\n",
       " <i class=\"icon-star\"></i>\n",
       " <i class=\"icon-star\"></i>\n",
       " <i class=\"icon-star\"></i>\n",
       " <i class=\"icon-star\"></i>\n",
       " <i class=\"icon-star\"></i>\n",
       " </p>\n",
       " <h3><a href=\"shakespeares-sonnets_989/index.html\" title=\"Shakespeare's Sonnets\">Shakespeare's Sonnets</a></h3>\n",
       " <div class=\"product_price\">\n",
       " <p class=\"price_color\">Â£20.66</p>\n",
       " <p class=\"instock availability\">\n",
       " <i class=\"icon-ok\"></i>\n",
       "     \n",
       "         In stock\n",
       "     \n",
       " </p>\n",
       " <form>\n",
       " <button class=\"btn btn-primary btn-block\" data-loading-text=\"Adding...\" type=\"submit\">Add to basket</button>\n",
       " </form>\n",
       " </div>\n",
       " </article>,\n",
       " <article class=\"product_pod\">\n",
       " <div class=\"image_container\">\n",
       " <a href=\"set-me-free_988/index.html\"><img alt=\"Set Me Free\" class=\"thumbnail\" src=\"/web/20220907003336im_/https://books.toscrape.com/media/cache/5b/88/5b88c52633f53cacf162c15f4f823153.jpg\"/></a>\n",
       " </div>\n",
       " <p class=\"star-rating Five\">\n",
       " <i class=\"icon-star\"></i>\n",
       " <i class=\"icon-star\"></i>\n",
       " <i class=\"icon-star\"></i>\n",
       " <i class=\"icon-star\"></i>\n",
       " <i class=\"icon-star\"></i>\n",
       " </p>\n",
       " <h3><a href=\"set-me-free_988/index.html\" title=\"Set Me Free\">Set Me Free</a></h3>\n",
       " <div class=\"product_price\">\n",
       " <p class=\"price_color\">Â£17.46</p>\n",
       " <p class=\"instock availability\">\n",
       " <i class=\"icon-ok\"></i>\n",
       "     \n",
       "         In stock\n",
       "     \n",
       " </p>\n",
       " <form>\n",
       " <button class=\"btn btn-primary btn-block\" data-loading-text=\"Adding...\" type=\"submit\">Add to basket</button>\n",
       " </form>\n",
       " </div>\n",
       " </article>,\n",
       " <article class=\"product_pod\">\n",
       " <div class=\"image_container\">\n",
       " <a href=\"scott-pilgrims-precious-little-life-scott-pilgrim-1_987/index.html\"><img alt=\"Scott Pilgrim's Precious Little Life (Scott Pilgrim #1)\" class=\"thumbnail\" src=\"/web/20220907003336im_/https://books.toscrape.com/media/cache/94/b1/94b1b8b244bce9677c2f29ccc890d4d2.jpg\"/></a>\n",
       " </div>\n",
       " <p class=\"star-rating Five\">\n",
       " <i class=\"icon-star\"></i>\n",
       " <i class=\"icon-star\"></i>\n",
       " <i class=\"icon-star\"></i>\n",
       " <i class=\"icon-star\"></i>\n",
       " <i class=\"icon-star\"></i>\n",
       " </p>\n",
       " <h3><a href=\"scott-pilgrims-precious-little-life-scott-pilgrim-1_987/index.html\" title=\"Scott Pilgrim's Precious Little Life (Scott Pilgrim #1)\">Scott Pilgrim's Precious Little ...</a></h3>\n",
       " <div class=\"product_price\">\n",
       " <p class=\"price_color\">Â£52.29</p>\n",
       " <p class=\"instock availability\">\n",
       " <i class=\"icon-ok\"></i>\n",
       "     \n",
       "         In stock\n",
       "     \n",
       " </p>\n",
       " <form>\n",
       " <button class=\"btn btn-primary btn-block\" data-loading-text=\"Adding...\" type=\"submit\">Add to basket</button>\n",
       " </form>\n",
       " </div>\n",
       " </article>,\n",
       " <article class=\"product_pod\">\n",
       " <div class=\"image_container\">\n",
       " <a href=\"rip-it-up-and-start-again_986/index.html\"><img alt=\"Rip it Up and Start Again\" class=\"thumbnail\" src=\"/web/20220907003336im_/https://books.toscrape.com/media/cache/81/c4/81c4a973364e17d01f217e1188253d5e.jpg\"/></a>\n",
       " </div>\n",
       " <p class=\"star-rating Five\">\n",
       " <i class=\"icon-star\"></i>\n",
       " <i class=\"icon-star\"></i>\n",
       " <i class=\"icon-star\"></i>\n",
       " <i class=\"icon-star\"></i>\n",
       " <i class=\"icon-star\"></i>\n",
       " </p>\n",
       " <h3><a href=\"rip-it-up-and-start-again_986/index.html\" title=\"Rip it Up and Start Again\">Rip it Up and ...</a></h3>\n",
       " <div class=\"product_price\">\n",
       " <p class=\"price_color\">Â£35.02</p>\n",
       " <p class=\"instock availability\">\n",
       " <i class=\"icon-ok\"></i>\n",
       "     \n",
       "         In stock\n",
       "     \n",
       " </p>\n",
       " <form>\n",
       " <button class=\"btn btn-primary btn-block\" data-loading-text=\"Adding...\" type=\"submit\">Add to basket</button>\n",
       " </form>\n",
       " </div>\n",
       " </article>,\n",
       " <article class=\"product_pod\">\n",
       " <div class=\"image_container\">\n",
       " <a href=\"our-band-could-be-your-life-scenes-from-the-american-indie-underground-1981-1991_985/index.html\"><img alt=\"Our Band Could Be Your Life: Scenes from the American Indie Underground, 1981-1991\" class=\"thumbnail\" src=\"/web/20220907003336im_/https://books.toscrape.com/media/cache/54/60/54607fe8945897cdcced0044103b10b6.jpg\"/></a>\n",
       " </div>\n",
       " <p class=\"star-rating Three\">\n",
       " <i class=\"icon-star\"></i>\n",
       " <i class=\"icon-star\"></i>\n",
       " <i class=\"icon-star\"></i>\n",
       " <i class=\"icon-star\"></i>\n",
       " <i class=\"icon-star\"></i>\n",
       " </p>\n",
       " <h3><a href=\"our-band-could-be-your-life-scenes-from-the-american-indie-underground-1981-1991_985/index.html\" title=\"Our Band Could Be Your Life: Scenes from the American Indie Underground, 1981-1991\">Our Band Could Be ...</a></h3>\n",
       " <div class=\"product_price\">\n",
       " <p class=\"price_color\">Â£57.25</p>\n",
       " <p class=\"instock availability\">\n",
       " <i class=\"icon-ok\"></i>\n",
       "     \n",
       "         In stock\n",
       "     \n",
       " </p>\n",
       " <form>\n",
       " <button class=\"btn btn-primary btn-block\" data-loading-text=\"Adding...\" type=\"submit\">Add to basket</button>\n",
       " </form>\n",
       " </div>\n",
       " </article>,\n",
       " <article class=\"product_pod\">\n",
       " <div class=\"image_container\">\n",
       " <a href=\"olio_984/index.html\"><img alt=\"Olio\" class=\"thumbnail\" src=\"/web/20220907003336im_/https://books.toscrape.com/media/cache/55/33/553310a7162dfbc2c6d19a84da0df9e1.jpg\"/></a>\n",
       " </div>\n",
       " <p class=\"star-rating One\">\n",
       " <i class=\"icon-star\"></i>\n",
       " <i class=\"icon-star\"></i>\n",
       " <i class=\"icon-star\"></i>\n",
       " <i class=\"icon-star\"></i>\n",
       " <i class=\"icon-star\"></i>\n",
       " </p>\n",
       " <h3><a href=\"olio_984/index.html\" title=\"Olio\">Olio</a></h3>\n",
       " <div class=\"product_price\">\n",
       " <p class=\"price_color\">Â£23.88</p>\n",
       " <p class=\"instock availability\">\n",
       " <i class=\"icon-ok\"></i>\n",
       "     \n",
       "         In stock\n",
       "     \n",
       " </p>\n",
       " <form>\n",
       " <button class=\"btn btn-primary btn-block\" data-loading-text=\"Adding...\" type=\"submit\">Add to basket</button>\n",
       " </form>\n",
       " </div>\n",
       " </article>,\n",
       " <article class=\"product_pod\">\n",
       " <div class=\"image_container\">\n",
       " <a href=\"mesaerion-the-best-science-fiction-stories-1800-1849_983/index.html\"><img alt=\"Mesaerion: The Best Science Fiction Stories 1800-1849\" class=\"thumbnail\" src=\"/web/20220907003336im_/https://books.toscrape.com/media/cache/09/a3/09a3aef48557576e1a85ba7efea8ecb7.jpg\"/></a>\n",
       " </div>\n",
       " <p class=\"star-rating One\">\n",
       " <i class=\"icon-star\"></i>\n",
       " <i class=\"icon-star\"></i>\n",
       " <i class=\"icon-star\"></i>\n",
       " <i class=\"icon-star\"></i>\n",
       " <i class=\"icon-star\"></i>\n",
       " </p>\n",
       " <h3><a href=\"mesaerion-the-best-science-fiction-stories-1800-1849_983/index.html\" title=\"Mesaerion: The Best Science Fiction Stories 1800-1849\">Mesaerion: The Best Science ...</a></h3>\n",
       " <div class=\"product_price\">\n",
       " <p class=\"price_color\">Â£37.59</p>\n",
       " <p class=\"instock availability\">\n",
       " <i class=\"icon-ok\"></i>\n",
       "     \n",
       "         In stock\n",
       "     \n",
       " </p>\n",
       " <form>\n",
       " <button class=\"btn btn-primary btn-block\" data-loading-text=\"Adding...\" type=\"submit\">Add to basket</button>\n",
       " </form>\n",
       " </div>\n",
       " </article>,\n",
       " <article class=\"product_pod\">\n",
       " <div class=\"image_container\">\n",
       " <a href=\"libertarianism-for-beginners_982/index.html\"><img alt=\"Libertarianism for Beginners\" class=\"thumbnail\" src=\"/web/20220907003336im_/https://books.toscrape.com/media/cache/0b/bc/0bbcd0a6f4bcd81ccb1049a52736406e.jpg\"/></a>\n",
       " </div>\n",
       " <p class=\"star-rating Two\">\n",
       " <i class=\"icon-star\"></i>\n",
       " <i class=\"icon-star\"></i>\n",
       " <i class=\"icon-star\"></i>\n",
       " <i class=\"icon-star\"></i>\n",
       " <i class=\"icon-star\"></i>\n",
       " </p>\n",
       " <h3><a href=\"libertarianism-for-beginners_982/index.html\" title=\"Libertarianism for Beginners\">Libertarianism for Beginners</a></h3>\n",
       " <div class=\"product_price\">\n",
       " <p class=\"price_color\">Â£51.33</p>\n",
       " <p class=\"instock availability\">\n",
       " <i class=\"icon-ok\"></i>\n",
       "     \n",
       "         In stock\n",
       "     \n",
       " </p>\n",
       " <form>\n",
       " <button class=\"btn btn-primary btn-block\" data-loading-text=\"Adding...\" type=\"submit\">Add to basket</button>\n",
       " </form>\n",
       " </div>\n",
       " </article>,\n",
       " <article class=\"product_pod\">\n",
       " <div class=\"image_container\">\n",
       " <a href=\"its-only-the-himalayas_981/index.html\"><img alt=\"It's Only the Himalayas\" class=\"thumbnail\" src=\"/web/20220907003336im_/https://books.toscrape.com/media/cache/27/a5/27a53d0bb95bdd88288eaf66c9230d7e.jpg\"/></a>\n",
       " </div>\n",
       " <p class=\"star-rating Two\">\n",
       " <i class=\"icon-star\"></i>\n",
       " <i class=\"icon-star\"></i>\n",
       " <i class=\"icon-star\"></i>\n",
       " <i class=\"icon-star\"></i>\n",
       " <i class=\"icon-star\"></i>\n",
       " </p>\n",
       " <h3><a href=\"its-only-the-himalayas_981/index.html\" title=\"It's Only the Himalayas\">It's Only the Himalayas</a></h3>\n",
       " <div class=\"product_price\">\n",
       " <p class=\"price_color\">Â£45.17</p>\n",
       " <p class=\"instock availability\">\n",
       " <i class=\"icon-ok\"></i>\n",
       "     \n",
       "         In stock\n",
       "     \n",
       " </p>\n",
       " <form>\n",
       " <button class=\"btn btn-primary btn-block\" data-loading-text=\"Adding...\" type=\"submit\">Add to basket</button>\n",
       " </form>\n",
       " </div>\n",
       " </article>]"
      ]
     },
     "execution_count": 60,
     "metadata": {},
     "output_type": "execute_result"
    }
   ],
   "source": [
    "soup.select('.product_pod')"
   ]
  },
  {
   "cell_type": "code",
   "execution_count": 61,
   "id": "fcfb0f63",
   "metadata": {},
   "outputs": [
    {
     "data": {
      "text/plain": [
       "20"
      ]
     },
     "execution_count": 61,
     "metadata": {},
     "output_type": "execute_result"
    }
   ],
   "source": [
    "len(soup.select('.product_pod'))"
   ]
  },
  {
   "cell_type": "code",
   "execution_count": 62,
   "id": "9a0878d3",
   "metadata": {},
   "outputs": [],
   "source": [
    "products = soup.select('.product_pod')"
   ]
  },
  {
   "cell_type": "code",
   "execution_count": 63,
   "id": "53e705d9",
   "metadata": {},
   "outputs": [],
   "source": [
    "example = products[0]"
   ]
  },
  {
   "cell_type": "code",
   "execution_count": 64,
   "id": "48f6754b",
   "metadata": {},
   "outputs": [
    {
     "data": {
      "text/plain": [
       "False"
      ]
     },
     "execution_count": 64,
     "metadata": {},
     "output_type": "execute_result"
    }
   ],
   "source": [
    "'star-rating Two' in str(example)"
   ]
  },
  {
   "cell_type": "code",
   "execution_count": 65,
   "id": "28070ee2",
   "metadata": {},
   "outputs": [
    {
     "data": {
      "text/plain": [
       "True"
      ]
     },
     "execution_count": 65,
     "metadata": {},
     "output_type": "execute_result"
    }
   ],
   "source": [
    "'star-rating Three' in str(example)"
   ]
  },
  {
   "cell_type": "code",
   "execution_count": 66,
   "id": "1275cdf8",
   "metadata": {},
   "outputs": [
    {
     "data": {
      "text/plain": [
       "[<p class=\"star-rating Three\">\n",
       " <i class=\"icon-star\"></i>\n",
       " <i class=\"icon-star\"></i>\n",
       " <i class=\"icon-star\"></i>\n",
       " <i class=\"icon-star\"></i>\n",
       " <i class=\"icon-star\"></i>\n",
       " </p>]"
      ]
     },
     "execution_count": 66,
     "metadata": {},
     "output_type": "execute_result"
    }
   ],
   "source": [
    "example.select('.star-rating.Three')"
   ]
  },
  {
   "cell_type": "code",
   "execution_count": 67,
   "id": "d9ae5dd7",
   "metadata": {},
   "outputs": [
    {
     "data": {
      "text/plain": [
       "True"
      ]
     },
     "execution_count": 67,
     "metadata": {},
     "output_type": "execute_result"
    }
   ],
   "source": [
    "[] == example.select('.star-rating.Two') # now we know that it wasnt two stars"
   ]
  },
  {
   "cell_type": "code",
   "execution_count": 70,
   "id": "d243e511",
   "metadata": {},
   "outputs": [
    {
     "data": {
      "text/plain": [
       "'A Light in the Attic'"
      ]
     },
     "execution_count": 70,
     "metadata": {},
     "output_type": "execute_result"
    }
   ],
   "source": [
    "example.select('a')[1]['title']"
   ]
  },
  {
   "cell_type": "code",
   "execution_count": null,
   "id": "d65e6448",
   "metadata": {},
   "outputs": [],
   "source": [
    "two_star_titles = []\n",
    "\n",
    "for n in range(1,51):\n",
    "    \n",
    "    scrape_url = base_url.format(n)\n",
    "    res = requests.get(scrape_url)\n",
    "    \n",
    "    soup = bs4.BeautifulSoup(res.text, 'lxml')\n",
    "    books = soup.select(\".product_pod\")\n",
    "    \n",
    "    for book in books:\n",
    "        \n",
    "        if len(book.select('.star-rating.Two')) != 0:\n",
    "            \n",
    "            book_title = book.select('a')[1]['title']\n",
    "            two_star_titles.append(book_title)"
   ]
  },
  {
   "cell_type": "code",
   "execution_count": null,
   "id": "2aab7c9f",
   "metadata": {},
   "outputs": [],
   "source": [
    "two_star_titles"
   ]
  },
  {
   "cell_type": "markdown",
   "id": "26a5c814",
   "metadata": {},
   "source": [
    "it should display all the boooks with 2 star ratings"
   ]
  }
 ],
 "metadata": {
  "kernelspec": {
   "display_name": "Python 3 (ipykernel)",
   "language": "python",
   "name": "python3"
  },
  "language_info": {
   "codemirror_mode": {
    "name": "ipython",
    "version": 3
   },
   "file_extension": ".py",
   "mimetype": "text/x-python",
   "name": "python",
   "nbconvert_exporter": "python",
   "pygments_lexer": "ipython3",
   "version": "3.9.13"
  }
 },
 "nbformat": 4,
 "nbformat_minor": 5
}
