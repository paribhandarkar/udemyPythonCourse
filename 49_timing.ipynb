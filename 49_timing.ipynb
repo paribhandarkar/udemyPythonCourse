{
 "cells": [
  {
   "cell_type": "markdown",
   "id": "a36af7dd",
   "metadata": {},
   "source": [
    "As you learn more python, you're inevitably going to discover multiple solutions for a single task,\n",
    "and you're probably going to find yourself trying to figure out what was the most efficient approach.\n",
    "So if you have maybe three solutions to the exact same problem, you want to choose the fastest and\n",
    "most efficient one.\n",
    "\n",
    "And an easy way to do this is to time your code's performance."
   ]
  },
  {
   "cell_type": "code",
   "execution_count": 2,
   "id": "16b77c18",
   "metadata": {},
   "outputs": [],
   "source": [
    "def func_one(n):\n",
    "    return [str(num) for num in range(n)]"
   ]
  },
  {
   "cell_type": "code",
   "execution_count": 3,
   "id": "a56d5854",
   "metadata": {},
   "outputs": [
    {
     "data": {
      "text/plain": [
       "['0', '1', '2', '3', '4', '5', '6', '7', '8', '9']"
      ]
     },
     "execution_count": 3,
     "metadata": {},
     "output_type": "execute_result"
    }
   ],
   "source": [
    "func_one(10)"
   ]
  },
  {
   "cell_type": "markdown",
   "id": "0084369a",
   "metadata": {},
   "source": [
    "So it's just grabbing the number in range and then converting it to a string.\n",
    "Returns it all as a list through a list comprehension."
   ]
  },
  {
   "cell_type": "code",
   "execution_count": 4,
   "id": "6173823e",
   "metadata": {},
   "outputs": [],
   "source": [
    "def func_two(n):\n",
    "    return list(map(str, range(n)))"
   ]
  },
  {
   "cell_type": "code",
   "execution_count": 5,
   "id": "79251657",
   "metadata": {},
   "outputs": [
    {
     "data": {
      "text/plain": [
       "['0', '1', '2', '3', '4', '5', '6', '7', '8', '9']"
      ]
     },
     "execution_count": 5,
     "metadata": {},
     "output_type": "execute_result"
    }
   ],
   "source": [
    "func_one(10)"
   ]
  },
  {
   "cell_type": "markdown",
   "id": "45c07745",
   "metadata": {},
   "source": [
    "So what this is doing is you get the same values from range n and then you convert them all to a string\n",
    "by mapping the string function to each number that results in range.\n",
    "And you convert that whole thing into a list by calling list on it."
   ]
  },
  {
   "cell_type": "markdown",
   "id": "e23eb851",
   "metadata": {},
   "source": [
    "So you'll notice Funk one and Funk two are essentially two separate solutions to the exact same problem\n",
    "over turn back the same result.\n",
    "\n",
    "Now we want to know which one's more efficient."
   ]
  },
  {
   "cell_type": "code",
   "execution_count": 7,
   "id": "f57012b5",
   "metadata": {},
   "outputs": [],
   "source": [
    "import time"
   ]
  },
  {
   "cell_type": "code",
   "execution_count": 8,
   "id": "901a7609",
   "metadata": {},
   "outputs": [],
   "source": [
    "# grab the current time before we run the code\n",
    "\n",
    "start_time = time.time() # this just grabs from your operating system what time it is.\n",
    "\n",
    "# then we will run the code\n",
    "\n",
    "result = func_one(1000000)\n",
    "\n",
    "# grab the current time after running the code\n",
    "\n",
    "end_time = time.time() # this just grabs from your operating system what time it is.\n",
    "\n",
    "# elapsed time\n",
    "\n",
    "elapsed_time = end_time - start_time"
   ]
  },
  {
   "cell_type": "code",
   "execution_count": 9,
   "id": "e78ecd65",
   "metadata": {},
   "outputs": [
    {
     "data": {
      "text/plain": [
       "0.273252010345459"
      ]
     },
     "execution_count": 9,
     "metadata": {},
     "output_type": "execute_result"
    }
   ],
   "source": [
    "elapsed_time"
   ]
  },
  {
   "cell_type": "code",
   "execution_count": 10,
   "id": "f1b81b94",
   "metadata": {},
   "outputs": [],
   "source": [
    "# grab the current time before we run the code\n",
    "\n",
    "start_time = time.time() # this just grabs from your operating system what time it is.\n",
    "\n",
    "# then we will run the code\n",
    "\n",
    "result = func_two(1000000)\n",
    "\n",
    "# grab the current time after running the code\n",
    "\n",
    "end_time = time.time() # this just grabs from your operating system what time it is.\n",
    "\n",
    "# elapsed time\n",
    "\n",
    "elapsed_time = end_time - start_time"
   ]
  },
  {
   "cell_type": "code",
   "execution_count": 11,
   "id": "5b0cf6b3",
   "metadata": {},
   "outputs": [
    {
     "data": {
      "text/plain": [
       "0.21424293518066406"
      ]
     },
     "execution_count": 11,
     "metadata": {},
     "output_type": "execute_result"
    }
   ],
   "source": [
    "elapsed_time"
   ]
  },
  {
   "cell_type": "markdown",
   "id": "8269cc21",
   "metadata": {},
   "source": [
    "function two was slightly faster"
   ]
  },
  {
   "cell_type": "markdown",
   "id": "6f7d3589",
   "metadata": {},
   "source": [
    "So for something like this, these are both running so fast, it becomes really hard to actually compare\n",
    "their performance and whether or not there is a true difference between function two and function one,\n",
    "it does look like function two is performing faster, but it's really hard to tell from this how much\n",
    "faster it's performing.\n",
    "\n",
    "So what we're going to do is instead use the timeit module, which is specifically designed to time\n",
    "code.\n",
    "\n",
    "So again, this is a very simple method that you can use for larger blocks of code that are simpler\n",
    "and you just want to get some total elapsed seconds.\n",
    "But when you actually want to know down to the efficiency which one is taking less time, it's time\n",
    "to move on to the timeit module."
   ]
  },
  {
   "cell_type": "code",
   "execution_count": 12,
   "id": "04c205f2",
   "metadata": {},
   "outputs": [],
   "source": [
    "import timeit"
   ]
  },
  {
   "cell_type": "markdown",
   "id": "055c3323",
   "metadata": {},
   "source": [
    "timeit.timeit()\n",
    "if you do shift tab you will find\n",
    "\n",
    "number - number of times you actually want to run this code because time is going to run the statement code over and over and over again to figure out just how efficient it is.\n",
    "\n",
    "stmt - passed in as strings. the actual code I want to run\n",
    "\n",
    "setup - passed in as strings, what code needs to be run before you call stmt over and over again"
   ]
  },
  {
   "cell_type": "code",
   "execution_count": 14,
   "id": "1a90ba1b",
   "metadata": {},
   "outputs": [],
   "source": [
    "stmt = '''\n",
    "func_one(100)\n",
    "'''"
   ]
  },
  {
   "cell_type": "code",
   "execution_count": 16,
   "id": "46736caa",
   "metadata": {},
   "outputs": [],
   "source": [
    "setup = '''\n",
    "def func_one(n):\n",
    "    return [str(num) for num in range(n)]\n",
    "'''"
   ]
  },
  {
   "cell_type": "markdown",
   "id": "a02eb069",
   "metadata": {},
   "source": [
    "statement is calling function one which means setup should have function one define.\n",
    "\n",
    "So statement is what you're going to be calling over and over again.\n",
    "\n",
    "Set up just gets called once in order to set everything up for the statement code.\n",
    "\n",
    "So for the statement code I need to set up function one in my setup, essentially defining it."
   ]
  },
  {
   "cell_type": "code",
   "execution_count": 18,
   "id": "324fdc15",
   "metadata": {},
   "outputs": [
    {
     "data": {
      "text/plain": [
       "1.921478499999921"
      ]
     },
     "execution_count": 18,
     "metadata": {},
     "output_type": "execute_result"
    }
   ],
   "source": [
    "timeit.timeit(stmt, setup, number=100000)"
   ]
  },
  {
   "cell_type": "markdown",
   "id": "695ce77a",
   "metadata": {},
   "source": [
    "now again for function 2"
   ]
  },
  {
   "cell_type": "code",
   "execution_count": 22,
   "id": "2a99cff0",
   "metadata": {},
   "outputs": [],
   "source": [
    "stmt2 = '''\n",
    "func_two(100)\n",
    "'''"
   ]
  },
  {
   "cell_type": "code",
   "execution_count": 23,
   "id": "4a9f2946",
   "metadata": {},
   "outputs": [],
   "source": [
    "setup2 = '''\n",
    "def func_two(n):\n",
    "    return list(map(str, range(n)))\n",
    "'''"
   ]
  },
  {
   "cell_type": "code",
   "execution_count": 24,
   "id": "d7a80f34",
   "metadata": {},
   "outputs": [
    {
     "data": {
      "text/plain": [
       "1.4705908999999338"
      ]
     },
     "execution_count": 24,
     "metadata": {},
     "output_type": "execute_result"
    }
   ],
   "source": [
    "timeit.timeit(stmt2, setup2, number=100000)"
   ]
  },
  {
   "cell_type": "markdown",
   "id": "dcb376f6",
   "metadata": {},
   "source": [
    "And you'll notice that function two does look to be performing faster.\n",
    "\n",
    "And if you want to get more clarity on this, you can go ahead and just run it more times."
   ]
  },
  {
   "cell_type": "markdown",
   "id": "69e93226",
   "metadata": {},
   "source": [
    "1 million times, you should know or have a discernible difference if one is much faster than\n",
    "the other. keep in mind, depending on your hardware, it may take longer,"
   ]
  },
  {
   "cell_type": "markdown",
   "id": "992060a2",
   "metadata": {},
   "source": [
    "jupyter Notebook has actually a magic method,\n",
    "so to speak, which essentially calls time it within a cell\n",
    "\n",
    "what's nice about this is you don't need to provide any setup because Jupyter Notebook\n",
    "will use the previous cells that you've already defined as setup"
   ]
  },
  {
   "cell_type": "code",
   "execution_count": 27,
   "id": "c8642cc3",
   "metadata": {},
   "outputs": [
    {
     "name": "stdout",
     "output_type": "stream",
     "text": [
      "19.8 µs ± 1.14 µs per loop (mean ± std. dev. of 7 runs, 100000 loops each)\n"
     ]
    }
   ],
   "source": [
    "%%timeit\n",
    "func_one(100)"
   ]
  },
  {
   "cell_type": "code",
   "execution_count": 28,
   "id": "0e4fffe5",
   "metadata": {},
   "outputs": [
    {
     "name": "stdout",
     "output_type": "stream",
     "text": [
      "15.3 µs ± 1.57 µs per loop (mean ± std. dev. of 7 runs, 100000 loops each)\n"
     ]
    }
   ],
   "source": [
    "%%timeit\n",
    "func_two(100)"
   ]
  },
  {
   "cell_type": "markdown",
   "id": "7140555e",
   "metadata": {},
   "source": [
    "We'll run this for 100,000 loops so it's running this for 100,000 loops and then it tells you the best\n",
    "of three.\n",
    "\n",
    "So here again, we're confirming that function two is running a bit faster."
   ]
  }
 ],
 "metadata": {
  "kernelspec": {
   "display_name": "Python 3 (ipykernel)",
   "language": "python",
   "name": "python3"
  },
  "language_info": {
   "codemirror_mode": {
    "name": "ipython",
    "version": 3
   },
   "file_extension": ".py",
   "mimetype": "text/x-python",
   "name": "python",
   "nbconvert_exporter": "python",
   "pygments_lexer": "ipython3",
   "version": "3.9.13"
  }
 },
 "nbformat": 4,
 "nbformat_minor": 5
}
