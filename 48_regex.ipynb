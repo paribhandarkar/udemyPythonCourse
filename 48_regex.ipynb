{
 "cells": [
  {
   "cell_type": "code",
   "execution_count": 33,
   "id": "cc8133de",
   "metadata": {},
   "outputs": [
    {
     "data": {
      "text/plain": [
       "True"
      ]
     },
     "execution_count": 33,
     "metadata": {},
     "output_type": "execute_result"
    }
   ],
   "source": [
    "\"dog\" in \"my dog i love\""
   ]
  },
  {
   "cell_type": "markdown",
   "id": "08e1da39",
   "metadata": {},
   "source": [
    "We already know that we can actually search for sub strings within a larger string with the in operator.\n",
    "\n",
    "Now we can already see this has severe limitations.\n",
    "\n",
    "We need to know the exact string we're looking for and we need to perform additional operations to account\n",
    "for things like capitalization and punctuation.\n",
    "So what if we only want to search for a pattern structure of a string we're looking for?\n",
    "That is to say, what if we know that we're looking for an email but we don't know the exact email we're\n",
    "looking for.\n",
    "We're just looking for all the emails within a document, or we're looking for something like a phone\n",
    "number where we know the general structure of the way a phone number is presented, but we don't actually\n",
    "know the exact phone number we're looking for.\n",
    "\n",
    "This is where regular expressions or regex for short allow us to search for general patterns in text\n",
    "data.\n",
    "\n",
    "if I wanted to find all the emails within\n",
    "a very large document of text, I know I'm looking for some pattern of text@text.com\n",
    "\n",
    "So essentially what we're looking for is what we don't actually know exactly or precisely.\n",
    "That is, I know there's going to be some text for the username and I know there's some sort of domain\n",
    "name.\n",
    "\n",
    "And then I have the things that I'll assume I do know.\n",
    "In this case, I will assume that there's an @ in between the user and the domain.\n",
    "And in this case, I assume the domain name ends in .com\n",
    "\n",
    "So what I can use regular expressions for is to construct a generalized pattern to search for something\n",
    "like this.\n",
    "\n",
    "So Python comes with this built in regular expressions library or re for short and you import it as\n",
    "re and the library allows us to create specialized pattern strings and then search for matches within\n",
    "text."
   ]
  },
  {
   "cell_type": "markdown",
   "id": "cdb08a67",
   "metadata": {},
   "source": [
    "So here's a simple example of what a generalized regular expression could look like.\n",
    "Let's imagine I'm looking for a phone number, and I know that it's in this format somewhere within\n",
    "a very large document.\n",
    "\n",
    "(555)-555-5555\n",
    "\n",
    "I know it's going to have three numbers in parentheses, a dash and other set of three numbers a dash and then a set of four numbers.\n",
    "\n",
    "An example regular expression pattern could look like this.\n",
    "\n",
    "r\"(\\d\\d\\d)-\\d\\d\\d-\\d\\d\\d\\d\"\n",
    "\n",
    "So let's focus on what's happening here.\n",
    "Notice that outside of the string there's an r and that basically informs Python, especially when you're\n",
    "using the regular expression library that don't treat this as just a normal string.\n",
    "There's actually identifiers within this string, and you'll notice that there's a bunch of back slashes\n",
    "which corresponds to the individual identifiers.\n",
    "\n",
    "So these identifiers are essentially just placeholders, almost like wild cards, waiting for a match\n",
    "based off a particular data type.\n",
    "And in this particular case, backslash d stands for digit.\n",
    "So this is essentially saying I'm looking for three digits in a row.\n",
    "It doesn't actually care what the digits are because we don't know what the digits are yet.\n",
    "We just know that they're going to be in this format.\n",
    "\n",
    "And then you'll notice the other strings that are present are the format strings themselves.\n",
    "I know there's going to be parentheses.\n",
    "I know there's going to be a dash.\n",
    "\n",
    "And those you'll  donnotice't have a backslash associated with them because they're not an actual identifier\n",
    "for a regular expression.\n",
    "We are actually looking for that exact string.\n",
    "\n",
    "So again, we have these general identifiers and then the exact strings we're looking for.\n",
    "And this in turn constructs a general regular expression pattern."
   ]
  },
  {
   "cell_type": "code",
   "execution_count": 34,
   "id": "915653b2",
   "metadata": {},
   "outputs": [],
   "source": [
    "text = \"my phone number is 4327672628\"\n",
    "pattern = \"phone\""
   ]
  },
  {
   "cell_type": "code",
   "execution_count": 35,
   "id": "7c38ee9a",
   "metadata": {},
   "outputs": [],
   "source": [
    "import re"
   ]
  },
  {
   "cell_type": "code",
   "execution_count": 36,
   "id": "b9856192",
   "metadata": {},
   "outputs": [
    {
     "data": {
      "text/plain": [
       "<re.Match object; span=(3, 8), match='phone'>"
      ]
     },
     "execution_count": 36,
     "metadata": {},
     "output_type": "execute_result"
    }
   ],
   "source": [
    "re.search(pattern, text)"
   ]
  },
  {
   "cell_type": "markdown",
   "id": "084aec9f",
   "metadata": {},
   "source": [
    "This match object will report back not just whether there was a match to the phone, but also where\n",
    "the actual index location spanned to.\n",
    "So it starts at index 3 and then ends at index 8."
   ]
  },
  {
   "cell_type": "code",
   "execution_count": 37,
   "id": "2ea3042a",
   "metadata": {},
   "outputs": [],
   "source": [
    "pattern = \"not in text\""
   ]
  },
  {
   "cell_type": "code",
   "execution_count": 38,
   "id": "535f9921",
   "metadata": {},
   "outputs": [],
   "source": [
    "re.search(pattern,text)"
   ]
  },
  {
   "cell_type": "markdown",
   "id": "e67f2a24",
   "metadata": {},
   "source": [
    "we get back none which means we don't really get back anything because there is no match."
   ]
  },
  {
   "cell_type": "code",
   "execution_count": 39,
   "id": "db4c22d4",
   "metadata": {},
   "outputs": [],
   "source": [
    "# reseting back\n",
    "pattern = \"phone\""
   ]
  },
  {
   "cell_type": "code",
   "execution_count": 40,
   "id": "32718376",
   "metadata": {},
   "outputs": [],
   "source": [
    "match = re.search(pattern,text)"
   ]
  },
  {
   "cell_type": "code",
   "execution_count": 41,
   "id": "a53e7015",
   "metadata": {},
   "outputs": [
    {
     "data": {
      "text/plain": [
       "<re.Match object; span=(3, 8), match='phone'>"
      ]
     },
     "execution_count": 41,
     "metadata": {},
     "output_type": "execute_result"
    }
   ],
   "source": [
    "match"
   ]
  },
  {
   "cell_type": "code",
   "execution_count": 42,
   "id": "712067ba",
   "metadata": {},
   "outputs": [
    {
     "data": {
      "text/plain": [
       "(3, 8)"
      ]
     },
     "execution_count": 42,
     "metadata": {},
     "output_type": "execute_result"
    }
   ],
   "source": [
    "match.span()"
   ]
  },
  {
   "cell_type": "code",
   "execution_count": 43,
   "id": "24a93c5c",
   "metadata": {},
   "outputs": [
    {
     "data": {
      "text/plain": [
       "3"
      ]
     },
     "execution_count": 43,
     "metadata": {},
     "output_type": "execute_result"
    }
   ],
   "source": [
    "match.start()"
   ]
  },
  {
   "cell_type": "code",
   "execution_count": 44,
   "id": "2d4aa2b4",
   "metadata": {},
   "outputs": [
    {
     "data": {
      "text/plain": [
       "8"
      ]
     },
     "execution_count": 44,
     "metadata": {},
     "output_type": "execute_result"
    }
   ],
   "source": [
    "match.end()"
   ]
  },
  {
   "cell_type": "markdown",
   "id": "e8ad8af0",
   "metadata": {},
   "source": [
    "if we had multiple matches inside the string, we would unfortunately only get back the first match.\n",
    "If I want to find multiple matches or all the matches, I can use the find all function instead."
   ]
  },
  {
   "cell_type": "code",
   "execution_count": 45,
   "id": "6f89ed3f",
   "metadata": {},
   "outputs": [],
   "source": [
    "text = \"my phone once, my phone twice\""
   ]
  },
  {
   "cell_type": "code",
   "execution_count": 46,
   "id": "d7e8d555",
   "metadata": {},
   "outputs": [
    {
     "data": {
      "text/plain": [
       "(3, 8)"
      ]
     },
     "execution_count": 46,
     "metadata": {},
     "output_type": "execute_result"
    }
   ],
   "source": [
    "match.span() # only the first match"
   ]
  },
  {
   "cell_type": "code",
   "execution_count": 47,
   "id": "066c5451",
   "metadata": {},
   "outputs": [],
   "source": [
    "matches = re.findall(pattern,text)"
   ]
  },
  {
   "cell_type": "code",
   "execution_count": 48,
   "id": "206345ee",
   "metadata": {},
   "outputs": [
    {
     "data": {
      "text/plain": [
       "['phone', 'phone']"
      ]
     },
     "execution_count": 48,
     "metadata": {},
     "output_type": "execute_result"
    }
   ],
   "source": [
    "matches"
   ]
  },
  {
   "cell_type": "markdown",
   "id": "744bbd88",
   "metadata": {},
   "source": [
    "And if I want to get that back actual match objects, then I use the iterator."
   ]
  },
  {
   "cell_type": "code",
   "execution_count": 49,
   "id": "c8d5be96",
   "metadata": {},
   "outputs": [
    {
     "data": {
      "text/plain": [
       "2"
      ]
     },
     "execution_count": 49,
     "metadata": {},
     "output_type": "execute_result"
    }
   ],
   "source": [
    "len(matches)"
   ]
  },
  {
   "cell_type": "code",
   "execution_count": 50,
   "id": "4278de93",
   "metadata": {},
   "outputs": [
    {
     "name": "stdout",
     "output_type": "stream",
     "text": [
      "<re.Match object; span=(3, 8), match='phone'>\n",
      "(3, 8)\n",
      "phone\n",
      "<re.Match object; span=(18, 23), match='phone'>\n",
      "(18, 23)\n",
      "phone\n"
     ]
    }
   ],
   "source": [
    "for match in re.finditer(pattern,text):\n",
    "    print(match)\n",
    "    print(match.span())\n",
    "    print(match.group()) # if you wanted the actual text that matched"
   ]
  },
  {
   "cell_type": "markdown",
   "id": "eeb4d3b4",
   "metadata": {},
   "source": [
    "what this does is it iterates through this text and then returns each match object that's found.\n",
    "\n",
    "So just like before, when we were using search, we return back the first match object, essentially\n",
    "indicating where we first matched up.\n",
    "\n",
    "if we use find all, it just returns back a list of the strings themselves.\n",
    "\n",
    "if I want to kind of combine these two by iterating through the text object and then finding every single\n",
    "match object I use, finditer().\n",
    "So you're going to need to essentially use a for loop with this to iterate."
   ]
  },
  {
   "cell_type": "markdown",
   "id": "0d49ee35",
   "metadata": {},
   "source": [
    "### Character identifier"
   ]
  },
  {
   "cell_type": "markdown",
   "id": "c31e2ed9",
   "metadata": {},
   "source": [
    "Basically, you'll have special character identifiers that start off with the backslash code and then\n",
    "a letter indicating what character you're referencing.\n",
    "\n",
    "<table>\n",
    "    <tr>\n",
    "    <th>character</th>\n",
    "    <th>desc.</th>    \n",
    "    <th>eg. pattern code</th>    \n",
    "    <th>eg. match</th> \n",
    "    </tr>\n",
    "    <tr>\n",
    "        <td>\\d</td>\n",
    "        <td>a digit</td>   \n",
    "        <td>file_\\d\\d</td>    \n",
    "        <td>file_25</td>   \n",
    "    </tr>\n",
    "    <tr>\n",
    "        <td>\\w</td>\n",
    "        <td>alphanumeric</td>   \n",
    "        <td>\\w-\\w\\w\\w</td>    \n",
    "        <td>A-b_1</td>   \n",
    "    </tr>\n",
    "    <tr>\n",
    "        <td>\\s</td>\n",
    "        <td>white space</td>   \n",
    "        <td>a\\sb\\sc</td>    \n",
    "        <td>a b c</td>   \n",
    "    </tr>\n",
    "    <tr>\n",
    "        <td>\\D</td>\n",
    "        <td>non digit</td>   \n",
    "        <td>\\D\\D\\D</td>    \n",
    "        <td>ABC</td>   \n",
    "    </tr>\n",
    "    <tr>\n",
    "        <td>\\W</td>\n",
    "        <td>non alphanumeric</td>   \n",
    "        <td>\\W\\W\\W\\W\\W</td>    \n",
    "        <td>*-+=)</td>   \n",
    "    </tr>\n",
    "    <tr>\n",
    "        <td>\\S</td>\n",
    "        <td>non white space</td>   \n",
    "        <td>\\S\\S\\S\\S</td>    \n",
    "        <td>Yoyo</td>   \n",
    "    </tr>"
   ]
  },
  {
   "cell_type": "code",
   "execution_count": 51,
   "id": "60ac36da",
   "metadata": {},
   "outputs": [],
   "source": [
    "text = \"my phone number is 333-456-7836\""
   ]
  },
  {
   "cell_type": "code",
   "execution_count": 52,
   "id": "23e5d7b4",
   "metadata": {},
   "outputs": [],
   "source": [
    "phone = re.search(r\"\\d\\d\\d-\\d\\d\\d-\\d\\d\\d\\d\",text)"
   ]
  },
  {
   "cell_type": "code",
   "execution_count": 53,
   "id": "aa3286d6",
   "metadata": {},
   "outputs": [
    {
     "data": {
      "text/plain": [
       "<re.Match object; span=(19, 31), match='333-456-7836'>"
      ]
     },
     "execution_count": 53,
     "metadata": {},
     "output_type": "execute_result"
    }
   ],
   "source": [
    "phone"
   ]
  },
  {
   "cell_type": "code",
   "execution_count": 54,
   "id": "a39c31c8",
   "metadata": {},
   "outputs": [
    {
     "data": {
      "text/plain": [
       "'333-456-7836'"
      ]
     },
     "execution_count": 54,
     "metadata": {},
     "output_type": "execute_result"
    }
   ],
   "source": [
    "phone.group() # this is how you could actually grab that phone number itself"
   ]
  },
  {
   "cell_type": "markdown",
   "id": "b4ba75c2",
   "metadata": {},
   "source": [
    "For every single digit in this phone number, we wrote a \\d But what if we were looking for a pattern that included 20 digits or 100 digits?\n",
    "We wouldn't want to have to write \\d 20, 50 or 100 times.\n",
    "\n",
    "For this reason we can use Quantifier to indicate repetition of the same character.\n",
    "So we already know our character identifiers.\n",
    "Now let's learn about the quantifier allowing us to not have to write these multiple times."
   ]
  },
  {
   "cell_type": "markdown",
   "id": "1c3921df",
   "metadata": {},
   "source": [
    "<table>\n",
    "    <tr>\n",
    "    <th>character</th>\n",
    "    <th>desc.</th>    \n",
    "    <th>eg. pattern code</th>    \n",
    "    <th>eg. match</th> \n",
    "    </tr>\n",
    "    <tr>\n",
    "        <td>+</td>\n",
    "        <td>occurs one or more times</td>\n",
    "        <td>Version \\w-\\w+</td>\n",
    "        <td>Version A-b1_1</td>\n",
    "    </tr>\n",
    "    <tr>\n",
    "        <td>{3}</td>\n",
    "        <td>occurs exactly 3 times</td>\n",
    "        <td>\\D{3}</td>\n",
    "        <td>abc</td>\n",
    "    </tr>\n",
    "    <tr>\n",
    "        <td>{2,4}</td>\n",
    "        <td>occurs 2 to 4 times</td>\n",
    "        <td>\\d{2,4}</td>\n",
    "        <td>123</td>\n",
    "    </tr>\n",
    "    <tr>\n",
    "        <td>{3,}</td>\n",
    "        <td>occurs 3 or more times</td>\n",
    "        <td>\\w{3,}</td>\n",
    "        <td>anycharacter</td>\n",
    "    </tr>\n",
    "    <tr>\n",
    "        <td>*</td>\n",
    "        <td>occurs 0 or more times</td>\n",
    "        <td>A*B*C*</td>\n",
    "        <td>AAAACCC</td>\n",
    "    </tr>\n",
    "    <tr>\n",
    "        <td>?</td>\n",
    "        <td>once or none</td>\n",
    "        <td>plurals?</td>\n",
    "        <td>plural</td>\n",
    "    </tr>\n",
    "</table>\n",
    "\n",
    "And basically the way the syntax works is you stick your character identifier and then immediately after\n",
    "it you stick this quantifier if you want to indicate a certain quantity\n",
    "\n"
   ]
  },
  {
   "cell_type": "code",
   "execution_count": 59,
   "id": "c819e5c1",
   "metadata": {},
   "outputs": [],
   "source": [
    "phone = re.search(r\"\\d{3}-\\d{3}-\\d{4}\",text)"
   ]
  },
  {
   "cell_type": "code",
   "execution_count": 60,
   "id": "126f55f7",
   "metadata": {},
   "outputs": [
    {
     "data": {
      "text/plain": [
       "<re.Match object; span=(19, 31), match='333-456-7836'>"
      ]
     },
     "execution_count": 60,
     "metadata": {},
     "output_type": "execute_result"
    }
   ],
   "source": [
    "phone"
   ]
  },
  {
   "cell_type": "code",
   "execution_count": 61,
   "id": "9cc191a4",
   "metadata": {},
   "outputs": [],
   "source": [
    "phone_pattern = re.compile(r'(\\d{3})-(\\d{3})-(\\d{4})')"
   ]
  },
  {
   "cell_type": "code",
   "execution_count": 63,
   "id": "2af0f326",
   "metadata": {},
   "outputs": [
    {
     "data": {
      "text/plain": [
       "re.compile(r'(\\d{3})-(\\d{3})-(\\d{4})', re.UNICODE)"
      ]
     },
     "execution_count": 63,
     "metadata": {},
     "output_type": "execute_result"
    }
   ],
   "source": [
    "phone_pattern"
   ]
  },
  {
   "cell_type": "code",
   "execution_count": 64,
   "id": "f5f6efec",
   "metadata": {},
   "outputs": [],
   "source": [
    "result = re.search(phone_pattern, text)"
   ]
  },
  {
   "cell_type": "code",
   "execution_count": 65,
   "id": "d8ca8715",
   "metadata": {},
   "outputs": [
    {
     "data": {
      "text/plain": [
       "'333-456-7836'"
      ]
     },
     "execution_count": 65,
     "metadata": {},
     "output_type": "execute_result"
    }
   ],
   "source": [
    "result.group()"
   ]
  },
  {
   "cell_type": "markdown",
   "id": "4560be3a",
   "metadata": {},
   "source": [
    "what a compile does is it compiles together different regular expression pattern codes\n",
    "the parentheses indicate that it's a group of a pattern.\n",
    "it takes multiple pattern codes and each pattern code is separated with parentheses\n",
    "as a group, and then it compiles them into a single expression.\n",
    "\n",
    "So what this is going to do is it's going to compile these into this expression.\n",
    "But what's nice about using the compile is that it's still understands that these were three separate\n",
    "groupings.\n",
    "\n",
    "So you could call the groupings individually."
   ]
  },
  {
   "cell_type": "markdown",
   "id": "68650e45",
   "metadata": {},
   "source": [
    "here is a little bit of a differentiation\n",
    "from normal Python code, we don't start indexing at zero, we're starting at one.\n",
    "So group ordering starts at one."
   ]
  },
  {
   "cell_type": "code",
   "execution_count": 66,
   "id": "38e7ec88",
   "metadata": {},
   "outputs": [
    {
     "data": {
      "text/plain": [
       "'333'"
      ]
     },
     "execution_count": 66,
     "metadata": {},
     "output_type": "execute_result"
    }
   ],
   "source": [
    "result.group(1)"
   ]
  },
  {
   "cell_type": "code",
   "execution_count": 67,
   "id": "a6433c9f",
   "metadata": {},
   "outputs": [
    {
     "data": {
      "text/plain": [
       "'7836'"
      ]
     },
     "execution_count": 67,
     "metadata": {},
     "output_type": "execute_result"
    }
   ],
   "source": [
    "result.group(3)"
   ]
  },
  {
   "cell_type": "code",
   "execution_count": 68,
   "id": "3e6fded9",
   "metadata": {},
   "outputs": [
    {
     "ename": "IndexError",
     "evalue": "no such group",
     "output_type": "error",
     "traceback": [
      "\u001b[1;31m---------------------------------------------------------------------------\u001b[0m",
      "\u001b[1;31mIndexError\u001b[0m                                Traceback (most recent call last)",
      "\u001b[1;32m~\\AppData\\Local\\Temp\\ipykernel_11760\\3067188583.py\u001b[0m in \u001b[0;36m<module>\u001b[1;34m\u001b[0m\n\u001b[1;32m----> 1\u001b[1;33m \u001b[0mresult\u001b[0m\u001b[1;33m.\u001b[0m\u001b[0mgroup\u001b[0m\u001b[1;33m(\u001b[0m\u001b[1;36m4\u001b[0m\u001b[1;33m)\u001b[0m\u001b[1;33m\u001b[0m\u001b[1;33m\u001b[0m\u001b[0m\n\u001b[0m",
      "\u001b[1;31mIndexError\u001b[0m: no such group"
     ]
    }
   ],
   "source": [
    "result.group(4)"
   ]
  },
  {
   "cell_type": "markdown",
   "id": "89447dba",
   "metadata": {},
   "source": [
    "if I ask for a group that is outside of this, such as group four, it's going to say sorry, there\n",
    "is no such group because here we only had three sets of parentheses first group, second group and third\n",
    "group."
   ]
  },
  {
   "cell_type": "markdown",
   "id": "145fc152",
   "metadata": {},
   "source": [
    "that's why the compile function along with the group method is so powerful"
   ]
  },
  {
   "cell_type": "markdown",
   "id": "ac6987b2",
   "metadata": {},
   "source": [
    "if we want to grab subsections or subgroups of our entire pattern, we can use\n",
    "the compile function to create the actual pattern instead of just passing in the pattern as a whole\n",
    "string separating each group with parentheses.\n",
    "And then we can say grouped together off of the search results in order to grab everything together.\n",
    "\n",
    "But if we only want to grab subgroups, we can say group.\n",
    "And then that group position where group positions start at"
   ]
  },
  {
   "cell_type": "markdown",
   "id": "418122cd",
   "metadata": {},
   "source": [
    "### additional regex syntax"
   ]
  },
  {
   "cell_type": "markdown",
   "id": "18b9f28e",
   "metadata": {},
   "source": [
    "the OR operator.\n",
    "Sometimes you're going to want to search for multiple terms.\n",
    "You can use the OR operator to do this."
   ]
  },
  {
   "cell_type": "code",
   "execution_count": 69,
   "id": "0417d34c",
   "metadata": {},
   "outputs": [
    {
     "data": {
      "text/plain": [
       "<re.Match object; span=(4, 7), match='cat'>"
      ]
     },
     "execution_count": 69,
     "metadata": {},
     "output_type": "execute_result"
    }
   ],
   "source": [
    "re.search(r'cat|dog', 'the cat is here')"
   ]
  },
  {
   "cell_type": "markdown",
   "id": "964d168b",
   "metadata": {},
   "source": [
    "What if we want it to search for cat or dog?\n",
    "In that case, we can use the pipe operator.\n",
    "\n",
    "So the pipe operator, it looks like |\n",
    "And that stands for or meaning you can search for cat or dog and then we'll get a match if there's a\n",
    "dog there or if there's a cat there.\n",
    "\n",
    "So that's the OR operator."
   ]
  },
  {
   "cell_type": "markdown",
   "id": "373ed1f9",
   "metadata": {},
   "source": [
    "a wild card operator.\n",
    "the wild card acts as a placement that will match any character place there."
   ]
  },
  {
   "cell_type": "code",
   "execution_count": 70,
   "id": "68cafdd0",
   "metadata": {},
   "outputs": [
    {
     "data": {
      "text/plain": [
       "['at', 'at', 'at', 'at']"
      ]
     },
     "execution_count": 70,
     "metadata": {},
     "output_type": "execute_result"
    }
   ],
   "source": [
    "re.findall(r'at', 'the cat is in the hat at mat')"
   ]
  },
  {
   "cell_type": "markdown",
   "id": "d1d0c6bb",
   "metadata": {},
   "source": [
    "But what if I actually wanted to grab the actual letter in front of at?\n",
    "In that case I can provide a period.\n",
    "\n",
    "And that stands for a wild card.\n",
    "Meaning anything here, any wild card there attached to at."
   ]
  },
  {
   "cell_type": "code",
   "execution_count": 72,
   "id": "933b3fe8",
   "metadata": {},
   "outputs": [
    {
     "data": {
      "text/plain": [
       "['cat', 'hat', ' at', 'mat', 'lat']"
      ]
     },
     "execution_count": 72,
     "metadata": {},
     "output_type": "execute_result"
    }
   ],
   "source": [
    "re.findall(r'.at', 'the cat is in the hat at mat also splat')"
   ]
  },
  {
   "cell_type": "code",
   "execution_count": 73,
   "id": "dbe4659e",
   "metadata": {},
   "outputs": [
    {
     "data": {
      "text/plain": [
       "['e cat', 'e hat', 't mat', 'splat']"
      ]
     },
     "execution_count": 73,
     "metadata": {},
     "output_type": "execute_result"
    }
   ],
   "source": [
    "re.findall(r'...at', 'the cat is in the hat at mat also splat') # also going to grab other letters and other spaces"
   ]
  },
  {
   "cell_type": "markdown",
   "id": "19102e60",
   "metadata": {},
   "source": [
    "carrot symbol - if I want to find everything that starts with a number"
   ]
  },
  {
   "cell_type": "code",
   "execution_count": 74,
   "id": "c6de4c22",
   "metadata": {},
   "outputs": [
    {
     "data": {
      "text/plain": [
       "['1']"
      ]
     },
     "execution_count": 74,
     "metadata": {},
     "output_type": "execute_result"
    }
   ],
   "source": [
    "re.findall(r'^\\d','1 is number')"
   ]
  },
  {
   "cell_type": "markdown",
   "id": "8e972d21",
   "metadata": {},
   "source": [
    "So what this indicates is that the string I'm searching through starts with a number.\n",
    "And this returns a match for one because the entire text itself starts with the actual digit.\n",
    "\n",
    "Keep in mind, this is only for the entire text, not for a number randomly inside of this."
   ]
  },
  {
   "cell_type": "code",
   "execution_count": 75,
   "id": "7fba2d8d",
   "metadata": {},
   "outputs": [
    {
     "data": {
      "text/plain": [
       "[]"
      ]
     },
     "execution_count": 75,
     "metadata": {},
     "output_type": "execute_result"
    }
   ],
   "source": [
    "re.findall(r'^\\d','the 2 is number')"
   ]
  },
  {
   "cell_type": "markdown",
   "id": "55581ad5",
   "metadata": {},
   "source": [
    "I'm not going to get any matches here because it's only searching\n",
    "if the entire text itself starts with a number."
   ]
  },
  {
   "cell_type": "code",
   "execution_count": 76,
   "id": "47b0fcf3",
   "metadata": {},
   "outputs": [
    {
     "data": {
      "text/plain": [
       "['2']"
      ]
     },
     "execution_count": 76,
     "metadata": {},
     "output_type": "execute_result"
    }
   ],
   "source": [
    "re.findall(r'\\d$','number is 2')"
   ]
  },
  {
   "cell_type": "markdown",
   "id": "65f9b7ed",
   "metadata": {},
   "source": [
    "dollar sign - ends with\n",
    "\n",
    "carrot/power sign - starts with"
   ]
  },
  {
   "cell_type": "code",
   "execution_count": 77,
   "id": "9dbfee37",
   "metadata": {},
   "outputs": [],
   "source": [
    "phrase = \"there are 3 numbers inside 34 and 6 and lets not forget 4555 here\"\n",
    "pattern = r'[^\\d]'"
   ]
  },
  {
   "cell_type": "code",
   "execution_count": 78,
   "id": "5f653b7a",
   "metadata": {},
   "outputs": [
    {
     "data": {
      "text/plain": [
       "['t',\n",
       " 'h',\n",
       " 'e',\n",
       " 'r',\n",
       " 'e',\n",
       " ' ',\n",
       " 'a',\n",
       " 'r',\n",
       " 'e',\n",
       " ' ',\n",
       " ' ',\n",
       " 'n',\n",
       " 'u',\n",
       " 'm',\n",
       " 'b',\n",
       " 'e',\n",
       " 'r',\n",
       " 's',\n",
       " ' ',\n",
       " 'i',\n",
       " 'n',\n",
       " 's',\n",
       " 'i',\n",
       " 'd',\n",
       " 'e',\n",
       " ' ',\n",
       " ' ',\n",
       " 'a',\n",
       " 'n',\n",
       " 'd',\n",
       " ' ',\n",
       " ' ',\n",
       " 'a',\n",
       " 'n',\n",
       " 'd',\n",
       " ' ',\n",
       " 'l',\n",
       " 'e',\n",
       " 't',\n",
       " 's',\n",
       " ' ',\n",
       " 'n',\n",
       " 'o',\n",
       " 't',\n",
       " ' ',\n",
       " 'f',\n",
       " 'o',\n",
       " 'r',\n",
       " 'g',\n",
       " 'e',\n",
       " 't',\n",
       " ' ',\n",
       " ' ',\n",
       " 'h',\n",
       " 'e',\n",
       " 'r',\n",
       " 'e']"
      ]
     },
     "execution_count": 78,
     "metadata": {},
     "output_type": "execute_result"
    }
   ],
   "source": [
    "re.findall(pattern, phrase)"
   ]
  },
  {
   "cell_type": "markdown",
   "id": "87ccd106",
   "metadata": {},
   "source": [
    "What I want to do is find or get back everything that isn't a number in this sentence.\n",
    "So I want to exclude digits or exclude numbers.\n",
    "\n",
    "And what we can do is if we actually want to get the words back together, I can add a plus sign to the end of this, because remember a plus sign, if we look back at our quantifier, it just says occurs\n",
    "one or more times."
   ]
  },
  {
   "cell_type": "code",
   "execution_count": 79,
   "id": "755cdd1e",
   "metadata": {},
   "outputs": [
    {
     "data": {
      "text/plain": [
       "['there are ', ' numbers inside ', ' and ', ' and lets not forget ', ' here']"
      ]
     },
     "execution_count": 79,
     "metadata": {},
     "output_type": "execute_result"
    }
   ],
   "source": [
    "pattern = r'[^\\d]+'\n",
    "re.findall(pattern, phrase)"
   ]
  },
  {
   "cell_type": "markdown",
   "id": "d3291b83",
   "metadata": {},
   "source": [
    "So why would you use this exclusion syntax?\n",
    "\n",
    "This is a really common way to get rid of punctuation from a sentence."
   ]
  },
  {
   "cell_type": "code",
   "execution_count": 80,
   "id": "fef710ed",
   "metadata": {},
   "outputs": [],
   "source": [
    "test_phrase = \"this is hiii!!! let's remove, 'punctuations'. we can right?\""
   ]
  },
  {
   "cell_type": "code",
   "execution_count": 83,
   "id": "0c370ccb",
   "metadata": {},
   "outputs": [
    {
     "data": {
      "text/plain": [
       "['this is hiii', ' let', 's remove, ', 'punctuations', ' we can right']"
      ]
     },
     "execution_count": 83,
     "metadata": {},
     "output_type": "execute_result"
    }
   ],
   "source": [
    "re.findall(r\"[^!.'?]+\", test_phrase)"
   ]
  },
  {
   "cell_type": "markdown",
   "id": "deb2b667",
   "metadata": {},
   "source": [
    "And something else we can do is add a space here so that it will end up removing the spaces."
   ]
  },
  {
   "cell_type": "code",
   "execution_count": 86,
   "id": "641ec205",
   "metadata": {},
   "outputs": [],
   "source": [
    "clean = re.findall(r\"[^!,.'? ]+\", test_phrase)"
   ]
  },
  {
   "cell_type": "code",
   "execution_count": 87,
   "id": "ef431c8e",
   "metadata": {},
   "outputs": [
    {
     "data": {
      "text/plain": [
       "['this',\n",
       " 'is',\n",
       " 'hiii',\n",
       " 'let',\n",
       " 's',\n",
       " 'remove',\n",
       " 'punctuations',\n",
       " 'we',\n",
       " 'can',\n",
       " 'right']"
      ]
     },
     "execution_count": 87,
     "metadata": {},
     "output_type": "execute_result"
    }
   ],
   "source": [
    "clean"
   ]
  },
  {
   "cell_type": "code",
   "execution_count": 88,
   "id": "d99d7784",
   "metadata": {},
   "outputs": [
    {
     "data": {
      "text/plain": [
       "'this is hiii let s remove punctuations we can right'"
      ]
     },
     "execution_count": 88,
     "metadata": {},
     "output_type": "execute_result"
    }
   ],
   "source": [
    "' '.join(clean)"
   ]
  },
  {
   "cell_type": "code",
   "execution_count": 91,
   "id": "d06754aa",
   "metadata": {},
   "outputs": [],
   "source": [
    "text = \"only find hyphen-words. like long-ish\"\n",
    "pattern = r'[\\w]+'"
   ]
  },
  {
   "cell_type": "code",
   "execution_count": 92,
   "id": "96e80541",
   "metadata": {},
   "outputs": [
    {
     "data": {
      "text/plain": [
       "['only', 'find', 'hyphen', 'words', 'like', 'long', 'ish']"
      ]
     },
     "execution_count": 92,
     "metadata": {},
     "output_type": "execute_result"
    }
   ],
   "source": [
    "re.findall(pattern, text)"
   ]
  },
  {
   "cell_type": "code",
   "execution_count": 95,
   "id": "8379b4a1",
   "metadata": {},
   "outputs": [
    {
     "data": {
      "text/plain": [
       "['hyphen-words', 'long-ish']"
      ]
     },
     "execution_count": 95,
     "metadata": {},
     "output_type": "execute_result"
    }
   ],
   "source": [
    "pattern = r'[\\w]+-[\\w]+'\n",
    "re.findall(pattern, text)"
   ]
  },
  {
   "cell_type": "markdown",
   "id": "f13baeb3",
   "metadata": {},
   "source": [
    "So all this is doing is allowing you to basically combine that or statement we saw earlier with other\n",
    "pieces of text and provide multiple options👇"
   ]
  },
  {
   "cell_type": "code",
   "execution_count": 97,
   "id": "b747a32b",
   "metadata": {},
   "outputs": [],
   "source": [
    "text = \"this is catfish\"\n",
    "text2 = \"this is catnap\"\n",
    "text3 = \"this is caterpillar\""
   ]
  },
  {
   "cell_type": "code",
   "execution_count": 100,
   "id": "f5390cd4",
   "metadata": {},
   "outputs": [
    {
     "data": {
      "text/plain": [
       "<re.Match object; span=(8, 15), match='catfish'>"
      ]
     },
     "execution_count": 100,
     "metadata": {},
     "output_type": "execute_result"
    }
   ],
   "source": [
    "re.search(r'cat(fish|nap|erpillar)',text)"
   ]
  },
  {
   "cell_type": "code",
   "execution_count": 101,
   "id": "010530ed",
   "metadata": {},
   "outputs": [
    {
     "data": {
      "text/plain": [
       "<re.Match object; span=(8, 14), match='catnap'>"
      ]
     },
     "execution_count": 101,
     "metadata": {},
     "output_type": "execute_result"
    }
   ],
   "source": [
    "re.search(r'cat(fish|nap|erpillar)',text2)"
   ]
  },
  {
   "cell_type": "code",
   "execution_count": 102,
   "id": "0057e6f2",
   "metadata": {},
   "outputs": [
    {
     "data": {
      "text/plain": [
       "<re.Match object; span=(8, 19), match='caterpillar'>"
      ]
     },
     "execution_count": 102,
     "metadata": {},
     "output_type": "execute_result"
    }
   ],
   "source": [
    "re.search(r'cat(fish|nap|erpillar)',text3)"
   ]
  }
 ],
 "metadata": {
  "kernelspec": {
   "display_name": "Python 3 (ipykernel)",
   "language": "python",
   "name": "python3"
  },
  "language_info": {
   "codemirror_mode": {
    "name": "ipython",
    "version": 3
   },
   "file_extension": ".py",
   "mimetype": "text/x-python",
   "name": "python",
   "nbconvert_exporter": "python",
   "pygments_lexer": "ipython3",
   "version": "3.9.13"
  }
 },
 "nbformat": 4,
 "nbformat_minor": 5
}
