{
 "cells": [
  {
   "cell_type": "markdown",
   "id": "9336c2e9",
   "metadata": {},
   "source": [
    "generator functions allow us to write a function that can send back a value and then later resume to pick up where it left off.\n",
    "The basic idea is that generators allow us to generate a sequence of values over time instead of having to create an entire sequence and hold it in memory.\n",
    "\n",
    "when a generator function is compiled, they become an object that supports some sort of iteration protocol.\n",
    "That means when they're actually called in your code, they don't return a value and then exit.\n",
    "\n",
    "Instead, generator functions will automatically suspend and resume their execution state around the last point of value generation.\n",
    "\n",
    "The advantage here is that instead of having to compute an entire series of values up front and hold it in memory, the generator computes one value and waits until the next value is called for.\n",
    "\n",
    "So you can imagine if you wanted to get all the numbers between one and 1 million, you have two options here.\n",
    "\n",
    "You can either start generating values one, two, three, four, and then feed them that way, for example, in a for loop.\n",
    "Or you would create a giant list of numbers one through a million, and then slowly pick off those numbers from memory.\n",
    "\n",
    "range itself is a generator and it's just remembering the last number it sent out and then the step size to generate the new number. That way it doesn't have to store this huge list in memory and it makes it a lot more efficient."
   ]
  },
  {
   "cell_type": "code",
   "execution_count": 1,
   "id": "f56ac63b",
   "metadata": {},
   "outputs": [
    {
     "name": "stdout",
     "output_type": "stream",
     "text": [
      "[0, 1, 8, 27, 64]\n"
     ]
    }
   ],
   "source": [
    "def cubes(n):\n",
    "    result = []\n",
    "    for num in range(n):\n",
    "        result.append(num**3)\n",
    "    return result\n",
    "        \n",
    "print(cubes(5))"
   ]
  },
  {
   "cell_type": "markdown",
   "id": "e6be0bb7",
   "metadata": {},
   "source": [
    "When we actually work with a normal function, we have to create an empty list and then we go for every number from zero up to that value. We append the cubed value to this result. So we're keeping this entire list in memory. Now, that may be useful if you actually want the list"
   ]
  },
  {
   "cell_type": "code",
   "execution_count": 2,
   "id": "8bdaa17d",
   "metadata": {},
   "outputs": [
    {
     "name": "stdout",
     "output_type": "stream",
     "text": [
      "0\n",
      "1\n",
      "8\n",
      "27\n",
      "64\n",
      "125\n"
     ]
    }
   ],
   "source": [
    "for x in cubes(6):\n",
    "    print(x)"
   ]
  },
  {
   "cell_type": "markdown",
   "id": "c542721d",
   "metadata": {},
   "source": [
    "We actually really only needed one value at a time to print them. We didn't need that whole list stored in memory.\n",
    "In fact, we just need the previous value and then whatever the formula is to get to the next value in order to generate all these cubes. So instead of actually creating this giant list in memory, it would be better if we just yielded the actual cubed numbers."
   ]
  },
  {
   "cell_type": "code",
   "execution_count": 3,
   "id": "483b5cbc",
   "metadata": {},
   "outputs": [],
   "source": [
    "def cubes(n):\n",
    "    \n",
    "    for num in range(n):\n",
    "        yield num**3"
   ]
  },
  {
   "cell_type": "code",
   "execution_count": 4,
   "id": "4f17069a",
   "metadata": {},
   "outputs": [
    {
     "name": "stdout",
     "output_type": "stream",
     "text": [
      "0\n",
      "1\n",
      "8\n",
      "27\n",
      "64\n",
      "125\n"
     ]
    }
   ],
   "source": [
    "for x in cubes(6):\n",
    "    print(x)"
   ]
  },
  {
   "cell_type": "markdown",
   "id": "83765458",
   "metadata": {},
   "source": [
    "this is more memory efficient.\n",
    "\n",
    "if I had passed in a really big number here, it would have had to create that entire list in memory of the cube numbers for eg from 0 to 10000. And then from there, if we wanted to iterate through it, we would have had that list in memory.\n",
    "\n",
    "But now I don't have this list in memory instead of just yielding the values as they come.\n",
    "\n",
    "cubes Here is a generator that's generating those values as you need them."
   ]
  },
  {
   "cell_type": "code",
   "execution_count": 5,
   "id": "1c45b9ac",
   "metadata": {},
   "outputs": [
    {
     "data": {
      "text/plain": [
       "<generator object cubes at 0x00000185AC722040>"
      ]
     },
     "execution_count": 5,
     "metadata": {},
     "output_type": "execute_result"
    }
   ],
   "source": [
    "cubes(6)"
   ]
  },
  {
   "cell_type": "markdown",
   "id": "536cd4ad",
   "metadata": {},
   "source": [
    "if I were just to call create cubes by itself, I no longer see that list.\n",
    "\n",
    "I just see, hey, you have a generator object here at this location in memory and you need to iterate through it if you actually want to list the numbers."
   ]
  },
  {
   "cell_type": "code",
   "execution_count": 6,
   "id": "94748491",
   "metadata": {},
   "outputs": [
    {
     "data": {
      "text/plain": [
       "[0, 1, 8, 27, 64, 125]"
      ]
     },
     "execution_count": 6,
     "metadata": {},
     "output_type": "execute_result"
    }
   ],
   "source": [
    "list(cubes(6))"
   ]
  },
  {
   "cell_type": "markdown",
   "id": "b128534a",
   "metadata": {},
   "source": [
    "if you do end up just wanting the actual list itself, you could cast it to a list and then get back to list."
   ]
  },
  {
   "cell_type": "markdown",
   "id": "1888e705",
   "metadata": {},
   "source": [
    "### fibonacci sequence"
   ]
  },
  {
   "cell_type": "code",
   "execution_count": 7,
   "id": "5615aacb",
   "metadata": {},
   "outputs": [],
   "source": [
    "# Generate a fibonnaci sequence up to n\n",
    "def genfibon(n):\n",
    "    \n",
    "    a = 1\n",
    "    b = 1\n",
    "    for i in range(n):\n",
    "        yield a\n",
    "        a,b = b,a+b"
   ]
  },
  {
   "cell_type": "code",
   "execution_count": 8,
   "id": "4c1b831d",
   "metadata": {},
   "outputs": [
    {
     "name": "stdout",
     "output_type": "stream",
     "text": [
      "1\n",
      "1\n",
      "2\n",
      "3\n",
      "5\n",
      "8\n",
      "13\n"
     ]
    }
   ],
   "source": [
    "for num in genfibon(7):\n",
    "    print(num)"
   ]
  },
  {
   "cell_type": "markdown",
   "id": "428f62ef",
   "metadata": {},
   "source": [
    "## next()"
   ]
  },
  {
   "cell_type": "markdown",
   "id": "9579c76a",
   "metadata": {},
   "source": [
    "The next() function allows us to access the next element in a sequence."
   ]
  },
  {
   "cell_type": "code",
   "execution_count": 9,
   "id": "25c83e6b",
   "metadata": {},
   "outputs": [],
   "source": [
    "def simple_gen():\n",
    "    for x in range(3):\n",
    "        yield x\n",
    "        \n",
    "# Assign simple_gen \n",
    "g = simple_gen()"
   ]
  },
  {
   "cell_type": "code",
   "execution_count": 10,
   "id": "53f49974",
   "metadata": {},
   "outputs": [
    {
     "name": "stdout",
     "output_type": "stream",
     "text": [
      "0\n",
      "1\n",
      "2\n"
     ]
    }
   ],
   "source": [
    "print(next(g))\n",
    "print(next(g))\n",
    "print(next(g))"
   ]
  },
  {
   "cell_type": "code",
   "execution_count": 11,
   "id": "543772ca",
   "metadata": {},
   "outputs": [
    {
     "ename": "StopIteration",
     "evalue": "",
     "output_type": "error",
     "traceback": [
      "\u001b[1;31m---------------------------------------------------------------------------\u001b[0m",
      "\u001b[1;31mStopIteration\u001b[0m                             Traceback (most recent call last)",
      "\u001b[1;32m~\\AppData\\Local\\Temp\\ipykernel_5572\\2604396719.py\u001b[0m in \u001b[0;36m<module>\u001b[1;34m\u001b[0m\n\u001b[1;32m----> 1\u001b[1;33m \u001b[0mprint\u001b[0m\u001b[1;33m(\u001b[0m\u001b[0mnext\u001b[0m\u001b[1;33m(\u001b[0m\u001b[0mg\u001b[0m\u001b[1;33m)\u001b[0m\u001b[1;33m)\u001b[0m\u001b[1;33m\u001b[0m\u001b[1;33m\u001b[0m\u001b[0m\n\u001b[0m",
      "\u001b[1;31mStopIteration\u001b[0m: "
     ]
    }
   ],
   "source": [
    "print(next(g))"
   ]
  },
  {
   "cell_type": "markdown",
   "id": "59b80de9",
   "metadata": {},
   "source": [
    "After yielding all the values next() caused a StopIteration error. What this error informs us of is that all the values have been yielded.\n",
    "\n",
    "You might be wondering that why don’t we get this error while using a for loop? A for loop automatically catches this error and stops calling next()."
   ]
  },
  {
   "cell_type": "markdown",
   "id": "1a31b7a1",
   "metadata": {},
   "source": [
    "## for iter() check notebooks"
   ]
  }
 ],
 "metadata": {
  "kernelspec": {
   "display_name": "Python 3 (ipykernel)",
   "language": "python",
   "name": "python3"
  },
  "language_info": {
   "codemirror_mode": {
    "name": "ipython",
    "version": 3
   },
   "file_extension": ".py",
   "mimetype": "text/x-python",
   "name": "python",
   "nbconvert_exporter": "python",
   "pygments_lexer": "ipython3",
   "version": "3.9.13"
  }
 },
 "nbformat": 4,
 "nbformat_minor": 5
}
